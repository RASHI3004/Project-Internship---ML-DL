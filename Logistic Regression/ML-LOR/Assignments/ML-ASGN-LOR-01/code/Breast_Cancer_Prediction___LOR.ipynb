{
  "nbformat": 4,
  "nbformat_minor": 0,
  "metadata": {
    "kernelspec": {
      "display_name": "Python 3",
      "language": "python",
      "name": "python3"
    },
    "language_info": {
      "codemirror_mode": {
        "name": "ipython",
        "version": 3
      },
      "file_extension": ".py",
      "mimetype": "text/x-python",
      "name": "python",
      "nbconvert_exporter": "python",
      "pygments_lexer": "ipython3",
      "version": "3.7.0"
    },
    "colab": {
      "name": "Breast_Cancer_Prediction___LOR.ipynb",
      "provenance": [],
      "toc_visible": true
    }
  },
  "cells": [
    {
      "cell_type": "code",
      "metadata": {
        "id": "DxH5J7DSfQWU",
        "colab_type": "code",
        "colab": {
          "resources": {
            "http://localhost:8080/nbextensions/google.colab/files.js": {
              "data": "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",
              "ok": true,
              "headers": [
                [
                  "content-type",
                  "application/javascript"
                ]
              ],
              "status": 200,
              "status_text": ""
            }
          },
          "base_uri": "https://localhost:8080/",
          "height": 73
        },
        "outputId": "bab38e4d-1662-4cee-857c-e29a4668c232"
      },
      "source": [
        "from google.colab import files\n",
        "uploaded = files.upload()"
      ],
      "execution_count": 1,
      "outputs": [
        {
          "output_type": "display_data",
          "data": {
            "text/html": [
              "\n",
              "     <input type=\"file\" id=\"files-3fb7d39c-a5ec-4dcc-9d73-a3e9929d2bb2\" name=\"files[]\" multiple disabled\n",
              "        style=\"border:none\" />\n",
              "     <output id=\"result-3fb7d39c-a5ec-4dcc-9d73-a3e9929d2bb2\">\n",
              "      Upload widget is only available when the cell has been executed in the\n",
              "      current browser session. Please rerun this cell to enable.\n",
              "      </output>\n",
              "      <script src=\"/nbextensions/google.colab/files.js\"></script> "
            ],
            "text/plain": [
              "<IPython.core.display.HTML object>"
            ]
          },
          "metadata": {
            "tags": []
          }
        },
        {
          "output_type": "stream",
          "text": [
            "Saving data.csv to data.csv\n"
          ],
          "name": "stdout"
        }
      ]
    },
    {
      "cell_type": "markdown",
      "metadata": {
        "id": "tWlvxpBUfjb-",
        "colab_type": "text"
      },
      "source": [
        "#IMPORTING LIBRARIES"
      ]
    },
    {
      "cell_type": "code",
      "metadata": {
        "id": "gx3ZFEvIerPI",
        "colab_type": "code",
        "colab": {
          "base_uri": "https://localhost:8080/",
          "height": 70
        },
        "outputId": "df941a7a-7384-454e-ac4a-2ffec4a09dcf"
      },
      "source": [
        "import pandas as pd\n",
        "import numpy as np\n",
        "import matplotlib.pyplot as plt\n",
        "import seaborn\n",
        "from sklearn.model_selection import train_test_split\n",
        "from sklearn.linear_model import LogisticRegression\n",
        "from sklearn import metrics"
      ],
      "execution_count": 2,
      "outputs": [
        {
          "output_type": "stream",
          "text": [
            "/usr/local/lib/python3.6/dist-packages/statsmodels/tools/_testing.py:19: FutureWarning: pandas.util.testing is deprecated. Use the functions in the public API at pandas.testing instead.\n",
            "  import pandas.util.testing as tm\n"
          ],
          "name": "stderr"
        }
      ]
    },
    {
      "cell_type": "code",
      "metadata": {
        "id": "IwxOqVXferPQ",
        "colab_type": "code",
        "colab": {
          "base_uri": "https://localhost:8080/",
          "height": 232
        },
        "outputId": "76294c79-b85a-4253-d94d-1cd9437e047b"
      },
      "source": [
        "dataset= pd.read_csv('data.csv')\n",
        "dataset.head()\n",
        "\n",
        "#benign is represented by 0 in the data\n",
        "#malignant is represented by 1 in the data"
      ],
      "execution_count": 3,
      "outputs": [
        {
          "output_type": "execute_result",
          "data": {
            "text/html": [
              "<div>\n",
              "<style scoped>\n",
              "    .dataframe tbody tr th:only-of-type {\n",
              "        vertical-align: middle;\n",
              "    }\n",
              "\n",
              "    .dataframe tbody tr th {\n",
              "        vertical-align: top;\n",
              "    }\n",
              "\n",
              "    .dataframe thead th {\n",
              "        text-align: right;\n",
              "    }\n",
              "</style>\n",
              "<table border=\"1\" class=\"dataframe\">\n",
              "  <thead>\n",
              "    <tr style=\"text-align: right;\">\n",
              "      <th></th>\n",
              "      <th>id</th>\n",
              "      <th>diagnosis</th>\n",
              "      <th>radius_1ean</th>\n",
              "      <th>texture_1ean</th>\n",
              "      <th>peri1eter_1ean</th>\n",
              "      <th>area_1ean</th>\n",
              "      <th>s1oothness_1ean</th>\n",
              "      <th>co1pactness_1ean</th>\n",
              "      <th>concavity_1ean</th>\n",
              "      <th>concave points_1ean</th>\n",
              "      <th>sy11etry_1ean</th>\n",
              "      <th>fractal_di1ension_1ean</th>\n",
              "      <th>radius_se</th>\n",
              "      <th>texture_se</th>\n",
              "      <th>peri1eter_se</th>\n",
              "      <th>area_se</th>\n",
              "      <th>s1oothness_se</th>\n",
              "      <th>co1pactness_se</th>\n",
              "      <th>concavity_se</th>\n",
              "      <th>concave points_se</th>\n",
              "      <th>sy11etry_se</th>\n",
              "      <th>fractal_di1ension_se</th>\n",
              "      <th>radius_worst</th>\n",
              "      <th>texture_worst</th>\n",
              "      <th>peri1eter_worst</th>\n",
              "      <th>area_worst</th>\n",
              "      <th>s1oothness_worst</th>\n",
              "      <th>co1pactness_worst</th>\n",
              "      <th>concavity_worst</th>\n",
              "      <th>concave points_worst</th>\n",
              "      <th>sy11etry_worst</th>\n",
              "      <th>fractal_di1ension_worst</th>\n",
              "    </tr>\n",
              "  </thead>\n",
              "  <tbody>\n",
              "    <tr>\n",
              "      <th>0</th>\n",
              "      <td>842302</td>\n",
              "      <td>1</td>\n",
              "      <td>17.99</td>\n",
              "      <td>10.38</td>\n",
              "      <td>122.80</td>\n",
              "      <td>1001.0</td>\n",
              "      <td>0.11840</td>\n",
              "      <td>0.27760</td>\n",
              "      <td>0.3001</td>\n",
              "      <td>0.14710</td>\n",
              "      <td>0.2419</td>\n",
              "      <td>0.07871</td>\n",
              "      <td>1.0950</td>\n",
              "      <td>0.9053</td>\n",
              "      <td>8.589</td>\n",
              "      <td>153.40</td>\n",
              "      <td>0.006399</td>\n",
              "      <td>0.04904</td>\n",
              "      <td>0.05373</td>\n",
              "      <td>0.01587</td>\n",
              "      <td>0.03003</td>\n",
              "      <td>0.006193</td>\n",
              "      <td>25.38</td>\n",
              "      <td>17.33</td>\n",
              "      <td>184.60</td>\n",
              "      <td>2019.0</td>\n",
              "      <td>0.1622</td>\n",
              "      <td>0.6656</td>\n",
              "      <td>0.7119</td>\n",
              "      <td>0.2654</td>\n",
              "      <td>0.4601</td>\n",
              "      <td>0.11890</td>\n",
              "    </tr>\n",
              "    <tr>\n",
              "      <th>1</th>\n",
              "      <td>842517</td>\n",
              "      <td>1</td>\n",
              "      <td>20.57</td>\n",
              "      <td>17.77</td>\n",
              "      <td>132.90</td>\n",
              "      <td>1326.0</td>\n",
              "      <td>0.08474</td>\n",
              "      <td>0.07864</td>\n",
              "      <td>0.0869</td>\n",
              "      <td>0.07017</td>\n",
              "      <td>0.1812</td>\n",
              "      <td>0.05667</td>\n",
              "      <td>0.5435</td>\n",
              "      <td>0.7339</td>\n",
              "      <td>3.398</td>\n",
              "      <td>74.08</td>\n",
              "      <td>0.005225</td>\n",
              "      <td>0.01308</td>\n",
              "      <td>0.01860</td>\n",
              "      <td>0.01340</td>\n",
              "      <td>0.01389</td>\n",
              "      <td>0.003532</td>\n",
              "      <td>24.99</td>\n",
              "      <td>23.41</td>\n",
              "      <td>158.80</td>\n",
              "      <td>1956.0</td>\n",
              "      <td>0.1238</td>\n",
              "      <td>0.1866</td>\n",
              "      <td>0.2416</td>\n",
              "      <td>0.1860</td>\n",
              "      <td>0.2750</td>\n",
              "      <td>0.08902</td>\n",
              "    </tr>\n",
              "    <tr>\n",
              "      <th>2</th>\n",
              "      <td>84300903</td>\n",
              "      <td>1</td>\n",
              "      <td>19.69</td>\n",
              "      <td>21.25</td>\n",
              "      <td>130.00</td>\n",
              "      <td>1203.0</td>\n",
              "      <td>0.10960</td>\n",
              "      <td>0.15990</td>\n",
              "      <td>0.1974</td>\n",
              "      <td>0.12790</td>\n",
              "      <td>0.2069</td>\n",
              "      <td>0.05999</td>\n",
              "      <td>0.7456</td>\n",
              "      <td>0.7869</td>\n",
              "      <td>4.585</td>\n",
              "      <td>94.03</td>\n",
              "      <td>0.006150</td>\n",
              "      <td>0.04006</td>\n",
              "      <td>0.03832</td>\n",
              "      <td>0.02058</td>\n",
              "      <td>0.02250</td>\n",
              "      <td>0.004571</td>\n",
              "      <td>23.57</td>\n",
              "      <td>25.53</td>\n",
              "      <td>152.50</td>\n",
              "      <td>1709.0</td>\n",
              "      <td>0.1444</td>\n",
              "      <td>0.4245</td>\n",
              "      <td>0.4504</td>\n",
              "      <td>0.2430</td>\n",
              "      <td>0.3613</td>\n",
              "      <td>0.08758</td>\n",
              "    </tr>\n",
              "    <tr>\n",
              "      <th>3</th>\n",
              "      <td>84348301</td>\n",
              "      <td>1</td>\n",
              "      <td>11.42</td>\n",
              "      <td>20.38</td>\n",
              "      <td>77.58</td>\n",
              "      <td>386.1</td>\n",
              "      <td>0.14250</td>\n",
              "      <td>0.28390</td>\n",
              "      <td>0.2414</td>\n",
              "      <td>0.10520</td>\n",
              "      <td>0.2597</td>\n",
              "      <td>0.09744</td>\n",
              "      <td>0.4956</td>\n",
              "      <td>1.1560</td>\n",
              "      <td>3.445</td>\n",
              "      <td>27.23</td>\n",
              "      <td>0.009110</td>\n",
              "      <td>0.07458</td>\n",
              "      <td>0.05661</td>\n",
              "      <td>0.01867</td>\n",
              "      <td>0.05963</td>\n",
              "      <td>0.009208</td>\n",
              "      <td>14.91</td>\n",
              "      <td>26.50</td>\n",
              "      <td>98.87</td>\n",
              "      <td>567.7</td>\n",
              "      <td>0.2098</td>\n",
              "      <td>0.8663</td>\n",
              "      <td>0.6869</td>\n",
              "      <td>0.2575</td>\n",
              "      <td>0.6638</td>\n",
              "      <td>0.17300</td>\n",
              "    </tr>\n",
              "    <tr>\n",
              "      <th>4</th>\n",
              "      <td>84358402</td>\n",
              "      <td>1</td>\n",
              "      <td>20.29</td>\n",
              "      <td>14.34</td>\n",
              "      <td>135.10</td>\n",
              "      <td>1297.0</td>\n",
              "      <td>0.10030</td>\n",
              "      <td>0.13280</td>\n",
              "      <td>0.1980</td>\n",
              "      <td>0.10430</td>\n",
              "      <td>0.1809</td>\n",
              "      <td>0.05883</td>\n",
              "      <td>0.7572</td>\n",
              "      <td>0.7813</td>\n",
              "      <td>5.438</td>\n",
              "      <td>94.44</td>\n",
              "      <td>0.011490</td>\n",
              "      <td>0.02461</td>\n",
              "      <td>0.05688</td>\n",
              "      <td>0.01885</td>\n",
              "      <td>0.01756</td>\n",
              "      <td>0.005115</td>\n",
              "      <td>22.54</td>\n",
              "      <td>16.67</td>\n",
              "      <td>152.20</td>\n",
              "      <td>1575.0</td>\n",
              "      <td>0.1374</td>\n",
              "      <td>0.2050</td>\n",
              "      <td>0.4000</td>\n",
              "      <td>0.1625</td>\n",
              "      <td>0.2364</td>\n",
              "      <td>0.07678</td>\n",
              "    </tr>\n",
              "  </tbody>\n",
              "</table>\n",
              "</div>"
            ],
            "text/plain": [
              "         id  diagnosis  ...  sy11etry_worst  fractal_di1ension_worst\n",
              "0    842302          1  ...          0.4601                  0.11890\n",
              "1    842517          1  ...          0.2750                  0.08902\n",
              "2  84300903          1  ...          0.3613                  0.08758\n",
              "3  84348301          1  ...          0.6638                  0.17300\n",
              "4  84358402          1  ...          0.2364                  0.07678\n",
              "\n",
              "[5 rows x 32 columns]"
            ]
          },
          "metadata": {
            "tags": []
          },
          "execution_count": 3
        }
      ]
    },
    {
      "cell_type": "markdown",
      "metadata": {
        "id": "vEHCEo0xf7Ar",
        "colab_type": "text"
      },
      "source": [
        "#HANDLING CATEGORICAL DATA"
      ]
    },
    {
      "cell_type": "code",
      "metadata": {
        "id": "NSxPHOKrgH2a",
        "colab_type": "code",
        "colab": {
          "base_uri": "https://localhost:8080/",
          "height": 134
        },
        "outputId": "b384028e-4e5a-4661-8f2d-9d436321c5a9"
      },
      "source": [
        "dataset=dataset.drop(\"id\",1)\n",
        "\n",
        "import pandas as pd \n",
        "from sklearn.preprocessing import LabelEncoder\n",
        "dataset = pd.read_csv('data.csv') \n",
        "x = dataset.iloc[:, :-1].values \n",
        "y = dataset.iloc[:, -1].values \n",
        "labelencoder_X = LabelEncoder()\n",
        "x[:,0] = labelencoder_X.fit_transform(x[:,0])\n",
        "x[:,1] = labelencoder_X.fit_transform(x[:,1])\n",
        "print(x)\n",
        "#Here we are using LabelEncoder"
      ],
      "execution_count": 4,
      "outputs": [
        {
          "output_type": "stream",
          "text": [
            "[[4.100e+01 1.000e+00 1.799e+01 ... 7.119e-01 2.654e-01 4.601e-01]\n",
            " [4.200e+01 1.000e+00 2.057e+01 ... 2.416e-01 1.860e-01 2.750e-01]\n",
            " [4.880e+02 1.000e+00 1.969e+01 ... 4.504e-01 2.430e-01 3.613e-01]\n",
            " ...\n",
            " [3.830e+02 1.000e+00 1.660e+01 ... 3.403e-01 1.418e-01 2.218e-01]\n",
            " [3.840e+02 1.000e+00 2.060e+01 ... 9.387e-01 2.650e-01 4.087e-01]\n",
            " [4.000e+01 0.000e+00 7.760e+00 ... 0.000e+00 0.000e+00 2.871e-01]]\n"
          ],
          "name": "stdout"
        }
      ]
    },
    {
      "cell_type": "code",
      "metadata": {
        "id": "uiNsj5JOjXt3",
        "colab_type": "code",
        "colab": {}
      },
      "source": [
        "x = dataset[['radius_1ean','fractal_di1ension_worst']]\n",
        "#separate the other attributes from the predicting attribute"
      ],
      "execution_count": 5,
      "outputs": []
    },
    {
      "cell_type": "code",
      "metadata": {
        "id": "nOJwVWFzjZeu",
        "colab_type": "code",
        "colab": {}
      },
      "source": [
        "y = dataset[['diagnosis']]\n",
        "#separte the predicting attribute into Y for model training "
      ],
      "execution_count": 6,
      "outputs": []
    },
    {
      "cell_type": "markdown",
      "metadata": {
        "id": "0tBhuZ4whFcA",
        "colab_type": "text"
      },
      "source": [
        "#GRAPHS"
      ]
    },
    {
      "cell_type": "code",
      "metadata": {
        "id": "Nlwy7EyverPd",
        "colab_type": "code",
        "colab": {
          "base_uri": "https://localhost:8080/",
          "height": 296
        },
        "outputId": "204fc6be-93dd-4b4a-8eb8-4422cdab80cd"
      },
      "source": [
        "dataset.plot(x='fractal_di1ension_worst', y='diagnosis' , style='o')\n",
        "plt.title('DIAGNOSIS')\n",
        "plt.show()"
      ],
      "execution_count": 7,
      "outputs": [
        {
          "output_type": "display_data",
          "data": {
            "image/png": "[encoded data removed]",
            "text/plain": [
              "<Figure size 432x288 with 1 Axes>"
            ]
          },
          "metadata": {
            "tags": [],
            "needs_background": "light"
          }
        }
      ]
    },
    {
      "cell_type": "code",
      "metadata": {
        "colab_type": "code",
        "id": "hhG4VzwJ_OHs",
        "colab": {
          "base_uri": "https://localhost:8080/",
          "height": 296
        },
        "outputId": "1efbd82a-50f8-4417-a45c-52404ac67f89"
      },
      "source": [
        "dataset.plot(x='radius_1ean', y='diagnosis' , style='o')\n",
        "plt.title('DIAGNOSIS')\n",
        "plt.show()"
      ],
      "execution_count": 8,
      "outputs": [
        {
          "output_type": "display_data",
          "data": {
            "image/png": "[encoded data removed]",
            "text/plain": [
              "<Figure size 432x288 with 1 Axes>"
            ]
          },
          "metadata": {
            "tags": [],
            "needs_background": "light"
          }
        }
      ]
    },
    {
      "cell_type": "code",
      "metadata": {
        "id": "id4W7kpqerPk",
        "colab_type": "code",
        "colab": {
          "base_uri": "https://localhost:8080/",
          "height": 606
        },
        "outputId": "4a4c66ea-268b-4e11-a629-d7b274969e0b"
      },
      "source": [
        "plt.figure(figsize=(15,10))\n",
        "plt.tight_layout()\n",
        "seaborn.distplot(dataset['diagnosis'])\n",
        "plt.show()"
      ],
      "execution_count": 9,
      "outputs": [
        {
          "output_type": "display_data",
          "data": {
            "image/png": "[encoded data removed]",
            "text/plain": [
              "<Figure size 1080x720 with 1 Axes>"
            ]
          },
          "metadata": {
            "tags": [],
            "needs_background": "light"
          }
        }
      ]
    },
    {
      "cell_type": "markdown",
      "metadata": {
        "id": "sjGL84wcg317",
        "colab_type": "text"
      },
      "source": [
        "#SPLITTING OF DATASET INTO TRAIN AND TEST SET"
      ]
    },
    {
      "cell_type": "code",
      "metadata": {
        "id": "QW3WnnuberPp",
        "colab_type": "code",
        "colab": {}
      },
      "source": [
        "x_train,x_test,y_train,y_test = train_test_split(x,y,test_size=0.2, random_state=0)"
      ],
      "execution_count": 10,
      "outputs": []
    },
    {
      "cell_type": "markdown",
      "metadata": {
        "id": "NrH-Vr5khWpc",
        "colab_type": "text"
      },
      "source": [
        "#NORMALIZING DATA"
      ]
    },
    {
      "cell_type": "code",
      "metadata": {
        "id": "7g_Ms5L1hb9l",
        "colab_type": "code",
        "colab": {
          "base_uri": "https://localhost:8080/",
          "height": 1000
        },
        "outputId": "2d0effe5-cb4b-40e7-bf1f-94903b33a45a"
      },
      "source": [
        "# data normalization with sklearn\n",
        "from sklearn.preprocessing import MinMaxScaler\n",
        "\n",
        "# fit scaler on training data\n",
        "norm = MinMaxScaler().fit(x_train)\n",
        "\n",
        "# transform training data\n",
        "X_train_norm = norm.transform(x_train)\n",
        "\n",
        "# transform testing data\n",
        "X_test_norm = norm.transform(x_test)\n",
        "\n",
        "print(X_train_norm)\n",
        "print(X_test_norm)"
      ],
      "execution_count": 11,
      "outputs": [
        {
          "output_type": "stream",
          "text": [
            "[[0.1452506  0.14167651]\n",
            " [0.18074684 0.14154532]\n",
            " [0.43348005 0.09891119]\n",
            " [0.24605992 0.1227863 ]\n",
            " [0.2493729  0.17703004]\n",
            " [0.29812107 0.11911321]\n",
            " [0.22523546 0.07765971]\n",
            " [0.26925079 0.09077791]\n",
            " [0.34260968 0.58743277]\n",
            " [0.20299115 0.24340811]\n",
            " [0.62563302 0.13957759]\n",
            " [0.21955606 0.24701561]\n",
            " [0.34828908 0.03725567]\n",
            " [0.20393772 0.16515807]\n",
            " [0.15518955 0.26072412]\n",
            " [0.18358654 0.07136298]\n",
            " [0.521984   0.13911846]\n",
            " [0.14667045 0.14384101]\n",
            " [0.2943348  0.1889676 ]\n",
            " [0.29007525 0.34474616]\n",
            " [0.204411   0.48970222]\n",
            " [0.2157698  0.12659058]\n",
            " [0.36722041 0.0952381 ]\n",
            " [0.38189219 0.09510691]\n",
            " [0.76809125 0.20812016]\n",
            " [0.16702163 0.23101141]\n",
            " [0.25363245 0.13695396]\n",
            " [0.30995314 0.11065197]\n",
            " [0.59676274 0.24393283]\n",
            " [0.23044157 0.09858323]\n",
            " [0.20062473 0.06677161]\n",
            " [0.62232003 0.07431457]\n",
            " [0.31279284 0.04978355]\n",
            " [0.45951063 0.13898728]\n",
            " [0.24038052 0.16915912]\n",
            " [0.32604477 0.10553588]\n",
            " [0.26404468 0.1104552 ]\n",
            " [0.34450282 0.34868162]\n",
            " [0.09692839 0.40968123]\n",
            " [0.30664016 0.20733307]\n",
            " [0.13701548 0.12304867]\n",
            " [0.36911354 0.22346845]\n",
            " [0.33409059 0.11347239]\n",
            " [0.31373941 0.15715598]\n",
            " [0.27161721 0.0341729 ]\n",
            " [0.40271665 0.30735931]\n",
            " [0.60102229 0.15833661]\n",
            " [0.25173932 0.11170143]\n",
            " [0.18879265 0.26420045]\n",
            " [0.48696105 0.16004198]\n",
            " [0.21056368 0.08271022]\n",
            " [0.47654882 0.2333071 ]\n",
            " [0.31847224 0.39393939]\n",
            " [0.52103744 0.19670733]\n",
            " [0.31847224 0.23133937]\n",
            " [0.29906763 0.07569198]\n",
            " [0.1113162  0.12390135]\n",
            " [0.21340338 0.24111242]\n",
            " [0.16607506 0.1533517 ]\n",
            " [0.2493729  0.17237308]\n",
            " [0.5361825  0.09405746]\n",
            " [0.         0.2543618 ]\n",
            " [0.13280326 0.22851896]\n",
            " [0.2886554  0.17571822]\n",
            " [0.19731175 0.08316936]\n",
            " [0.3842586  0.15538502]\n",
            " [0.55132756 0.28059819]\n",
            " [0.22192248 0.2260265 ]\n",
            " [0.30806001 0.09268005]\n",
            " [0.31373941 0.12416372]\n",
            " [0.28439585 0.30080021]\n",
            " [0.16702163 0.08349731]\n",
            " [0.36816697 0.17598059]\n",
            " [0.26309811 0.13341204]\n",
            " [0.57877798 0.18299882]\n",
            " [0.17838043 0.08297258]\n",
            " [0.15093    0.16502689]\n",
            " [0.5333428  0.18785255]\n",
            " [0.28486914 0.34212252]\n",
            " [0.18453311 0.3473698 ]\n",
            " [0.15471627 0.27535091]\n",
            " [0.60338871 0.48970222]\n",
            " [0.77187751 0.2136954 ]\n",
            " [0.2943348  0.11111111]\n",
            " [0.31515926 0.06598452]\n",
            " [0.37905249 0.        ]\n",
            " [0.27871646 0.14633346]\n",
            " [0.15518955 0.14548078]\n",
            " [0.49074731 0.06631248]\n",
            " [0.78228974 0.14653024]\n",
            " [0.58777036 0.1497442 ]\n",
            " [0.20583085 0.05785124]\n",
            " [0.24747977 0.12895186]\n",
            " [0.12754981 0.53364817]\n",
            " [0.64409106 0.22924046]\n",
            " [0.30238061 0.13931523]\n",
            " [0.29196838 0.20523416]\n",
            " [0.24605992 0.03495999]\n",
            " [0.07747645 0.23101141]\n",
            " [0.20204458 0.12554113]\n",
            " [0.76241185 0.1162928 ]\n",
            " [0.18831937 0.18194936]\n",
            " [0.6597094  0.28656697]\n",
            " [0.35728146 0.15125279]\n",
            " [0.48790762 0.12987013]\n",
            " [0.31610583 0.27115309]\n",
            " [0.27682332 0.45428309]\n",
            " [0.21482323 0.10048537]\n",
            " [0.30522031 0.12245835]\n",
            " [0.26688438 0.11976912]\n",
            " [0.32036537 0.05358783]\n",
            " [0.24038052 0.15702479]\n",
            " [0.23233471 0.12114653]\n",
            " [0.43300677 0.44772399]\n",
            " [0.19967817 0.02630198]\n",
            " [0.60717497 0.13846255]\n",
            " [0.44105258 0.11321002]\n",
            " [0.27824317 0.19998688]\n",
            " [0.31515926 0.16535485]\n",
            " [0.59392304 0.13537977]\n",
            " [0.18169341 0.13918405]\n",
            " [0.23470112 0.12488522]\n",
            " [0.2522126  0.138069  ]\n",
            " [0.35964788 0.4752722 ]\n",
            " [0.19399877 0.11865407]\n",
            " [0.29764778 0.04604486]\n",
            " [0.46377017 0.11307884]\n",
            " [0.62989256 0.14259478]\n",
            " [0.25031947 0.09130264]\n",
            " [0.66775522 0.48117539]\n",
            " [0.16560178 0.14718615]\n",
            " [0.19399877 0.55922865]\n",
            " [0.14430404 0.16771612]\n",
            " [0.43868617 0.23822642]\n",
            " [0.25883856 0.454939  ]\n",
            " [0.4320602  0.17407845]\n",
            " [0.43915945 0.1606323 ]\n",
            " [0.24842633 0.1751279 ]\n",
            " [0.27398362 0.16810967]\n",
            " [0.26499124 0.06080283]\n",
            " [0.8173127  0.16430539]\n",
            " [0.41407544 0.17558704]\n",
            " [0.3956174  0.29135511]\n",
            " [0.31563254 0.21080939]\n",
            " [0.61096124 0.23822642]\n",
            " [0.20961711 0.19801915]\n",
            " [0.30096076 0.30539158]\n",
            " [0.5896635  0.22989637]\n",
            " [0.29291495 0.09320478]\n",
            " [0.27918974 0.11399711]\n",
            " [0.12788111 0.15846779]\n",
            " [0.22570874 0.16286239]\n",
            " [0.11557575 0.09609078]\n",
            " [0.34260968 0.15033451]\n",
            " [0.27966302 0.10645415]\n",
            " [0.2607317  0.04394595]\n",
            " [0.28060959 0.09477896]\n",
            " [0.27398362 0.08966286]\n",
            " [0.09318946 0.14548078]\n",
            " [0.32746462 0.1439066 ]\n",
            " [0.19636519 0.10356815]\n",
            " [0.77093095 0.24157156]\n",
            " [0.22050263 0.23566837]\n",
            " [0.28202944 0.15282697]\n",
            " [0.10374367 0.19585465]\n",
            " [0.29007525 0.56054047]\n",
            " [0.27351034 0.18030959]\n",
            " [0.1566094  0.18227732]\n",
            " [0.32746462 0.13767546]\n",
            " [0.22381561 0.15099042]\n",
            " [0.30616688 0.07208448]\n",
            " [0.33503715 0.07247803]\n",
            " [0.69236594 0.29948839]\n",
            " [0.19210564 0.11694871]\n",
            " [0.57735813 0.24380165]\n",
            " [0.23280799 0.31850977]\n",
            " [0.28486914 0.0610652 ]\n",
            " [0.30758673 0.34146661]\n",
            " [0.10951772 0.22812541]\n",
            " [0.41502201 0.32769251]\n",
            " [0.4883809  0.17112685]\n",
            " [0.12717119 0.1555162 ]\n",
            " [0.32367836 0.41492851]\n",
            " [0.60149557 0.21343303]\n",
            " [0.31137299 0.17532468]\n",
            " [0.31705239 0.14941624]\n",
            " [0.22807516 0.31457431]\n",
            " [0.20772398 0.09773055]\n",
            " [0.25741871 0.08389086]\n",
            " [0.1930522  0.23455333]\n",
            " [0.56031994 0.18431064]\n",
            " [0.08258791 0.30604749]\n",
            " [0.36106773 0.01252788]\n",
            " [0.22807516 0.17165158]\n",
            " [0.13834067 0.4011544 ]\n",
            " [0.51441147 0.02407189]\n",
            " [0.49642671 0.24898334]\n",
            " [0.63699181 0.08074249]\n",
            " [0.0336031  0.33818707]\n",
            " [0.24795305 0.2187459 ]\n",
            " [0.16560178 0.27167782]\n",
            " [0.22381561 0.1206218 ]\n",
            " [0.52293057 0.17847304]\n",
            " [0.59013678 0.2260265 ]\n",
            " [0.27351034 0.11373475]\n",
            " [0.24747977 0.21776204]\n",
            " [0.29244167 0.12626263]\n",
            " [0.23754082 0.17643972]\n",
            " [0.33030432 0.16089466]\n",
            " [0.20062473 0.11826053]\n",
            " [0.41312888 0.10278106]\n",
            " [0.58161768 0.37557392]\n",
            " [0.25457901 0.24642529]\n",
            " [0.35160206 0.21612226]\n",
            " [0.29291495 0.26984127]\n",
            " [0.07652989 0.14482487]\n",
            " [0.3534952  0.30342385]\n",
            " [0.4348999  0.22668241]\n",
            " [0.31421269 0.09504132]\n",
            " [0.22570874 0.14777647]\n",
            " [0.13067348 0.16430539]\n",
            " [0.60670169 0.18044077]\n",
            " [0.6204269  0.26006821]\n",
            " [0.22618202 0.09254887]\n",
            " [0.32273179 0.31457431]\n",
            " [0.32131194 0.08461236]\n",
            " [0.46187704 0.20523416]\n",
            " [0.25931185 0.09996065]\n",
            " [0.50115954 0.1584022 ]\n",
            " [0.47796867 0.23324151]\n",
            " [0.32509821 0.0922865 ]\n",
            " [0.23706754 0.18017841]\n",
            " [0.28723555 0.07057589]\n",
            " [0.35444176 0.30998295]\n",
            " [0.15234985 0.1511872 ]\n",
            " [0.55038099 0.1257379 ]\n",
            " [0.35112878 0.06296734]\n",
            " [0.16986133 0.42607897]\n",
            " [0.50636566 0.14653024]\n",
            " [0.27398362 0.06427916]\n",
            " [0.27682332 0.15072806]\n",
            " [0.37715935 0.10776597]\n",
            " [1.         0.00137741]\n",
            " [0.16607506 0.13433032]\n",
            " [0.37006011 0.11681753]\n",
            " [0.16986133 0.08080808]\n",
            " [0.6682285  0.12600026]\n",
            " [0.32557149 0.3335957 ]\n",
            " [0.26830423 0.31654204]\n",
            " [0.25173932 0.05260396]\n",
            " [0.34118983 0.31195068]\n",
            " [0.13564296 0.24301456]\n",
            " [0.25978513 0.2129083 ]\n",
            " [0.12239103 0.17539027]\n",
            " [0.40460978 0.42870261]\n",
            " [0.20488428 0.07457694]\n",
            " [0.45761749 0.26629936]\n",
            " [0.23233471 0.18765578]\n",
            " [0.59392304 0.29024006]\n",
            " [0.41502201 0.33687525]\n",
            " [0.60622841 0.19421488]\n",
            " [0.63841166 0.05785124]\n",
            " [0.26735766 0.19559229]\n",
            " [0.18074684 0.14397219]\n",
            " [0.31279284 0.09969828]\n",
            " [0.1930522  0.40508986]\n",
            " [0.3056936  0.10770038]\n",
            " [0.51819774 0.16030434]\n",
            " [0.3028539  0.14239801]\n",
            " [0.27824317 0.15833661]\n",
            " [0.282976   0.11432507]\n",
            " [0.25363245 0.03082776]\n",
            " [0.23896067 0.10055096]\n",
            " [0.41975484 0.05135773]\n",
            " [0.27966302 0.09254887]\n",
            " [0.33740357 0.10356815]\n",
            " [0.55274741 0.19362456]\n",
            " [0.21387666 0.06447593]\n",
            " [0.26688438 0.26767677]\n",
            " [0.54470159 0.25849403]\n",
            " [0.57783142 0.04899646]\n",
            " [0.57357187 0.24262102]\n",
            " [0.37337309 0.33753116]\n",
            " [0.31752568 0.14410337]\n",
            " [0.27776989 0.17361931]\n",
            " [0.48080837 0.3335957 ]\n",
            " [0.13232997 0.19441165]\n",
            " [0.31989209 0.09904237]\n",
            " [0.13015287 0.46477765]\n",
            " [0.36438071 0.17788272]\n",
            " [0.33125089 0.33097206]\n",
            " [0.28392257 0.24019415]\n",
            " [0.20630413 0.21828676]\n",
            " [0.12712386 0.19808474]\n",
            " [0.23138814 0.29174866]\n",
            " [0.20346443 0.08395645]\n",
            " [0.63888494 0.10645415]\n",
            " [0.63083913 0.16364948]\n",
            " [0.88735861 0.21717172]\n",
            " [0.22002934 0.11255411]\n",
            " [0.53192295 0.17670209]\n",
            " [0.63225898 0.31063886]\n",
            " [0.35964788 0.10127246]\n",
            " [0.17364759 0.17335695]\n",
            " [0.2072507  0.14698937]\n",
            " [0.21908278 0.12613144]\n",
            " [0.25978513 0.14147973]\n",
            " [0.31042643 0.11511216]\n",
            " [0.43963273 0.17683327]\n",
            " [0.18595296 0.07470812]\n",
            " [0.31799896 0.09550046]\n",
            " [0.17648729 0.20969435]\n",
            " [0.45051825 0.06329529]\n",
            " [0.16370865 0.18135904]\n",
            " [0.37337309 0.07182212]\n",
            " [0.2100904  0.77371114]\n",
            " [0.50967864 0.23422537]\n",
            " [0.32509821 0.11006166]\n",
            " [0.57641157 0.27653155]\n",
            " [0.23470112 0.29365079]\n",
            " [0.52387714 0.36573527]\n",
            " [0.3927777  0.27994228]\n",
            " [0.38851815 0.08277581]\n",
            " [0.25883856 0.31719795]\n",
            " [0.15045672 0.08120163]\n",
            " [0.23233471 0.03469763]\n",
            " [0.27161721 0.093008  ]\n",
            " [0.64219793 0.13544536]\n",
            " [0.41265559 0.20510298]\n",
            " [0.47512897 0.19532992]\n",
            " [0.21151025 0.21953299]\n",
            " [0.09555587 0.15085924]\n",
            " [0.41076246 0.30735931]\n",
            " [0.41644186 0.32638069]\n",
            " [0.26309811 0.00111505]\n",
            " [0.34166312 0.15440115]\n",
            " [0.35491505 0.08802309]\n",
            " [0.17128118 0.136626  ]\n",
            " [0.34402953 0.30407976]\n",
            " [0.25363245 0.42935852]\n",
            " [0.28723555 0.05148892]\n",
            " [0.18784609 0.26905418]\n",
            " [0.34592267 0.04040404]\n",
            " [0.19210564 0.15590975]\n",
            " [0.22618202 0.06946084]\n",
            " [0.39230442 0.12921422]\n",
            " [0.37053339 0.04184704]\n",
            " [0.2157698  0.17250426]\n",
            " [0.20251787 0.13833137]\n",
            " [0.83529746 0.27331759]\n",
            " [0.59676274 0.0385019 ]\n",
            " [0.35586161 0.16410862]\n",
            " [0.15140328 0.21599108]\n",
            " [0.19778503 0.10619179]\n",
            " [0.34402953 0.38147711]\n",
            " [0.03686876 0.10068215]\n",
            " [0.30664016 0.10212515]\n",
            " [0.2465332  0.24511347]\n",
            " [0.22381561 0.10448642]\n",
            " [0.6710682  0.13262495]\n",
            " [0.24511335 0.14593992]\n",
            " [0.4012968  0.33884298]\n",
            " [0.29812107 0.31260659]\n",
            " [0.443419   0.26957891]\n",
            " [0.24227365 0.10343697]\n",
            " [0.52103744 0.41886396]\n",
            " [0.25599886 0.37229437]\n",
            " [0.49973969 0.15499147]\n",
            " [0.18737281 0.14613669]\n",
            " [0.69709877 0.06493506]\n",
            " [0.96734346 0.12613144]\n",
            " [0.2408538  0.1671258 ]\n",
            " [0.21860949 0.21330185]\n",
            " [0.32651806 0.0733963 ]\n",
            " [0.2351744  0.13682277]\n",
            " [0.21198353 0.13997114]\n",
            " [0.27067064 0.25974026]\n",
            " [0.28250272 0.26761118]\n",
            " [0.28534242 0.02223534]\n",
            " [0.71129727 0.20136429]\n",
            " [0.59486961 0.29817657]\n",
            " [0.38236547 0.17906336]\n",
            " [0.52529699 0.06913289]\n",
            " [0.62847272 0.18785255]\n",
            " [0.36012116 0.16397744]\n",
            " [0.25363245 0.23468451]\n",
            " [0.37810592 0.06060606]\n",
            " [0.27445691 0.05942542]\n",
            " [0.21860949 0.0813984 ]\n",
            " [0.23990724 0.18345796]\n",
            " [0.12423683 0.2834186 ]\n",
            " [0.64645748 0.1017316 ]\n",
            " [0.27540347 0.10160042]\n",
            " [0.47465569 0.06329529]\n",
            " [0.32509821 0.09235209]\n",
            " [0.32935775 0.11471861]\n",
            " [0.37952577 0.18745901]\n",
            " [0.35302191 0.14292273]\n",
            " [0.28013631 0.17145481]\n",
            " [0.9578778  0.16909353]\n",
            " [0.4012968  0.1649613 ]\n",
            " [0.29291495 0.41230487]\n",
            " [0.24700648 0.16115702]\n",
            " [0.32320507 0.35130526]\n",
            " [0.23754082 0.15873016]\n",
            " [0.1930522  0.23966942]\n",
            " [0.39703725 0.08684245]\n",
            " [0.86322117 0.32834842]\n",
            " [0.37479294 0.39656303]\n",
            " [0.5191443  0.03981372]\n",
            " [0.37763264 0.19467401]\n",
            " [0.36580056 0.35655254]\n",
            " [0.62373988 0.02813853]\n",
            " [0.39467083 0.42017578]\n",
            " [0.32178522 0.08566181]\n",
            " [0.57215202 0.31982159]\n",
            " [0.20299115 0.32310114]\n",
            " [0.4770221  0.13741309]\n",
            " [0.13067348 0.17519349]\n",
            " [0.22239576 0.16528926]\n",
            " [0.53192295 0.16286239]\n",
            " [0.3449761  0.1867375 ]\n",
            " [0.3842586  0.14921947]\n",
            " [0.39372427 0.28676374]\n",
            " [0.20961711 0.12613144]\n",
            " [0.13128875 0.11196379]\n",
            " [0.22523546 0.28696051]\n",
            " [0.05859246 0.61366916]\n",
            " [0.58777036 0.13839696]\n",
            " [0.29480808 0.06158993]\n",
            " [0.32604477 0.19598583]\n",
            " [0.65071702 0.17801391]\n",
            " [0.20251787 0.09871442]\n",
            " [0.31610583 0.2187459 ]\n",
            " [0.37715935 0.24360488]\n",
            " [0.44862511 0.26334776]\n",
            " [0.35207535 0.25245966]\n",
            " [0.35728146 0.12849272]\n",
            " [0.25647215 0.25285321]\n",
            " [0.23422784 0.19919979]\n",
            " [0.48364807 0.51725043]\n",
            " [0.22286904 0.29292929]\n",
            " [0.17412088 0.04329004]\n",
            " [0.5697856  0.24819625]\n",
            " [0.19636519 0.16581398]\n",
            " [0.36248758 0.07162534]\n",
            " [0.07648256 0.17132363]\n",
            " [0.30900658 0.14311951]\n",
            " [0.3757395  0.18162141]\n",
            " [0.56599934 0.07116621]\n",
            " [0.55984666 0.0152827 ]\n",
            " [0.25931185 1.        ]\n",
            " [0.11619102 0.17263545]\n",
            " [0.12963226 0.06919848]\n",
            " [0.21434995 0.21172767]]\n",
            "[[0.30380046 0.36639118]\n",
            " [0.29480808 0.08421881]\n",
            " [0.33314402 0.07910272]\n",
            " [0.34450282 0.1424636 ]\n",
            " [0.28628899 0.043618  ]\n",
            " [0.20630413 0.08389086]\n",
            " [0.23990724 0.2521973 ]\n",
            " [0.22334233 0.09536928]\n",
            " [0.03540158 0.29083038]\n",
            " [0.15518955 0.19572347]\n",
            " [0.36485399 0.24294897]\n",
            " [0.36154101 0.11425948]\n",
            " [0.11434521 0.24281779]\n",
            " [0.46660987 0.03069658]\n",
            " [0.36248758 0.1947396 ]\n",
            " [0.4012968  0.30145612]\n",
            " [0.09754366 0.33097206]\n",
            " [0.64030479 0.18522891]\n",
            " [0.59486961 0.13760986]\n",
            " [0.66065597 0.15381084]\n",
            " [0.22996829 0.55857274]\n",
            " [0.43821288 0.33621934]\n",
            " [0.30711345 0.25068871]\n",
            " [0.22996829 0.16325594]\n",
            " [0.68100715 0.20739866]\n",
            " [0.23422784 0.11530893]\n",
            " [0.18547967 0.14305392]\n",
            " [0.31941881 0.57759412]\n",
            " [0.30380046 0.13629805]\n",
            " [0.55795352 0.2863702 ]\n",
            " [0.27587676 0.11904762]\n",
            " [0.64314449 0.22287813]\n",
            " [0.2914951  0.1751279 ]\n",
            " [0.43442662 0.13872491]\n",
            " [0.13048417 0.17361931]\n",
            " [0.26972408 0.31523022]\n",
            " [0.29764778 0.13898728]\n",
            " [0.56883904 0.06801784]\n",
            " [0.37289981 0.08677686]\n",
            " [0.38331204 0.25803489]\n",
            " [0.38567845 0.04335563]\n",
            " [0.08978182 0.12639381]\n",
            " [0.42780065 0.19336219]\n",
            " [0.15802925 0.1242949 ]\n",
            " [0.29622793 0.45821855]\n",
            " [0.68999953 0.10566706]\n",
            " [0.07998485 0.15374524]\n",
            " [0.3336173  0.13859373]\n",
            " [0.22854844 0.07031352]\n",
            " [0.35775474 0.51856225]\n",
            " [0.57688485 0.30998295]\n",
            " [0.37289981 0.20969435]\n",
            " [0.54280846 0.13813459]\n",
            " [0.21860949 0.15472911]\n",
            " [0.25931185 0.1482356 ]\n",
            " [0.21245681 0.21376099]\n",
            " [0.20535757 0.10383051]\n",
            " [0.25031947 0.08126722]\n",
            " [0.24605992 0.090122  ]\n",
            " [0.69899191 0.21999213]\n",
            " [0.32131194 0.25114784]\n",
            " [0.43016707 0.05791683]\n",
            " [0.19683847 0.09930474]\n",
            " [0.27871646 0.10219074]\n",
            " [0.50257939 0.44182081]\n",
            " [0.23943395 0.07444576]\n",
            " [0.72360263 0.28105733]\n",
            " [0.49595343 0.1962482 ]\n",
            " [0.64361778 0.02367834]\n",
            " [0.11756354 0.24314574]\n",
            " [0.35207535 0.21382658]\n",
            " [0.43300677 0.38803621]\n",
            " [0.21482323 0.1511872 ]\n",
            " [0.36059444 0.08736718]\n",
            " [0.55227413 0.24144038]\n",
            " [0.28486914 0.0516201 ]\n",
            " [0.07525202 0.3270366 ]\n",
            " [0.28723555 0.18450741]\n",
            " [0.22144919 0.08664568]\n",
            " [0.08296654 0.22045127]\n",
            " [0.45525108 0.1519087 ]\n",
            " [0.62468645 0.29253575]\n",
            " [0.41644186 0.46018628]\n",
            " [0.257892   0.02807294]\n",
            " [0.42827394 0.23743933]\n",
            " [0.25268588 0.08310376]\n",
            " [0.3085333  0.04512659]\n",
            " [0.0575039  0.12495081]\n",
            " [0.48317478 0.13551095]\n",
            " [0.64456434 0.45231536]\n",
            " [0.11940934 0.14882592]\n",
            " [0.38520517 0.27784337]\n",
            " [0.37905249 0.24576938]\n",
            " [0.389938   0.56316411]\n",
            " [0.11472384 0.18365473]\n",
            " [0.13701548 0.19585465]\n",
            " [0.40318993 0.32638069]\n",
            " [0.27966302 0.41164896]\n",
            " [0.21718964 0.18234291]\n",
            " [0.21056368 0.17001181]\n",
            " [0.0902551  0.34999344]\n",
            " [0.25457901 0.11025843]\n",
            " [0.37810592 0.03810836]\n",
            " [0.33456387 0.18476978]\n",
            " [0.54328175 0.20169225]\n",
            " [0.10823986 0.46018628]\n",
            " [0.51725117 0.42476715]\n",
            " [0.27918974 0.22228781]\n",
            " [0.40839604 0.08690804]\n",
            " [0.4940603  0.08618654]\n",
            " [0.27303706 0.20024925]\n",
            " [0.62468645 0.1686344 ]\n",
            " [0.5361825  0.15472911]\n",
            " [0.3814189  0.19972452]]\n"
          ],
          "name": "stdout"
        }
      ]
    },
    {
      "cell_type": "markdown",
      "metadata": {
        "id": "KPutFJGTmNo5",
        "colab_type": "text"
      },
      "source": [
        "#ALGORITHM"
      ]
    },
    {
      "cell_type": "code",
      "metadata": {
        "id": "vFi-tcMqerPu",
        "colab_type": "code",
        "colab": {}
      },
      "source": [
        "model =LogisticRegression()\n",
        "#loading the model constructor"
      ],
      "execution_count": 12,
      "outputs": []
    },
    {
      "cell_type": "markdown",
      "metadata": {
        "id": "b3RgJD5smZrs",
        "colab_type": "text"
      },
      "source": [
        "#FITTING OF TRAINING DATA"
      ]
    },
    {
      "cell_type": "code",
      "metadata": {
        "id": "UdX5CEPmmGrQ",
        "colab_type": "code",
        "colab": {
          "base_uri": "https://localhost:8080/",
          "height": 154
        },
        "outputId": "4969972e-d1a4-4294-cf9e-9a5e2ac75e46"
      },
      "source": [
        "model.fit(x_train,y_train)"
      ],
      "execution_count": 13,
      "outputs": [
        {
          "output_type": "stream",
          "text": [
            "/usr/local/lib/python3.6/dist-packages/sklearn/utils/validation.py:760: DataConversionWarning: A column-vector y was passed when a 1d array was expected. Please change the shape of y to (n_samples, ), for example using ravel().\n",
            "  y = column_or_1d(y, warn=True)\n"
          ],
          "name": "stderr"
        },
        {
          "output_type": "execute_result",
          "data": {
            "text/plain": [
              "LogisticRegression(C=1.0, class_weight=None, dual=False, fit_intercept=True,\n",
              "                   intercept_scaling=1, l1_ratio=None, max_iter=100,\n",
              "                   multi_class='auto', n_jobs=None, penalty='l2',\n",
              "                   random_state=None, solver='lbfgs', tol=0.0001, verbose=0,\n",
              "                   warm_start=False)"
            ]
          },
          "metadata": {
            "tags": []
          },
          "execution_count": 13
        }
      ]
    },
    {
      "cell_type": "code",
      "metadata": {
        "id": "jXIwak09erP0",
        "colab_type": "code",
        "colab": {
          "base_uri": "https://localhost:8080/",
          "height": 34
        },
        "outputId": "47d73306-f0a1-45c6-825e-ae94253b886b"
      },
      "source": [
        "print('Intercept is :',model.intercept_)"
      ],
      "execution_count": 14,
      "outputs": [
        {
          "output_type": "stream",
          "text": [
            "Intercept is : [-14.65524534]\n"
          ],
          "name": "stdout"
        }
      ]
    },
    {
      "cell_type": "code",
      "metadata": {
        "id": "gbupPhPverP6",
        "colab_type": "code",
        "colab": {
          "base_uri": "https://localhost:8080/",
          "height": 34
        },
        "outputId": "816f1ecc-7b8a-42e4-d9cd-9be28460eb76"
      },
      "source": [
        "print('Coefficient is :' ,model.coef_)"
      ],
      "execution_count": 15,
      "outputs": [
        {
          "output_type": "stream",
          "text": [
            "Coefficient is : [[0.9842272  1.12422973]]\n"
          ],
          "name": "stdout"
        }
      ]
    },
    {
      "cell_type": "markdown",
      "metadata": {
        "id": "o-cluciU1p2t",
        "colab_type": "text"
      },
      "source": [
        "#PREDICTIONS FOR OUR PROBLEM STATEMENT WITH THE RELATED GRAPHS"
      ]
    },
    {
      "cell_type": "code",
      "metadata": {
        "id": "BybKCPF3erP_",
        "colab_type": "code",
        "colab": {}
      },
      "source": [
        "predictions = model.predict(x_test)"
      ],
      "execution_count": 16,
      "outputs": []
    },
    {
      "cell_type": "code",
      "metadata": {
        "id": "HW2LsP0verQD",
        "colab_type": "code",
        "colab": {
          "base_uri": "https://localhost:8080/",
          "height": 282
        },
        "outputId": "2c0d1682-f54c-4085-ddfd-c3fe075ee515"
      },
      "source": [
        "plt.scatter(y_test,predictions)\n",
        "#to visualise the predictions and the test Y !!it is almost forming a linear line with less deviation"
      ],
      "execution_count": 17,
      "outputs": [
        {
          "output_type": "execute_result",
          "data": {
            "text/plain": [
              "<matplotlib.collections.PathCollection at 0x7f4d3d500eb8>"
            ]
          },
          "metadata": {
            "tags": []
          },
          "execution_count": 17
        },
        {
          "output_type": "display_data",
          "data": {
            "image/png": "[encoded data removed]",
            "text/plain": [
              "<Figure size 432x288 with 1 Axes>"
            ]
          },
          "metadata": {
            "tags": [],
            "needs_background": "light"
          }
        }
      ]
    },
    {
      "cell_type": "markdown",
      "metadata": {
        "id": "SB4WdwNj3vAA",
        "colab_type": "text"
      },
      "source": [
        "#EVALUATION"
      ]
    },
    {
      "cell_type": "code",
      "metadata": {
        "id": "j_oc2FDOerQR",
        "colab_type": "code",
        "colab": {
          "base_uri": "https://localhost:8080/",
          "height": 34
        },
        "outputId": "17087eaf-3354-4e3e-8a5f-583a94ffba5b"
      },
      "source": [
        "\n",
        "print(metrics.accuracy_score(y_test, predictions))"
      ],
      "execution_count": 19,
      "outputs": [
        {
          "output_type": "stream",
          "text": [
            "0.8947368421052632\n"
          ],
          "name": "stdout"
        }
      ]
    },
    {
      "cell_type": "markdown",
      "metadata": {
        "id": "1MtwOs8s32yH",
        "colab_type": "text"
      },
      "source": [
        "#SAVING THE MODEL USING PICKLE LIBRARY"
      ]
    },
    {
      "cell_type": "code",
      "metadata": {
        "id": "n566N2XPerQX",
        "colab_type": "code",
        "colab": {
          "base_uri": "https://localhost:8080/",
          "height": 118
        },
        "outputId": "1d8a82fa-2181-4639-a67e-0e2199d22d33"
      },
      "source": [
        "import pickle \n",
        "\n",
        "# Save the trained model as a pickle string. \n",
        "saved_model = pickle.dumps(model) \n",
        "\n",
        "# Load the pickled model \n",
        "model_from_pickle = pickle.loads(saved_model) \n",
        "\n",
        "# Use the loaded pickled model to make predictions \n",
        "model_from_pickle.predict(x_test) \n"
      ],
      "execution_count": 20,
      "outputs": [
        {
          "output_type": "execute_result",
          "data": {
            "text/plain": [
              "array([0, 0, 0, 0, 0, 0, 0, 0, 0, 0, 0, 0, 0, 1, 0, 1, 0, 1, 1, 1, 0, 1,\n",
              "       0, 0, 1, 0, 0, 0, 0, 1, 0, 1, 0, 1, 0, 0, 0, 1, 1, 1, 1, 0, 1, 0,\n",
              "       0, 1, 0, 0, 0, 0, 1, 1, 1, 0, 0, 0, 0, 0, 0, 1, 0, 1, 0, 0, 1, 0,\n",
              "       1, 1, 1, 0, 0, 1, 0, 0, 1, 0, 0, 0, 0, 0, 1, 1, 1, 0, 1, 0, 0, 0,\n",
              "       1, 1, 0, 1, 1, 1, 0, 0, 1, 0, 0, 0, 0, 0, 1, 0, 1, 0, 1, 0, 1, 1,\n",
              "       0, 1, 1, 1])"
            ]
          },
          "metadata": {
            "tags": []
          },
          "execution_count": 20
        }
      ]
    },
    {
      "cell_type": "markdown",
      "metadata": {
        "id": "mFWoLpNq4IyM",
        "colab_type": "text"
      },
      "source": [
        "#ACCURACY w.r.t TRAINED DATA"
      ]
    },
    {
      "cell_type": "markdown",
      "metadata": {
        "id": "wO8TkezT4Nn_",
        "colab_type": "text"
      },
      "source": [
        "Confusion Matrix"
      ]
    },
    {
      "cell_type": "code",
      "metadata": {
        "id": "FQI1Tybq7bNc",
        "colab_type": "code",
        "colab": {}
      },
      "source": [
        "y_train = y_train[0:74]"
      ],
      "execution_count": 21,
      "outputs": []
    },
    {
      "cell_type": "code",
      "metadata": {
        "id": "sJoV2M6gerQb",
        "colab_type": "code",
        "colab": {
          "base_uri": "https://localhost:8080/",
          "height": 50
        },
        "outputId": "0b748b9c-39af-40e1-9ed4-c19b65f4735e"
      },
      "source": [
        "from sklearn.metrics import confusion_matrix\n",
        "\n",
        "predictions=predictions[0:74]\n",
        "\n",
        "results =confusion_matrix(y_train, predictions)\n",
        "print(results)"
      ],
      "execution_count": 22,
      "outputs": [
        {
          "output_type": "stream",
          "text": [
            "[[35 19]\n",
            " [13  7]]\n"
          ],
          "name": "stdout"
        }
      ]
    },
    {
      "cell_type": "markdown",
      "metadata": {
        "id": "j08PP52c62Ix",
        "colab_type": "text"
      },
      "source": [
        "Precision, Recall, Support, Fscore"
      ]
    },
    {
      "cell_type": "code",
      "metadata": {
        "id": "Scg5pgNBerQf",
        "colab_type": "code",
        "colab": {
          "base_uri": "https://localhost:8080/",
          "height": 34
        },
        "outputId": "ff294d17-1a46-4dc9-eb0c-dcb7a11e7d9c"
      },
      "source": [
        "import numpy\n",
        "from sklearn.metrics import precision_recall_fscore_support\n",
        "\n",
        "\n",
        "precision_recall_fscore_support(y_train, predictions, average='macro')"
      ],
      "execution_count": 23,
      "outputs": [
        {
          "output_type": "execute_result",
          "data": {
            "text/plain": [
              "(0.49919871794871795, 0.49907407407407406, 0.49531116794543895, None)"
            ]
          },
          "metadata": {
            "tags": []
          },
          "execution_count": 23
        }
      ]
    },
    {
      "cell_type": "markdown",
      "metadata": {
        "id": "R6zsRmL569BU",
        "colab_type": "text"
      },
      "source": [
        "#ACCURACY w.r.t TEST DATA"
      ]
    },
    {
      "cell_type": "markdown",
      "metadata": {
        "id": "tsgObRRB7AI0",
        "colab_type": "text"
      },
      "source": [
        "Confusion Matrix"
      ]
    },
    {
      "cell_type": "code",
      "metadata": {
        "id": "Siyi3_Xi7DTP",
        "colab_type": "code",
        "colab": {
          "base_uri": "https://localhost:8080/",
          "height": 50
        },
        "outputId": "fb7d199b-dfd7-4773-9a9a-7f26d3941b0f"
      },
      "source": [
        "y_test=y_test[0:74]\n",
        "\n",
        "results =confusion_matrix(y_test, predictions)\n",
        "print(results)"
      ],
      "execution_count": 24,
      "outputs": [
        {
          "output_type": "stream",
          "text": [
            "[[41  2]\n",
            " [ 7 24]]\n"
          ],
          "name": "stdout"
        }
      ]
    },
    {
      "cell_type": "markdown",
      "metadata": {
        "id": "8SdwrK2C7JK_",
        "colab_type": "text"
      },
      "source": [
        "Precision, Recall, Support, Fscore"
      ]
    },
    {
      "cell_type": "code",
      "metadata": {
        "id": "E3YP_Nn87L3X",
        "colab_type": "code",
        "colab": {
          "base_uri": "https://localhost:8080/",
          "height": 34
        },
        "outputId": "7ddc96a5-1248-43d4-fa79-0d7e2959aa13"
      },
      "source": [
        "import numpy\n",
        "from sklearn.metrics import precision_recall_fscore_support\n",
        "\n",
        "\n",
        "precision_recall_fscore_support(y_test, predictions, average='macro')"
      ],
      "execution_count": 25,
      "outputs": [
        {
          "output_type": "execute_result",
          "data": {
            "text/plain": [
              "(0.8886217948717949, 0.8638409602400601, 0.8716020821283978, None)"
            ]
          },
          "metadata": {
            "tags": []
          },
          "execution_count": 25
        }
      ]
    }
  ]
}