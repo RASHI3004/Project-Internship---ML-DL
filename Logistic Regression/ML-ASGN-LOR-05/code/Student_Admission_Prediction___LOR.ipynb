{
  "nbformat": 4,
  "nbformat_minor": 0,
  "metadata": {
    "kernelspec": {
      "display_name": "Python 3",
      "language": "python",
      "name": "python3"
    },
    "language_info": {
      "codemirror_mode": {
        "name": "ipython",
        "version": 3
      },
      "file_extension": ".py",
      "mimetype": "text/x-python",
      "name": "python",
      "nbconvert_exporter": "python",
      "pygments_lexer": "ipython3",
      "version": "3.7.0"
    },
    "colab": {
      "name": "Student_Admission_Prediction___LOR.ipynb",
      "provenance": [],
      "toc_visible": true
    }
  },
  "cells": [
    {
      "cell_type": "code",
      "metadata": {
        "id": "DxH5J7DSfQWU",
        "colab_type": "code",
        "colab": {
          "resources": {
            "http://localhost:8080/nbextensions/google.colab/files.js": {
              "data": "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",
              "ok": true,
              "headers": [
                [
                  "content-type",
                  "application/javascript"
                ]
              ],
              "status": 200,
              "status_text": ""
            }
          },
          "base_uri": "https://localhost:8080/",
          "height": 73
        },
        "outputId": "73edd60d-1181-49eb-dcbc-0c885cae337f"
      },
      "source": [
        "from google.colab import files\n",
        "uploaded = files.upload()"
      ],
      "execution_count": 1,
      "outputs": [
        {
          "output_type": "display_data",
          "data": {
            "text/html": [
              "\n",
              "     <input type=\"file\" id=\"files-d1553feb-ed4b-46ff-862e-e13afdb53c35\" name=\"files[]\" multiple disabled\n",
              "        style=\"border:none\" />\n",
              "     <output id=\"result-d1553feb-ed4b-46ff-862e-e13afdb53c35\">\n",
              "      Upload widget is only available when the cell has been executed in the\n",
              "      current browser session. Please rerun this cell to enable.\n",
              "      </output>\n",
              "      <script src=\"/nbextensions/google.colab/files.js\"></script> "
            ],
            "text/plain": [
              "<IPython.core.display.HTML object>"
            ]
          },
          "metadata": {
            "tags": []
          }
        },
        {
          "output_type": "stream",
          "text": [
            "Saving binary (1).csv to binary (1).csv\n"
          ],
          "name": "stdout"
        }
      ]
    },
    {
      "cell_type": "markdown",
      "metadata": {
        "id": "tWlvxpBUfjb-",
        "colab_type": "text"
      },
      "source": [
        "#IMPORTING LIBRARIES"
      ]
    },
    {
      "cell_type": "code",
      "metadata": {
        "id": "gx3ZFEvIerPI",
        "colab_type": "code",
        "colab": {
          "base_uri": "https://localhost:8080/",
          "height": 70
        },
        "outputId": "35c1d07e-897a-4b7d-970f-b2803311ecea"
      },
      "source": [
        "import pandas as pd\n",
        "import numpy as np\n",
        "import matplotlib.pyplot as plt\n",
        "import seaborn\n",
        "from sklearn.model_selection import train_test_split\n",
        "from sklearn.linear_model import LogisticRegression\n",
        "from sklearn import metrics"
      ],
      "execution_count": 2,
      "outputs": [
        {
          "output_type": "stream",
          "text": [
            "/usr/local/lib/python3.6/dist-packages/statsmodels/tools/_testing.py:19: FutureWarning: pandas.util.testing is deprecated. Use the functions in the public API at pandas.testing instead.\n",
            "  import pandas.util.testing as tm\n"
          ],
          "name": "stderr"
        }
      ]
    },
    {
      "cell_type": "code",
      "metadata": {
        "id": "IwxOqVXferPQ",
        "colab_type": "code",
        "colab": {
          "base_uri": "https://localhost:8080/",
          "height": 195
        },
        "outputId": "ec6351dd-184b-457c-9cc4-0ee0ed75a410"
      },
      "source": [
        "dataset= pd.read_csv('binary (1).csv')\n",
        "dataset.head()"
      ],
      "execution_count": 3,
      "outputs": [
        {
          "output_type": "execute_result",
          "data": {
            "text/html": [
              "<div>\n",
              "<style scoped>\n",
              "    .dataframe tbody tr th:only-of-type {\n",
              "        vertical-align: middle;\n",
              "    }\n",
              "\n",
              "    .dataframe tbody tr th {\n",
              "        vertical-align: top;\n",
              "    }\n",
              "\n",
              "    .dataframe thead th {\n",
              "        text-align: right;\n",
              "    }\n",
              "</style>\n",
              "<table border=\"1\" class=\"dataframe\">\n",
              "  <thead>\n",
              "    <tr style=\"text-align: right;\">\n",
              "      <th></th>\n",
              "      <th>admit</th>\n",
              "      <th>gre</th>\n",
              "      <th>gpa</th>\n",
              "      <th>rank</th>\n",
              "    </tr>\n",
              "  </thead>\n",
              "  <tbody>\n",
              "    <tr>\n",
              "      <th>0</th>\n",
              "      <td>0</td>\n",
              "      <td>380</td>\n",
              "      <td>3.61</td>\n",
              "      <td>3</td>\n",
              "    </tr>\n",
              "    <tr>\n",
              "      <th>1</th>\n",
              "      <td>1</td>\n",
              "      <td>660</td>\n",
              "      <td>3.67</td>\n",
              "      <td>3</td>\n",
              "    </tr>\n",
              "    <tr>\n",
              "      <th>2</th>\n",
              "      <td>1</td>\n",
              "      <td>800</td>\n",
              "      <td>4.00</td>\n",
              "      <td>1</td>\n",
              "    </tr>\n",
              "    <tr>\n",
              "      <th>3</th>\n",
              "      <td>1</td>\n",
              "      <td>640</td>\n",
              "      <td>3.19</td>\n",
              "      <td>4</td>\n",
              "    </tr>\n",
              "    <tr>\n",
              "      <th>4</th>\n",
              "      <td>0</td>\n",
              "      <td>520</td>\n",
              "      <td>2.93</td>\n",
              "      <td>4</td>\n",
              "    </tr>\n",
              "  </tbody>\n",
              "</table>\n",
              "</div>"
            ],
            "text/plain": [
              "   admit  gre   gpa  rank\n",
              "0      0  380  3.61     3\n",
              "1      1  660  3.67     3\n",
              "2      1  800  4.00     1\n",
              "3      1  640  3.19     4\n",
              "4      0  520  2.93     4"
            ]
          },
          "metadata": {
            "tags": []
          },
          "execution_count": 3
        }
      ]
    },
    {
      "cell_type": "markdown",
      "metadata": {
        "id": "vEHCEo0xf7Ar",
        "colab_type": "text"
      },
      "source": [
        "#HANDLING CATEGORICAL DATA"
      ]
    },
    {
      "cell_type": "code",
      "metadata": {
        "id": "NSxPHOKrgH2a",
        "colab_type": "code",
        "colab": {
          "base_uri": "https://localhost:8080/",
          "height": 134
        },
        "outputId": "abd55391-54a1-497d-db63-002391c8a3a4"
      },
      "source": [
        "import pandas as pd \n",
        "from sklearn.preprocessing import LabelEncoder\n",
        "dataset = pd.read_csv('binary (1).csv') \n",
        "x = dataset.iloc[:, :-1].values \n",
        "y = dataset.iloc[:, -1].values \n",
        "labelencoder_X = LabelEncoder()\n",
        "x[:,0] = labelencoder_X.fit_transform(x[:,0])\n",
        "x[:,1] = labelencoder_X.fit_transform(x[:,1])\n",
        "print(x)\n",
        "#Here we are using LabelEncoder"
      ],
      "execution_count": 4,
      "outputs": [
        {
          "output_type": "stream",
          "text": [
            "[[ 0.    4.    3.61]\n",
            " [ 1.   18.    3.67]\n",
            " [ 1.   25.    4.  ]\n",
            " ...\n",
            " [ 0.    8.    2.63]\n",
            " [ 0.   20.    3.65]\n",
            " [ 0.   15.    3.89]]\n"
          ],
          "name": "stdout"
        }
      ]
    },
    {
      "cell_type": "code",
      "metadata": {
        "id": "uiNsj5JOjXt3",
        "colab_type": "code",
        "colab": {}
      },
      "source": [
        "x = dataset[['gre',\t'gpa','rank'\t]]\n",
        "#separate the other attributes from the predicting attribute"
      ],
      "execution_count": 5,
      "outputs": []
    },
    {
      "cell_type": "code",
      "metadata": {
        "id": "nOJwVWFzjZeu",
        "colab_type": "code",
        "colab": {}
      },
      "source": [
        "y = dataset[['admit']]\n",
        "#separte the predicting attribute into Y for model training "
      ],
      "execution_count": 6,
      "outputs": []
    },
    {
      "cell_type": "markdown",
      "metadata": {
        "id": "0tBhuZ4whFcA",
        "colab_type": "text"
      },
      "source": [
        "#GRAPHS"
      ]
    },
    {
      "cell_type": "code",
      "metadata": {
        "id": "Nlwy7EyverPd",
        "colab_type": "code",
        "colab": {
          "base_uri": "https://localhost:8080/",
          "height": 295
        },
        "outputId": "132aedea-670b-49c1-da58-cbe3dd5b0eb1"
      },
      "source": [
        "dataset.plot(x='rank', y='admit' , style='o')\n",
        "plt.title('rank vs admit')\n",
        "plt.show()"
      ],
      "execution_count": 7,
      "outputs": [
        {
          "output_type": "display_data",
          "data": {
            "image/png": "[encoded data removed]",
            "text/plain": [
              "<Figure size 432x288 with 1 Axes>"
            ]
          },
          "metadata": {
            "tags": [],
            "needs_background": "light"
          }
        }
      ]
    },
    {
      "cell_type": "code",
      "metadata": {
        "id": "id4W7kpqerPk",
        "colab_type": "code",
        "colab": {
          "base_uri": "https://localhost:8080/",
          "height": 606
        },
        "outputId": "291653e3-d613-4d41-be58-892d2ccc703e"
      },
      "source": [
        "plt.figure(figsize=(15,10))\n",
        "plt.tight_layout()\n",
        "seaborn.distplot(dataset['admit'])\n",
        "plt.show()"
      ],
      "execution_count": 8,
      "outputs": [
        {
          "output_type": "display_data",
          "data": {
            "image/png": "[encoded data removed]",
            "text/plain": [
              "<Figure size 1080x720 with 1 Axes>"
            ]
          },
          "metadata": {
            "tags": [],
            "needs_background": "light"
          }
        }
      ]
    },
    {
      "cell_type": "markdown",
      "metadata": {
        "id": "sjGL84wcg317",
        "colab_type": "text"
      },
      "source": [
        "#SPLITTING OF DATASET INTO TRAIN AND TEST SET"
      ]
    },
    {
      "cell_type": "code",
      "metadata": {
        "id": "QW3WnnuberPp",
        "colab_type": "code",
        "colab": {}
      },
      "source": [
        "x_train,x_test,y_train,y_test = train_test_split(x,y,test_size=0.2, random_state=0)"
      ],
      "execution_count": 9,
      "outputs": []
    },
    {
      "cell_type": "markdown",
      "metadata": {
        "id": "NrH-Vr5khWpc",
        "colab_type": "text"
      },
      "source": [
        "#NORMALIZING DATA"
      ]
    },
    {
      "cell_type": "code",
      "metadata": {
        "id": "7g_Ms5L1hb9l",
        "colab_type": "code",
        "colab": {
          "base_uri": "https://localhost:8080/",
          "height": 1000
        },
        "outputId": "0dd60df3-42eb-4108-d184-9357abab3cef"
      },
      "source": [
        "# data normalization with sklearn\n",
        "from sklearn.preprocessing import MinMaxScaler\n",
        "\n",
        "# fit scaler on training data\n",
        "norm = MinMaxScaler().fit(x_train)\n",
        "\n",
        "# transform training data\n",
        "X_train_norm = norm.transform(x_train)\n",
        "\n",
        "# transform testing data\n",
        "X_test_norm = norm.transform(x_test)\n",
        "\n",
        "print(X_train_norm)\n",
        "print(X_test_norm)"
      ],
      "execution_count": 10,
      "outputs": [
        {
          "output_type": "stream",
          "text": [
            "[[0.44       0.51149425 0.66666667]\n",
            " [0.56       1.         0.66666667]\n",
            " [0.88       1.         0.66666667]\n",
            " [0.8        0.74712644 0.        ]\n",
            " [0.68       0.59770115 0.33333333]\n",
            " [0.84       0.66666667 0.33333333]\n",
            " [0.44       0.33908046 0.66666667]\n",
            " [0.64       0.63793103 0.        ]\n",
            " [0.64       1.         0.33333333]\n",
            " [0.76       0.94252874 0.        ]\n",
            " [0.8        0.79885057 0.33333333]\n",
            " [0.48       0.74137931 1.        ]\n",
            " [0.52       0.53448276 0.66666667]\n",
            " [0.48       0.64942529 0.66666667]\n",
            " [0.68       0.3908046  0.33333333]\n",
            " [0.36       0.65517241 0.33333333]\n",
            " [0.4        0.75287356 0.66666667]\n",
            " [1.         0.45402299 0.33333333]\n",
            " [0.44       0.94252874 0.66666667]\n",
            " [0.52       0.63218391 0.        ]\n",
            " [0.72       0.60344828 1.        ]\n",
            " [0.76       0.9137931  0.66666667]\n",
            " [0.72       0.86781609 0.66666667]\n",
            " [0.8        0.89655172 0.66666667]\n",
            " [0.44       0.48275862 1.        ]\n",
            " [0.4        0.55747126 1.        ]\n",
            " [0.64       0.46551724 0.33333333]\n",
            " [0.64       0.33908046 0.33333333]\n",
            " [0.56       0.68965517 0.66666667]\n",
            " [0.44       0.56896552 0.66666667]\n",
            " [0.68       0.72413793 1.        ]\n",
            " [0.72       1.         0.33333333]\n",
            " [0.52       0.51724138 0.        ]\n",
            " [0.72       0.78735632 0.33333333]\n",
            " [0.36       0.29885057 0.66666667]\n",
            " [0.08       0.36781609 0.        ]\n",
            " [0.68       0.8908046  0.33333333]\n",
            " [0.2        0.62643678 0.66666667]\n",
            " [0.4        0.34482759 1.        ]\n",
            " [0.56       0.45977011 0.33333333]\n",
            " [1.         0.94252874 0.33333333]\n",
            " [1.         0.6954023  0.66666667]\n",
            " [1.         0.72988506 0.        ]\n",
            " [0.16       0.64367816 0.33333333]\n",
            " [1.         1.         0.33333333]\n",
            " [0.64       0.96551724 1.        ]\n",
            " [0.6        0.32183908 1.        ]\n",
            " [0.44       1.         0.33333333]\n",
            " [0.96       1.         0.33333333]\n",
            " [0.4        1.         0.66666667]\n",
            " [1.         0.85057471 0.        ]\n",
            " [0.64       0.85632184 0.33333333]\n",
            " [0.88       0.7816092  1.        ]\n",
            " [0.28       0.28735632 0.33333333]\n",
            " [0.32       0.4137931  0.        ]\n",
            " [0.56       0.75287356 0.66666667]\n",
            " [0.72       0.81034483 0.33333333]\n",
            " [0.6        0.6954023  0.33333333]\n",
            " [0.76       0.60344828 0.33333333]\n",
            " [0.12       0.17241379 0.66666667]\n",
            " [0.56       0.59770115 0.33333333]\n",
            " [0.52       0.77586207 0.66666667]\n",
            " [0.48       0.87356322 1.        ]\n",
            " [0.84       0.90804598 0.66666667]\n",
            " [0.64       0.97126437 0.66666667]\n",
            " [0.48       0.96551724 0.66666667]\n",
            " [0.52       0.82183908 0.66666667]\n",
            " [1.         0.94827586 0.66666667]\n",
            " [0.64       0.45402299 0.33333333]\n",
            " [0.28       0.68390805 0.33333333]\n",
            " [0.88       1.         0.66666667]\n",
            " [0.44       0.85057471 0.33333333]\n",
            " [0.24       0.         1.        ]\n",
            " [0.12       0.42528736 0.66666667]\n",
            " [0.72       0.37356322 0.66666667]\n",
            " [0.52       0.61494253 1.        ]\n",
            " [0.6        0.4137931  0.33333333]\n",
            " [0.6        0.73563218 0.        ]\n",
            " [0.6        0.78735632 0.66666667]\n",
            " [0.84       0.65517241 0.66666667]\n",
            " [0.12       0.58045977 0.66666667]\n",
            " [0.4        0.47126437 0.66666667]\n",
            " [1.         1.         0.66666667]\n",
            " [0.68       0.49425287 0.66666667]\n",
            " [0.8        0.74712644 0.33333333]\n",
            " [0.12       0.50574713 0.        ]\n",
            " [0.6        0.5862069  0.66666667]\n",
            " [0.36       0.75287356 0.33333333]\n",
            " [0.44       0.4137931  0.33333333]\n",
            " [0.52       0.6091954  1.        ]\n",
            " [0.84       0.86781609 0.66666667]\n",
            " [0.72       0.68390805 1.        ]\n",
            " [1.         0.60344828 0.66666667]\n",
            " [0.72       0.93103448 0.33333333]\n",
            " [0.56       0.59195402 1.        ]\n",
            " [0.72       0.82758621 1.        ]\n",
            " [0.2        0.38505747 0.66666667]\n",
            " [0.56       0.68965517 0.33333333]\n",
            " [0.32       0.50574713 0.66666667]\n",
            " [0.52       0.44827586 0.66666667]\n",
            " [1.         0.36781609 0.33333333]\n",
            " [0.56       1.         0.33333333]\n",
            " [0.8        1.         0.66666667]\n",
            " [0.48       0.70689655 0.33333333]\n",
            " [0.48       0.5862069  0.66666667]\n",
            " [0.88       0.62068966 1.        ]\n",
            " [0.44       0.59195402 0.        ]\n",
            " [0.4        0.93103448 1.        ]\n",
            " [0.44       1.         0.        ]\n",
            " [0.48       0.61494253 0.66666667]\n",
            " [0.28       0.5        1.        ]\n",
            " [0.56       0.62068966 0.33333333]\n",
            " [0.56       0.49425287 0.66666667]\n",
            " [0.44       0.85057471 1.        ]\n",
            " [1.         1.         0.        ]\n",
            " [0.32       0.79310345 0.        ]\n",
            " [0.52       0.14942529 0.33333333]\n",
            " [0.32       0.35057471 0.33333333]\n",
            " [0.64       0.78735632 0.33333333]\n",
            " [0.76       0.99425287 0.66666667]\n",
            " [0.64       0.65517241 0.33333333]\n",
            " [0.72       0.70689655 0.33333333]\n",
            " [0.52       0.76436782 0.33333333]\n",
            " [0.44       0.49425287 0.33333333]\n",
            " [0.76       0.42528736 1.        ]\n",
            " [0.56       0.7183908  0.33333333]\n",
            " [0.8        0.68390805 0.66666667]\n",
            " [0.2        0.45402299 0.33333333]\n",
            " [0.6        0.93678161 0.        ]\n",
            " [0.6        0.64367816 0.66666667]\n",
            " [0.64       0.59770115 0.        ]\n",
            " [0.92       0.62643678 0.33333333]\n",
            " [0.24       0.40229885 0.        ]\n",
            " [0.8        0.3908046  0.33333333]\n",
            " [0.44       0.8908046  0.        ]\n",
            " [0.32       0.51149425 1.        ]\n",
            " [0.56       0.38505747 0.33333333]\n",
            " [0.24       0.66091954 1.        ]\n",
            " [0.28       0.56321839 1.        ]\n",
            " [0.68       0.7183908  0.33333333]\n",
            " [0.72       1.         0.        ]\n",
            " [0.4        0.97126437 1.        ]\n",
            " [0.52       0.09195402 0.33333333]\n",
            " [1.         0.85632184 0.33333333]\n",
            " [0.28       0.64942529 0.33333333]\n",
            " [0.64       1.         0.        ]\n",
            " [0.68       0.84482759 0.66666667]\n",
            " [0.32       0.99425287 0.66666667]\n",
            " [0.         0.37931034 1.        ]\n",
            " [0.8        0.47126437 0.33333333]\n",
            " [0.64       0.78735632 0.66666667]\n",
            " [0.68       0.64367816 0.66666667]\n",
            " [0.24       0.43678161 0.        ]\n",
            " [0.68       0.52298851 0.33333333]\n",
            " [0.36       0.67241379 0.33333333]\n",
            " [0.6        0.5        0.33333333]\n",
            " [0.72       0.97126437 0.33333333]\n",
            " [0.68       0.71264368 0.33333333]\n",
            " [0.16       0.37356322 1.        ]\n",
            " [0.4        0.62643678 0.33333333]\n",
            " [0.32       0.21264368 0.33333333]\n",
            " [1.         0.82758621 0.        ]\n",
            " [0.88       0.72413793 1.        ]\n",
            " [0.52       0.46551724 0.33333333]\n",
            " [0.48       0.51724138 0.66666667]\n",
            " [0.52       0.70689655 1.        ]\n",
            " [0.76       0.47126437 1.        ]\n",
            " [0.88       0.60344828 0.        ]\n",
            " [0.36       0.75862069 0.        ]\n",
            " [0.68       0.96551724 0.33333333]\n",
            " [0.96       0.92528736 1.        ]\n",
            " [0.4        0.31609195 0.66666667]\n",
            " [0.84       1.         0.66666667]\n",
            " [0.36       0.68390805 0.33333333]\n",
            " [0.52       0.70114943 0.33333333]\n",
            " [0.96       0.88505747 0.66666667]\n",
            " [0.         0.33333333 0.33333333]\n",
            " [0.6        0.75862069 0.        ]\n",
            " [0.36       1.         0.33333333]\n",
            " [0.48       0.5862069  0.        ]\n",
            " [0.76       0.79310345 0.66666667]\n",
            " [0.48       0.5        0.33333333]\n",
            " [0.48       0.8908046  0.        ]\n",
            " [0.64       0.75862069 0.33333333]\n",
            " [0.48       0.52298851 0.        ]\n",
            " [0.68       0.53448276 1.        ]\n",
            " [0.32       0.86781609 0.66666667]\n",
            " [0.48       0.64367816 1.        ]\n",
            " [1.         1.         0.66666667]\n",
            " [0.4        0.3045977  1.        ]\n",
            " [0.72       0.77011494 0.66666667]\n",
            " [0.48       0.25287356 0.33333333]\n",
            " [0.6        0.62643678 0.33333333]\n",
            " [0.8        1.         0.33333333]\n",
            " [0.8        0.58045977 0.33333333]\n",
            " [0.8        0.36781609 1.        ]\n",
            " [0.44       0.7183908  0.33333333]\n",
            " [0.28       0.55172414 0.        ]\n",
            " [0.48       0.71264368 0.33333333]\n",
            " [0.6        0.6091954  0.33333333]\n",
            " [0.52       0.56321839 1.        ]\n",
            " [0.56       0.56896552 0.        ]\n",
            " [0.48       0.7183908  0.33333333]\n",
            " [0.2        0.79885057 0.33333333]\n",
            " [0.56       0.6091954  0.33333333]\n",
            " [0.68       0.97126437 0.33333333]\n",
            " [0.68       0.91954023 0.66666667]\n",
            " [0.56       0.71264368 0.33333333]\n",
            " [0.96       0.78735632 1.        ]\n",
            " [0.08       0.42528736 0.33333333]\n",
            " [0.72       0.76436782 0.66666667]\n",
            " [0.4        0.4137931  0.66666667]\n",
            " [0.36       0.43678161 0.        ]\n",
            " [0.68       0.81034483 0.66666667]\n",
            " [0.2        0.51149425 0.33333333]\n",
            " [0.64       0.52298851 0.33333333]\n",
            " [0.56       0.35632184 0.33333333]\n",
            " [0.76       0.53448276 1.        ]\n",
            " [0.4        0.60344828 0.66666667]\n",
            " [0.16       0.77586207 0.66666667]\n",
            " [0.56       0.54022989 0.33333333]\n",
            " [0.72       0.6954023  0.66666667]\n",
            " [0.8        0.35632184 0.33333333]\n",
            " [0.56       0.63218391 0.33333333]\n",
            " [0.64       0.61494253 0.66666667]\n",
            " [0.44       0.59770115 0.33333333]\n",
            " [0.72       0.67816092 0.33333333]\n",
            " [1.         0.93678161 0.33333333]\n",
            " [0.72       0.61494253 0.33333333]\n",
            " [0.64       0.67241379 0.66666667]\n",
            " [0.6        0.7816092  0.66666667]\n",
            " [1.         0.84482759 0.        ]\n",
            " [0.56       0.68965517 1.        ]\n",
            " [0.28       0.12643678 1.        ]\n",
            " [0.68       0.78735632 0.        ]\n",
            " [0.72       0.50574713 0.33333333]\n",
            " [0.48       0.43678161 1.        ]\n",
            " [0.36       0.37356322 0.        ]\n",
            " [0.56       0.65517241 0.66666667]\n",
            " [0.64       0.87356322 0.66666667]\n",
            " [0.68       0.3045977  0.33333333]\n",
            " [0.84       0.60344828 0.        ]\n",
            " [0.8        0.79885057 0.33333333]\n",
            " [0.44       0.53448276 0.66666667]\n",
            " [0.44       0.25287356 0.66666667]\n",
            " [0.24       0.95402299 1.        ]\n",
            " [0.4        0.77011494 0.66666667]\n",
            " [0.36       0.23563218 0.33333333]\n",
            " [0.4        0.44252874 0.66666667]\n",
            " [0.32       0.38505747 0.66666667]\n",
            " [0.84       0.79310345 0.        ]\n",
            " [0.4        0.25862069 0.33333333]\n",
            " [0.6        0.79310345 0.66666667]\n",
            " [0.08       0.37931034 0.66666667]\n",
            " [1.         0.29885057 0.33333333]\n",
            " [0.16       0.3908046  0.66666667]\n",
            " [0.32       0.75862069 0.33333333]\n",
            " [0.64       0.97126437 0.66666667]\n",
            " [0.92       0.31609195 0.        ]\n",
            " [0.6        0.51149425 0.33333333]\n",
            " [0.88       0.40804598 0.33333333]\n",
            " [0.56       1.         0.        ]\n",
            " [0.72       0.6091954  0.        ]\n",
            " [0.8        0.72413793 0.33333333]\n",
            " [0.4        0.5        0.33333333]\n",
            " [0.76       0.58045977 0.33333333]\n",
            " [0.56       0.88505747 0.33333333]\n",
            " [0.48       0.53448276 0.33333333]\n",
            " [0.64       0.68390805 0.33333333]\n",
            " [0.96       0.55172414 0.33333333]\n",
            " [0.48       0.90804598 0.33333333]\n",
            " [0.44       0.27011494 0.33333333]\n",
            " [0.2        0.64367816 0.33333333]\n",
            " [0.48       0.44827586 0.        ]\n",
            " [0.8        1.         0.        ]\n",
            " [0.92       0.62643678 0.66666667]\n",
            " [0.6        0.65517241 0.66666667]\n",
            " [0.88       0.85057471 1.        ]\n",
            " [1.         0.77011494 0.33333333]\n",
            " [0.76       0.09195402 0.        ]\n",
            " [1.         0.51149425 1.        ]\n",
            " [0.76       0.50574713 0.33333333]\n",
            " [0.52       0.25862069 0.66666667]\n",
            " [0.6        0.60344828 1.        ]\n",
            " [0.48       0.86781609 0.33333333]\n",
            " [0.64       0.55747126 0.66666667]\n",
            " [0.2        0.60344828 0.66666667]\n",
            " [0.48       0.54022989 0.        ]\n",
            " [0.64       0.83333333 0.        ]\n",
            " [0.2        0.55747126 1.        ]\n",
            " [0.64       0.55172414 0.33333333]\n",
            " [0.64       0.99425287 0.66666667]\n",
            " [0.16       0.62068966 0.66666667]\n",
            " [0.36       0.64942529 1.        ]\n",
            " [0.52       0.67241379 0.66666667]\n",
            " [1.         0.8045977  0.        ]\n",
            " [0.8        1.         0.        ]\n",
            " [0.64       0.47701149 1.        ]\n",
            " [0.36       0.20689655 0.33333333]\n",
            " [0.4        0.72988506 1.        ]\n",
            " [0.88       0.91954023 0.33333333]\n",
            " [0.44       0.24137931 0.66666667]\n",
            " [0.16       0.76436782 1.        ]\n",
            " [0.48       0.68965517 1.        ]\n",
            " [0.8        0.5862069  0.        ]\n",
            " [0.68       1.         0.66666667]\n",
            " [0.6        0.70114943 0.33333333]\n",
            " [0.76       0.82758621 0.33333333]\n",
            " [0.76       0.40229885 0.66666667]\n",
            " [0.56       0.75862069 0.        ]\n",
            " [0.56       0.43678161 0.33333333]\n",
            " [0.8        0.95402299 0.33333333]\n",
            " [0.84       0.96551724 0.66666667]\n",
            " [0.52       0.76436782 0.33333333]\n",
            " [0.64       0.54597701 1.        ]\n",
            " [0.24       0.24712644 0.33333333]\n",
            " [0.68       0.86206897 0.66666667]\n",
            " [0.8        0.83908046 0.33333333]\n",
            " [0.4        0.40804598 1.        ]\n",
            " [0.76       0.70114943 0.66666667]]\n",
            "[[ 0.56        0.65517241  0.33333333]\n",
            " [ 0.28        0.4137931   0.66666667]\n",
            " [ 0.52        0.22413793  0.66666667]\n",
            " [ 0.72        0.46551724  0.66666667]\n",
            " [ 0.76        0.62068966  0.33333333]\n",
            " [ 0.64        0.52873563  0.33333333]\n",
            " [ 0.56        0.34482759  1.        ]\n",
            " [ 0.28        0.51149425  0.33333333]\n",
            " [ 0.8         0.72413793  1.        ]\n",
            " [ 0.6         0.74712644  0.33333333]\n",
            " [ 0.44        0.36781609  0.66666667]\n",
            " [ 0.52        0.39655172  0.33333333]\n",
            " [ 0.6         0.55172414  0.        ]\n",
            " [ 0.2         0.63218391  0.33333333]\n",
            " [ 0.92        1.          0.        ]\n",
            " [ 0.6         0.32183908  1.        ]\n",
            " [ 1.          0.98275862  0.        ]\n",
            " [ 0.68        0.95977011  0.33333333]\n",
            " [ 0.88        0.73563218  0.        ]\n",
            " [ 0.56        0.86781609  1.        ]\n",
            " [ 0.44        0.20689655  0.33333333]\n",
            " [ 0.76        0.68965517  0.33333333]\n",
            " [ 0.84        0.93103448  0.66666667]\n",
            " [ 0.44        0.62643678  0.66666667]\n",
            " [ 0.64        0.63793103  0.33333333]\n",
            " [ 0.44        0.79885057  1.        ]\n",
            " [ 0.48        0.49425287  0.        ]\n",
            " [ 0.36        0.67816092  0.66666667]\n",
            " [ 1.          0.55172414  0.        ]\n",
            " [ 0.16        0.61494253  1.        ]\n",
            " [ 0.2         0.7183908   0.66666667]\n",
            " [ 0.76        0.98850575  0.33333333]\n",
            " [ 0.32        0.79310345  0.66666667]\n",
            " [ 0.84        0.71264368  0.66666667]\n",
            " [ 0.6         0.76436782  0.33333333]\n",
            " [ 0.52        0.63218391  0.66666667]\n",
            " [ 0.8         0.90229885  0.33333333]\n",
            " [ 1.          0.67241379  0.33333333]\n",
            " [ 0.          0.43103448  0.66666667]\n",
            " [ 0.6         0.93678161  0.66666667]\n",
            " [ 0.08        0.51149425  0.66666667]\n",
            " [ 0.4         0.43103448  1.        ]\n",
            " [ 0.52        0.4137931   0.        ]\n",
            " [ 0.72        0.81034483  0.66666667]\n",
            " [ 0.32        0.46551724  0.33333333]\n",
            " [ 0.72        0.62068966  0.66666667]\n",
            " [ 0.52        0.87356322  0.33333333]\n",
            " [ 0.68        0.62643678  0.66666667]\n",
            " [ 0.72        0.70689655  0.33333333]\n",
            " [ 0.24        0.23563218  0.66666667]\n",
            " [ 0.28        0.52298851  0.33333333]\n",
            " [ 0.56        0.65517241  1.        ]\n",
            " [ 0.36        0.16666667  0.        ]\n",
            " [ 0.48        0.31609195  0.66666667]\n",
            " [ 0.72        0.96551724  0.33333333]\n",
            " [ 0.36        0.83333333  1.        ]\n",
            " [ 0.88        0.63793103  1.        ]\n",
            " [ 1.          1.          1.        ]\n",
            " [ 0.64        0.77586207  0.        ]\n",
            " [ 0.32        0.68390805  0.66666667]\n",
            " [ 0.84        0.68390805  1.        ]\n",
            " [ 0.76        0.81034483  0.33333333]\n",
            " [ 0.44        0.38505747  1.        ]\n",
            " [ 0.48        0.87356322  0.33333333]\n",
            " [ 1.          0.73563218  0.66666667]\n",
            " [ 0.76        0.86206897  0.66666667]\n",
            " [ 0.16        0.67241379  0.66666667]\n",
            " [ 0.92        0.42528736  0.33333333]\n",
            " [ 0.64        0.82183908  0.66666667]\n",
            " [ 0.52        1.          0.66666667]\n",
            " [ 0.2         0.47126437  0.33333333]\n",
            " [ 0.76        0.48850575  0.33333333]\n",
            " [ 0.56        0.82183908  0.        ]\n",
            " [ 0.4         0.52298851  0.66666667]\n",
            " [ 0.36        0.5         0.33333333]\n",
            " [ 0.8         1.          0.        ]\n",
            " [ 0.32        0.67816092  0.33333333]\n",
            " [-0.16        0.32758621  0.66666667]\n",
            " [ 0.48        0.70689655  0.        ]\n",
            " [ 0.4         0.38505747  1.        ]]\n"
          ],
          "name": "stdout"
        }
      ]
    },
    {
      "cell_type": "markdown",
      "metadata": {
        "id": "KPutFJGTmNo5",
        "colab_type": "text"
      },
      "source": [
        "#ALGORITHM"
      ]
    },
    {
      "cell_type": "code",
      "metadata": {
        "id": "vFi-tcMqerPu",
        "colab_type": "code",
        "colab": {}
      },
      "source": [
        "model =LogisticRegression()\n",
        "#loading the model constructor"
      ],
      "execution_count": 11,
      "outputs": []
    },
    {
      "cell_type": "markdown",
      "metadata": {
        "id": "b3RgJD5smZrs",
        "colab_type": "text"
      },
      "source": [
        "#FITTING OF TRAINING DATA"
      ]
    },
    {
      "cell_type": "code",
      "metadata": {
        "id": "UdX5CEPmmGrQ",
        "colab_type": "code",
        "colab": {
          "base_uri": "https://localhost:8080/",
          "height": 154
        },
        "outputId": "fa306c32-08d2-4971-ce49-f72a7910cd0b"
      },
      "source": [
        "model.fit(x_train,y_train)"
      ],
      "execution_count": 12,
      "outputs": [
        {
          "output_type": "stream",
          "text": [
            "/usr/local/lib/python3.6/dist-packages/sklearn/utils/validation.py:760: DataConversionWarning: A column-vector y was passed when a 1d array was expected. Please change the shape of y to (n_samples, ), for example using ravel().\n",
            "  y = column_or_1d(y, warn=True)\n"
          ],
          "name": "stderr"
        },
        {
          "output_type": "execute_result",
          "data": {
            "text/plain": [
              "LogisticRegression(C=1.0, class_weight=None, dual=False, fit_intercept=True,\n",
              "                   intercept_scaling=1, l1_ratio=None, max_iter=100,\n",
              "                   multi_class='auto', n_jobs=None, penalty='l2',\n",
              "                   random_state=None, solver='lbfgs', tol=0.0001, verbose=0,\n",
              "                   warm_start=False)"
            ]
          },
          "metadata": {
            "tags": []
          },
          "execution_count": 12
        }
      ]
    },
    {
      "cell_type": "code",
      "metadata": {
        "id": "jXIwak09erP0",
        "colab_type": "code",
        "colab": {
          "base_uri": "https://localhost:8080/",
          "height": 34
        },
        "outputId": "1883c56f-c383-4314-bfce-62a6a8094a61"
      },
      "source": [
        "print('Intercept is :',model.intercept_)"
      ],
      "execution_count": 13,
      "outputs": [
        {
          "output_type": "stream",
          "text": [
            "Intercept is : [-2.9077738]\n"
          ],
          "name": "stdout"
        }
      ]
    },
    {
      "cell_type": "code",
      "metadata": {
        "id": "gbupPhPverP6",
        "colab_type": "code",
        "colab": {
          "base_uri": "https://localhost:8080/",
          "height": 34
        },
        "outputId": "3d2878d6-7729-4bd0-8ccc-b28fcb390a80"
      },
      "source": [
        "print('Coefficient is :' ,model.coef_)"
      ],
      "execution_count": 14,
      "outputs": [
        {
          "output_type": "stream",
          "text": [
            "Coefficient is : [[ 0.00189081  0.73213499 -0.62606569]]\n"
          ],
          "name": "stdout"
        }
      ]
    },
    {
      "cell_type": "markdown",
      "metadata": {
        "id": "o-cluciU1p2t",
        "colab_type": "text"
      },
      "source": [
        "#PREDICTIONS FOR OUR PROBLEM STATEMENT WITH THE RELATED GRAPHS"
      ]
    },
    {
      "cell_type": "code",
      "metadata": {
        "id": "BybKCPF3erP_",
        "colab_type": "code",
        "colab": {}
      },
      "source": [
        "predictions = model.predict(x_test)"
      ],
      "execution_count": 15,
      "outputs": []
    },
    {
      "cell_type": "code",
      "metadata": {
        "id": "HW2LsP0verQD",
        "colab_type": "code",
        "colab": {
          "base_uri": "https://localhost:8080/",
          "height": 282
        },
        "outputId": "bddf0c27-29de-4885-b102-175115f85075"
      },
      "source": [
        "plt.scatter(y_test,predictions)"
      ],
      "execution_count": 16,
      "outputs": [
        {
          "output_type": "execute_result",
          "data": {
            "text/plain": [
              "<matplotlib.collections.PathCollection at 0x7f0a79d0b7b8>"
            ]
          },
          "metadata": {
            "tags": []
          },
          "execution_count": 16
        },
        {
          "output_type": "display_data",
          "data": {
            "image/png": "[encoded data removed]",
            "text/plain": [
              "<Figure size 432x288 with 1 Axes>"
            ]
          },
          "metadata": {
            "tags": [],
            "needs_background": "light"
          }
        }
      ]
    },
    {
      "cell_type": "markdown",
      "metadata": {
        "id": "SB4WdwNj3vAA",
        "colab_type": "text"
      },
      "source": [
        "#EVALUATION"
      ]
    },
    {
      "cell_type": "code",
      "metadata": {
        "id": "j_oc2FDOerQR",
        "colab_type": "code",
        "colab": {
          "base_uri": "https://localhost:8080/",
          "height": 67
        },
        "outputId": "8c7c69d5-63f3-4350-e136-1c547b86930e"
      },
      "source": [
        "print('Mean abolute error is:', metrics.mean_absolute_error(y_test,predictions))\n",
        "print('Mean squared error is:', metrics.mean_squared_error(y_test,predictions))\n",
        "print('Root mean squared error is:', np.sqrt(metrics.mean_squared_error(y_test,predictions)))"
      ],
      "execution_count": 17,
      "outputs": [
        {
          "output_type": "stream",
          "text": [
            "Mean abolute error is: 0.275\n",
            "Mean squared error is: 0.275\n",
            "Root mean squared error is: 0.5244044240850758\n"
          ],
          "name": "stdout"
        }
      ]
    },
    {
      "cell_type": "code",
      "metadata": {
        "id": "oTCV43JCofN7",
        "colab_type": "code",
        "colab": {
          "base_uri": "https://localhost:8080/",
          "height": 34
        },
        "outputId": "9c3862df-a683-4beb-ba44-962a54cf0ccf"
      },
      "source": [
        "print(metrics.accuracy_score(y_test, predictions))"
      ],
      "execution_count": 18,
      "outputs": [
        {
          "output_type": "stream",
          "text": [
            "0.725\n"
          ],
          "name": "stdout"
        }
      ]
    },
    {
      "cell_type": "markdown",
      "metadata": {
        "id": "1MtwOs8s32yH",
        "colab_type": "text"
      },
      "source": [
        "#SAVING THE MODEL USING PICKLE LIBRARY"
      ]
    },
    {
      "cell_type": "code",
      "metadata": {
        "id": "n566N2XPerQX",
        "colab_type": "code",
        "colab": {
          "base_uri": "https://localhost:8080/",
          "height": 84
        },
        "outputId": "66eac7af-8dd0-43a3-de69-3d95225cfcaf"
      },
      "source": [
        "import pickle \n",
        "\n",
        "# Save the trained model as a pickle string. \n",
        "saved_model = pickle.dumps(model) \n",
        "\n",
        "# Load the pickled model \n",
        "model_from_pickle = pickle.loads(saved_model) \n",
        "\n",
        "# Use the loaded pickled model to make predictions \n",
        "model_from_pickle.predict(x_test) \n"
      ],
      "execution_count": 19,
      "outputs": [
        {
          "output_type": "execute_result",
          "data": {
            "text/plain": [
              "array([0, 0, 0, 0, 0, 0, 0, 0, 0, 0, 0, 0, 0, 0, 1, 0, 1, 0, 1, 0, 0, 0,\n",
              "       0, 0, 0, 0, 0, 0, 1, 0, 0, 1, 0, 0, 0, 0, 0, 0, 0, 0, 0, 0, 0, 0,\n",
              "       0, 0, 0, 0, 0, 0, 0, 0, 0, 0, 0, 0, 0, 0, 1, 0, 0, 0, 0, 0, 0, 0,\n",
              "       0, 0, 0, 0, 0, 0, 1, 0, 0, 1, 0, 0, 1, 0])"
            ]
          },
          "metadata": {
            "tags": []
          },
          "execution_count": 19
        }
      ]
    },
    {
      "cell_type": "markdown",
      "metadata": {
        "id": "mFWoLpNq4IyM",
        "colab_type": "text"
      },
      "source": [
        "#ACCURACY w.r.t TRAINED DATA"
      ]
    },
    {
      "cell_type": "markdown",
      "metadata": {
        "id": "wO8TkezT4Nn_",
        "colab_type": "text"
      },
      "source": [
        "Confusion Matrix"
      ]
    },
    {
      "cell_type": "code",
      "metadata": {
        "id": "sJoV2M6gerQb",
        "colab_type": "code",
        "colab": {
          "base_uri": "https://localhost:8080/",
          "height": 50
        },
        "outputId": "2dc247f9-15fc-4471-81fe-23c4eb637420"
      },
      "source": [
        "from sklearn.metrics import confusion_matrix\n",
        "y_train = y_train[0:80]\n",
        "results =confusion_matrix(y_train, predictions)\n",
        "print(results)"
      ],
      "execution_count": 20,
      "outputs": [
        {
          "output_type": "stream",
          "text": [
            "[[47  6]\n",
            " [24  3]]\n"
          ],
          "name": "stdout"
        }
      ]
    },
    {
      "cell_type": "markdown",
      "metadata": {
        "id": "j08PP52c62Ix",
        "colab_type": "text"
      },
      "source": [
        "Precision, Recall, Support, Fscore"
      ]
    },
    {
      "cell_type": "code",
      "metadata": {
        "id": "Scg5pgNBerQf",
        "colab_type": "code",
        "colab": {
          "base_uri": "https://localhost:8080/",
          "height": 34
        },
        "outputId": "7a457157-d6f0-48d9-eb94-04d08a65169d"
      },
      "source": [
        "import numpy\n",
        "from sklearn.metrics import precision_recall_fscore_support\n",
        "\n",
        "\n",
        "precision_recall_fscore_support(y_train, predictions, average='macro')"
      ],
      "execution_count": 21,
      "outputs": [
        {
          "output_type": "execute_result",
          "data": {
            "text/plain": [
              "(0.4976525821596244, 0.49895178197064993, 0.46236559139784944, None)"
            ]
          },
          "metadata": {
            "tags": []
          },
          "execution_count": 21
        }
      ]
    },
    {
      "cell_type": "markdown",
      "metadata": {
        "id": "R6zsRmL569BU",
        "colab_type": "text"
      },
      "source": [
        "#ACCURACY w.r.t TEST DATA"
      ]
    },
    {
      "cell_type": "markdown",
      "metadata": {
        "id": "tsgObRRB7AI0",
        "colab_type": "text"
      },
      "source": [
        "Confusion Matrix"
      ]
    },
    {
      "cell_type": "code",
      "metadata": {
        "id": "Siyi3_Xi7DTP",
        "colab_type": "code",
        "colab": {
          "base_uri": "https://localhost:8080/",
          "height": 50
        },
        "outputId": "99b2c0b1-4292-467d-99b4-2f30955dd3e0"
      },
      "source": [
        "results =confusion_matrix(y_test, predictions)\n",
        "print(results)"
      ],
      "execution_count": 22,
      "outputs": [
        {
          "output_type": "stream",
          "text": [
            "[[52  3]\n",
            " [19  6]]\n"
          ],
          "name": "stdout"
        }
      ]
    },
    {
      "cell_type": "markdown",
      "metadata": {
        "id": "8SdwrK2C7JK_",
        "colab_type": "text"
      },
      "source": [
        "Precision, Recall, Support, Fscore"
      ]
    },
    {
      "cell_type": "code",
      "metadata": {
        "id": "E3YP_Nn87L3X",
        "colab_type": "code",
        "colab": {
          "base_uri": "https://localhost:8080/",
          "height": 34
        },
        "outputId": "d73da895-8f00-443f-f0aa-244bbd882b38"
      },
      "source": [
        "import numpy\n",
        "from sklearn.metrics import precision_recall_fscore_support\n",
        "\n",
        "\n",
        "precision_recall_fscore_support(y_test, predictions, average='macro')"
      ],
      "execution_count": 23,
      "outputs": [
        {
          "output_type": "execute_result",
          "data": {
            "text/plain": [
              "(0.6995305164319249, 0.5927272727272728, 0.5891690009337067, None)"
            ]
          },
          "metadata": {
            "tags": []
          },
          "execution_count": 23
        }
      ]
    }
  ]
}