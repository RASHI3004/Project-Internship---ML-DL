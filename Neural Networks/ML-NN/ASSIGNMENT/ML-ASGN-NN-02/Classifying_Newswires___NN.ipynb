{
  "nbformat": 4,
  "nbformat_minor": 0,
  "metadata": {
    "kernelspec": {
      "display_name": "Python 3",
      "language": "python",
      "name": "python3"
    },
    "language_info": {
      "codemirror_mode": {
        "name": "ipython",
        "version": 3
      },
      "file_extension": ".py",
      "mimetype": "text/x-python",
      "name": "python",
      "nbconvert_exporter": "python",
      "pygments_lexer": "ipython3",
      "version": "3.6.1"
    },
    "colab": {
      "name": "Classifying Newswires _ NN.ipynb",
      "provenance": [],
      "collapsed_sections": [],
      "toc_visible": true
    }
  },
  "cells": [
    {
      "cell_type": "markdown",
      "metadata": {
        "id": "dvjrFo0_0IXN",
        "colab_type": "text"
      },
      "source": [
        "#IMPORTING LIBRARIES"
      ]
    },
    {
      "cell_type": "code",
      "metadata": {
        "id": "KPgPHSveyeNr",
        "colab_type": "code",
        "colab": {
          "base_uri": "https://localhost:8080/",
          "height": 52
        },
        "outputId": "cb7a668c-2fc8-4ccb-907b-a1e7b27307c0"
      },
      "source": [
        "import keras\n",
        "keras.__version__"
      ],
      "execution_count": null,
      "outputs": [
        {
          "output_type": "stream",
          "text": [
            "Using TensorFlow backend.\n"
          ],
          "name": "stderr"
        },
        {
          "output_type": "execute_result",
          "data": {
            "application/vnd.google.colaboratory.intrinsic+json": {
              "type": "string"
            },
            "text/plain": [
              "'2.3.1'"
            ]
          },
          "metadata": {
            "tags": []
          },
          "execution_count": 1
        }
      ]
    },
    {
      "cell_type": "markdown",
      "metadata": {
        "id": "MkDuMgpwwfQg",
        "colab_type": "text"
      },
      "source": [
        "#SPLITTING DATA"
      ]
    },
    {
      "cell_type": "code",
      "metadata": {
        "id": "rU527ns2Xn7Y",
        "colab_type": "code",
        "colab": {
          "base_uri": "https://localhost:8080/",
          "height": 51
        },
        "outputId": "a322c799-d4dc-42e2-de0a-cd3ec14194ca"
      },
      "source": [
        "from keras.datasets import reuters\n",
        "\n",
        "(train_data, train_labels), (test_data, test_labels) = reuters.load_data(num_words=10000)"
      ],
      "execution_count": null,
      "outputs": [
        {
          "output_type": "stream",
          "text": [
            "Downloading data from https://s3.amazonaws.com/text-datasets/reuters.npz\n",
            "2113536/2110848 [==============================] - 0s 0us/step\n"
          ],
          "name": "stdout"
        }
      ]
    },
    {
      "cell_type": "code",
      "metadata": {
        "id": "EaKNObWTely2",
        "colab_type": "code",
        "colab": {
          "base_uri": "https://localhost:8080/",
          "height": 34
        },
        "outputId": "37f18f22-38de-4a7a-ff68-6bd3d6926255"
      },
      "source": [
        "len(train_data)"
      ],
      "execution_count": null,
      "outputs": [
        {
          "output_type": "execute_result",
          "data": {
            "text/plain": [
              "8982"
            ]
          },
          "metadata": {
            "tags": []
          },
          "execution_count": 3
        }
      ]
    },
    {
      "cell_type": "code",
      "metadata": {
        "id": "hYIEcnhYerYJ",
        "colab_type": "code",
        "colab": {
          "base_uri": "https://localhost:8080/",
          "height": 34
        },
        "outputId": "c20c0703-5591-469f-f383-fd4d51c6b0a3"
      },
      "source": [
        "len(test_data)"
      ],
      "execution_count": null,
      "outputs": [
        {
          "output_type": "execute_result",
          "data": {
            "text/plain": [
              "2246"
            ]
          },
          "metadata": {
            "tags": []
          },
          "execution_count": 4
        }
      ]
    },
    {
      "cell_type": "code",
      "metadata": {
        "id": "KZ2gKQzvew4P",
        "colab_type": "code",
        "colab": {
          "base_uri": "https://localhost:8080/",
          "height": 544
        },
        "outputId": "32bad03a-0628-4719-f3a6-053f7eb69739"
      },
      "source": [
        "train_data[10]"
      ],
      "execution_count": null,
      "outputs": [
        {
          "output_type": "execute_result",
          "data": {
            "text/plain": [
              "[1,\n",
              " 245,\n",
              " 273,\n",
              " 207,\n",
              " 156,\n",
              " 53,\n",
              " 74,\n",
              " 160,\n",
              " 26,\n",
              " 14,\n",
              " 46,\n",
              " 296,\n",
              " 26,\n",
              " 39,\n",
              " 74,\n",
              " 2979,\n",
              " 3554,\n",
              " 14,\n",
              " 46,\n",
              " 4689,\n",
              " 4329,\n",
              " 86,\n",
              " 61,\n",
              " 3499,\n",
              " 4795,\n",
              " 14,\n",
              " 61,\n",
              " 451,\n",
              " 4329,\n",
              " 17,\n",
              " 12]"
            ]
          },
          "metadata": {
            "tags": []
          },
          "execution_count": 5
        }
      ]
    },
    {
      "cell_type": "code",
      "metadata": {
        "id": "Sld525vFfARN",
        "colab_type": "code",
        "colab": {
          "base_uri": "https://localhost:8080/",
          "height": 51
        },
        "outputId": "32223640-e9c9-4fdd-ad62-d8f449d7bc8f"
      },
      "source": [
        "word_index = reuters.get_word_index()\n",
        "reverse_word_index = dict([(value, key) for (key, value) in word_index.items()])\n",
        "# Note that our indices were offset by 3\n",
        "# because 0, 1 and 2 are reserved indices for \"padding\", \"start of sequence\", and \"unknown\".\n",
        "decoded_newswire = ' '.join([reverse_word_index.get(i - 3, '?') for i in train_data[0]])"
      ],
      "execution_count": null,
      "outputs": [
        {
          "output_type": "stream",
          "text": [
            "Downloading data from https://s3.amazonaws.com/text-datasets/reuters_word_index.json\n",
            "557056/550378 [==============================] - 0s 1us/step\n"
          ],
          "name": "stdout"
        }
      ]
    },
    {
      "cell_type": "code",
      "metadata": {
        "id": "RitxSdZSfEcW",
        "colab_type": "code",
        "colab": {
          "base_uri": "https://localhost:8080/",
          "height": 86
        },
        "outputId": "8e36ac45-3e9e-464b-d186-84df8600e6df"
      },
      "source": [
        "decoded_newswire"
      ],
      "execution_count": null,
      "outputs": [
        {
          "output_type": "execute_result",
          "data": {
            "application/vnd.google.colaboratory.intrinsic+json": {
              "type": "string"
            },
            "text/plain": [
              "'? ? ? said as a result of its december acquisition of space co it expects earnings per share in 1987 of 1 15 to 1 30 dlrs per share up from 70 cts in 1986 the company said pretax net should rise to nine to 10 mln dlrs from six mln dlrs in 1986 and rental operation revenues to 19 to 22 mln dlrs from 12 5 mln dlrs it said cash flow per share this year should be 2 50 to three dlrs reuter 3'"
            ]
          },
          "metadata": {
            "tags": []
          },
          "execution_count": 7
        }
      ]
    },
    {
      "cell_type": "code",
      "metadata": {
        "id": "ocu0J1bpyeNx",
        "colab_type": "code",
        "colab": {
          "base_uri": "https://localhost:8080/",
          "height": 34
        },
        "outputId": "b00869b4-61f9-4b9b-9386-8ca8a0424728"
      },
      "source": [
        "train_labels[10]"
      ],
      "execution_count": null,
      "outputs": [
        {
          "output_type": "execute_result",
          "data": {
            "text/plain": [
              "3"
            ]
          },
          "metadata": {
            "tags": []
          },
          "execution_count": 8
        }
      ]
    },
    {
      "cell_type": "code",
      "metadata": {
        "id": "qKIKZ5LhOusF",
        "colab_type": "code",
        "colab": {}
      },
      "source": [
        "import numpy as np\n",
        "\n",
        "def vectorize_sequences(sequences, dimension=10000):\n",
        "    results = np.zeros((len(sequences), dimension))\n",
        "    for i, sequence in enumerate(sequences):\n",
        "        results[i, sequence] = 1.\n",
        "    return results\n",
        "\n",
        "# Our vectorized training data\n",
        "x_train = vectorize_sequences(train_data)\n",
        "# Our vectorized test data\n",
        "x_test = vectorize_sequences(test_data)"
      ],
      "execution_count": null,
      "outputs": []
    },
    {
      "cell_type": "markdown",
      "metadata": {
        "id": "KKxliNZ4wtqq",
        "colab_type": "text"
      },
      "source": [
        "#HANDLING CATEGORICAL DATA"
      ]
    },
    {
      "cell_type": "code",
      "metadata": {
        "id": "cMKuaUa5O0dF",
        "colab_type": "code",
        "colab": {}
      },
      "source": [
        "def to_one_hot(labels, dimension=46):\n",
        "    results = np.zeros((len(labels), dimension))\n",
        "    for i, label in enumerate(labels):\n",
        "        results[i, label] = 1.\n",
        "    return results\n",
        "\n",
        "# Our vectorized training labels\n",
        "one_hot_train_labels = to_one_hot(train_labels)\n",
        "# Our vectorized test labels\n",
        "one_hot_test_labels = to_one_hot(test_labels)"
      ],
      "execution_count": null,
      "outputs": []
    },
    {
      "cell_type": "code",
      "metadata": {
        "id": "771zNhPsPyl_",
        "colab_type": "code",
        "colab": {}
      },
      "source": [
        "from keras.utils.np_utils import to_categorical\n",
        "\n",
        "one_hot_train_labels = to_categorical(train_labels)\n",
        "one_hot_test_labels = to_categorical(test_labels)"
      ],
      "execution_count": null,
      "outputs": []
    },
    {
      "cell_type": "code",
      "metadata": {
        "id": "DpRB1IbOP2SQ",
        "colab_type": "code",
        "colab": {}
      },
      "source": [
        "from keras import models\n",
        "from keras import layers\n",
        "\n",
        "model = models.Sequential()\n",
        "model.add(layers.Dense(64, activation='relu', input_shape=(10000,)))\n",
        "model.add(layers.Dense(64, activation='relu'))\n",
        "model.add(layers.Dense(46, activation='softmax'))"
      ],
      "execution_count": null,
      "outputs": []
    },
    {
      "cell_type": "code",
      "metadata": {
        "id": "AecAE5zGP5lT",
        "colab_type": "code",
        "colab": {}
      },
      "source": [
        "model.compile(optimizer='rmsprop',\n",
        "              loss='categorical_crossentropy',\n",
        "              metrics=['accuracy'])"
      ],
      "execution_count": null,
      "outputs": []
    },
    {
      "cell_type": "code",
      "metadata": {
        "id": "07LmXrpVP8lD",
        "colab_type": "code",
        "colab": {}
      },
      "source": [
        "x_val = x_train[:1000]\n",
        "partial_x_train = x_train[1000:]\n",
        "\n",
        "y_val = one_hot_train_labels[:1000]\n",
        "partial_y_train = one_hot_train_labels[1000:]"
      ],
      "execution_count": null,
      "outputs": []
    },
    {
      "cell_type": "markdown",
      "metadata": {
        "id": "_sT3cq7hw2Te",
        "colab_type": "text"
      },
      "source": [
        "#FITTING OF DATA"
      ]
    },
    {
      "cell_type": "code",
      "metadata": {
        "id": "6U4kLpo6MyVo",
        "colab_type": "code",
        "colab": {
          "base_uri": "https://localhost:8080/",
          "height": 734
        },
        "outputId": "312b5d91-d7cf-4d86-e5f0-76d95aee81e6"
      },
      "source": [
        "history = model.fit(partial_x_train,\n",
        "                    partial_y_train,\n",
        "                    epochs=20,\n",
        "                    batch_size=512,\n",
        "                    validation_data=(x_val, y_val))"
      ],
      "execution_count": null,
      "outputs": [
        {
          "output_type": "stream",
          "text": [
            "Train on 7982 samples, validate on 1000 samples\n",
            "Epoch 1/20\n",
            "7982/7982 [==============================] - 1s 156us/step - loss: 2.5659 - accuracy: 0.5153 - val_loss: 1.6991 - val_accuracy: 0.6480\n",
            "Epoch 2/20\n",
            "7982/7982 [==============================] - 1s 118us/step - loss: 1.3752 - accuracy: 0.7114 - val_loss: 1.2632 - val_accuracy: 0.7340\n",
            "Epoch 3/20\n",
            "7982/7982 [==============================] - 1s 120us/step - loss: 1.0112 - accuracy: 0.7868 - val_loss: 1.1031 - val_accuracy: 0.7700\n",
            "Epoch 4/20\n",
            "7982/7982 [==============================] - 1s 117us/step - loss: 0.7946 - accuracy: 0.8334 - val_loss: 1.0113 - val_accuracy: 0.7860\n",
            "Epoch 5/20\n",
            "7982/7982 [==============================] - 1s 117us/step - loss: 0.6347 - accuracy: 0.8697 - val_loss: 0.9640 - val_accuracy: 0.7890\n",
            "Epoch 6/20\n",
            "7982/7982 [==============================] - 1s 120us/step - loss: 0.5095 - accuracy: 0.8958 - val_loss: 0.9213 - val_accuracy: 0.8070\n",
            "Epoch 7/20\n",
            "7982/7982 [==============================] - 1s 119us/step - loss: 0.4102 - accuracy: 0.9167 - val_loss: 0.9122 - val_accuracy: 0.8120\n",
            "Epoch 8/20\n",
            "7982/7982 [==============================] - 1s 119us/step - loss: 0.3362 - accuracy: 0.9288 - val_loss: 0.8993 - val_accuracy: 0.8130\n",
            "Epoch 9/20\n",
            "7982/7982 [==============================] - 1s 118us/step - loss: 0.2823 - accuracy: 0.9374 - val_loss: 0.9089 - val_accuracy: 0.8200\n",
            "Epoch 10/20\n",
            "7982/7982 [==============================] - 1s 119us/step - loss: 0.2365 - accuracy: 0.9458 - val_loss: 0.9166 - val_accuracy: 0.8130\n",
            "Epoch 11/20\n",
            "7982/7982 [==============================] - 1s 118us/step - loss: 0.2048 - accuracy: 0.9485 - val_loss: 0.9247 - val_accuracy: 0.8160\n",
            "Epoch 12/20\n",
            "7982/7982 [==============================] - 1s 120us/step - loss: 0.1849 - accuracy: 0.9510 - val_loss: 0.9727 - val_accuracy: 0.8050\n",
            "Epoch 13/20\n",
            "7982/7982 [==============================] - 1s 122us/step - loss: 0.1647 - accuracy: 0.9530 - val_loss: 0.9718 - val_accuracy: 0.8180\n",
            "Epoch 14/20\n",
            "7982/7982 [==============================] - 1s 119us/step - loss: 0.1533 - accuracy: 0.9549 - val_loss: 1.0036 - val_accuracy: 0.8070\n",
            "Epoch 15/20\n",
            "7982/7982 [==============================] - 1s 118us/step - loss: 0.1461 - accuracy: 0.9551 - val_loss: 0.9952 - val_accuracy: 0.8120\n",
            "Epoch 16/20\n",
            "7982/7982 [==============================] - 1s 120us/step - loss: 0.1291 - accuracy: 0.9560 - val_loss: 1.0314 - val_accuracy: 0.8040\n",
            "Epoch 17/20\n",
            "7982/7982 [==============================] - 1s 120us/step - loss: 0.1289 - accuracy: 0.9555 - val_loss: 1.0068 - val_accuracy: 0.8110\n",
            "Epoch 18/20\n",
            "7982/7982 [==============================] - 1s 119us/step - loss: 0.1206 - accuracy: 0.9587 - val_loss: 1.1163 - val_accuracy: 0.7950\n",
            "Epoch 19/20\n",
            "7982/7982 [==============================] - 1s 119us/step - loss: 0.1158 - accuracy: 0.9560 - val_loss: 1.0572 - val_accuracy: 0.8140\n",
            "Epoch 20/20\n",
            "7982/7982 [==============================] - 1s 118us/step - loss: 0.1104 - accuracy: 0.9573 - val_loss: 1.2084 - val_accuracy: 0.7820\n"
          ],
          "name": "stdout"
        }
      ]
    },
    {
      "cell_type": "markdown",
      "metadata": {
        "id": "Ma30ar6Sw6T7",
        "colab_type": "text"
      },
      "source": [
        "#GRAPHS"
      ]
    },
    {
      "cell_type": "code",
      "metadata": {
        "id": "YqS5RnVTM1p_",
        "colab_type": "code",
        "colab": {
          "base_uri": "https://localhost:8080/",
          "height": 295
        },
        "outputId": "213a532b-7e4b-428d-ba38-ae2ab6b4057b"
      },
      "source": [
        "import matplotlib.pyplot as plt\n",
        "\n",
        "loss = history.history['loss']\n",
        "val_loss = history.history['val_loss']\n",
        "\n",
        "epochs = range(1, len(loss) + 1)\n",
        "\n",
        "plt.plot(epochs, loss, 'bo', label='Training loss')\n",
        "plt.plot(epochs, val_loss, 'b', label='Validation loss')\n",
        "plt.title('Training and validation loss')\n",
        "plt.xlabel('Epochs')\n",
        "plt.ylabel('Loss')\n",
        "plt.legend()\n",
        "\n",
        "plt.show()"
      ],
      "execution_count": null,
      "outputs": [
        {
          "output_type": "display_data",
          "data": {
            "image/png": "[encoded data removed]",
            "text/plain": [
              "<Figure size 432x288 with 1 Axes>"
            ]
          },
          "metadata": {
            "tags": [],
            "needs_background": "light"
          }
        }
      ]
    },
    {
      "cell_type": "code",
      "metadata": {
        "id": "wMq1x2qvM5J8",
        "colab_type": "code",
        "colab": {
          "base_uri": "https://localhost:8080/",
          "height": 295
        },
        "outputId": "00e92d2d-d4b6-41a0-d1a4-61202cfada1d"
      },
      "source": [
        "plt.clf()   # clear figure\n",
        "\n",
        "acc = history.history['accuracy']\n",
        "val_acc = history.history['val_accuracy']\n",
        "\n",
        "plt.plot(epochs, acc, 'bo', label='Training acc')\n",
        "plt.plot(epochs, val_acc, 'b', label='Validation acc')\n",
        "plt.title('Training and validation accuracy')\n",
        "plt.xlabel('Epochs')\n",
        "plt.ylabel('Loss')\n",
        "plt.legend()\n",
        "\n",
        "plt.show()"
      ],
      "execution_count": null,
      "outputs": [
        {
          "output_type": "display_data",
          "data": {
            "image/png": "[encoded data removed]",
            "text/plain": [
              "<Figure size 432x288 with 1 Axes>"
            ]
          },
          "metadata": {
            "tags": [],
            "needs_background": "light"
          }
        }
      ]
    },
    {
      "cell_type": "code",
      "metadata": {
        "id": "nWx-gkxYM8BB",
        "colab_type": "code",
        "colab": {
          "base_uri": "https://localhost:8080/",
          "height": 343
        },
        "outputId": "0754e1bb-e538-46e0-c476-5fb314b45c8e"
      },
      "source": [
        "model = models.Sequential()\n",
        "model.add(layers.Dense(64, activation='relu', input_shape=(10000,)))\n",
        "model.add(layers.Dense(64, activation='relu'))\n",
        "model.add(layers.Dense(46, activation='softmax'))\n",
        "\n",
        "model.compile(optimizer='rmsprop',\n",
        "              loss='categorical_crossentropy',\n",
        "              metrics=['accuracy'])\n",
        "model.fit(partial_x_train,\n",
        "          partial_y_train,\n",
        "          epochs=8,\n",
        "          batch_size=512,\n",
        "          validation_data=(x_val, y_val))\n",
        "results = model.evaluate(x_test, one_hot_test_labels)"
      ],
      "execution_count": null,
      "outputs": [
        {
          "output_type": "stream",
          "text": [
            "Train on 7982 samples, validate on 1000 samples\n",
            "Epoch 1/8\n",
            "7982/7982 [==============================] - 1s 125us/step - loss: 2.4794 - accuracy: 0.5596 - val_loss: 1.6664 - val_accuracy: 0.6520\n",
            "Epoch 2/8\n",
            "7982/7982 [==============================] - 1s 119us/step - loss: 1.3810 - accuracy: 0.7056 - val_loss: 1.2870 - val_accuracy: 0.7190\n",
            "Epoch 3/8\n",
            "7982/7982 [==============================] - 1s 118us/step - loss: 1.0511 - accuracy: 0.7681 - val_loss: 1.1193 - val_accuracy: 0.7570\n",
            "Epoch 4/8\n",
            "7982/7982 [==============================] - 1s 120us/step - loss: 0.8399 - accuracy: 0.8120 - val_loss: 1.0203 - val_accuracy: 0.7850\n",
            "Epoch 5/8\n",
            "7982/7982 [==============================] - 1s 120us/step - loss: 0.6738 - accuracy: 0.8530 - val_loss: 0.9863 - val_accuracy: 0.7820\n",
            "Epoch 6/8\n",
            "7982/7982 [==============================] - 1s 119us/step - loss: 0.5466 - accuracy: 0.8835 - val_loss: 0.9409 - val_accuracy: 0.8030\n",
            "Epoch 7/8\n",
            "7982/7982 [==============================] - 1s 119us/step - loss: 0.4395 - accuracy: 0.9068 - val_loss: 0.8995 - val_accuracy: 0.8210\n",
            "Epoch 8/8\n",
            "7982/7982 [==============================] - 1s 119us/step - loss: 0.3588 - accuracy: 0.9247 - val_loss: 0.9036 - val_accuracy: 0.8120\n",
            "2246/2246 [==============================] - 0s 103us/step\n"
          ],
          "name": "stdout"
        }
      ]
    },
    {
      "cell_type": "code",
      "metadata": {
        "id": "FbQ-wMwiM_Pc",
        "colab_type": "code",
        "colab": {
          "base_uri": "https://localhost:8080/",
          "height": 34
        },
        "outputId": "9be9eb64-5a03-4dd3-f700-13c6256598bb"
      },
      "source": [
        "results"
      ],
      "execution_count": null,
      "outputs": [
        {
          "output_type": "execute_result",
          "data": {
            "text/plain": [
              "[0.9689486188115759, 0.7853962779045105]"
            ]
          },
          "metadata": {
            "tags": []
          },
          "execution_count": 20
        }
      ]
    },
    {
      "cell_type": "code",
      "metadata": {
        "id": "ZLOGKP_GNBXN",
        "colab_type": "code",
        "colab": {
          "base_uri": "https://localhost:8080/",
          "height": 34
        },
        "outputId": "55e74db1-8b6d-4bae-fc17-867098677191"
      },
      "source": [
        "import copy\n",
        "\n",
        "test_labels_copy = copy.copy(test_labels)\n",
        "np.random.shuffle(test_labels_copy)\n",
        "float(np.sum(np.array(test_labels) == np.array(test_labels_copy))) / len(test_labels)"
      ],
      "execution_count": null,
      "outputs": [
        {
          "output_type": "execute_result",
          "data": {
            "text/plain": [
              "0.19857524487978628"
            ]
          },
          "metadata": {
            "tags": []
          },
          "execution_count": 21
        }
      ]
    },
    {
      "cell_type": "markdown",
      "metadata": {
        "id": "Lz7PKySMxB0C",
        "colab_type": "text"
      },
      "source": [
        "#PREDICTIONS"
      ]
    },
    {
      "cell_type": "code",
      "metadata": {
        "id": "axuGqvVUNDKZ",
        "colab_type": "code",
        "colab": {}
      },
      "source": [
        "predictions = model.predict(x_test)"
      ],
      "execution_count": null,
      "outputs": []
    },
    {
      "cell_type": "code",
      "metadata": {
        "id": "oWcOs8MkNFqQ",
        "colab_type": "code",
        "colab": {
          "base_uri": "https://localhost:8080/",
          "height": 34
        },
        "outputId": "acce0990-38b0-4a49-eab2-06f324dcc43b"
      },
      "source": [
        "predictions[0].shape"
      ],
      "execution_count": null,
      "outputs": [
        {
          "output_type": "execute_result",
          "data": {
            "text/plain": [
              "(46,)"
            ]
          },
          "metadata": {
            "tags": []
          },
          "execution_count": 23
        }
      ]
    },
    {
      "cell_type": "code",
      "metadata": {
        "id": "60unb4UKNHrY",
        "colab_type": "code",
        "colab": {
          "base_uri": "https://localhost:8080/",
          "height": 34
        },
        "outputId": "afc5c984-a001-40dc-afec-e7771a75801a"
      },
      "source": [
        "np.sum(predictions[0])"
      ],
      "execution_count": null,
      "outputs": [
        {
          "output_type": "execute_result",
          "data": {
            "text/plain": [
              "1.0000001"
            ]
          },
          "metadata": {
            "tags": []
          },
          "execution_count": 24
        }
      ]
    },
    {
      "cell_type": "code",
      "metadata": {
        "id": "tNkRJoDqNJ9M",
        "colab_type": "code",
        "colab": {
          "base_uri": "https://localhost:8080/",
          "height": 34
        },
        "outputId": "ef3bf82f-9edb-4204-a1ef-f99a53777ffa"
      },
      "source": [
        "np.argmax(predictions[0])"
      ],
      "execution_count": null,
      "outputs": [
        {
          "output_type": "execute_result",
          "data": {
            "text/plain": [
              "3"
            ]
          },
          "metadata": {
            "tags": []
          },
          "execution_count": 25
        }
      ]
    },
    {
      "cell_type": "code",
      "metadata": {
        "id": "VaZbSStANMmM",
        "colab_type": "code",
        "colab": {}
      },
      "source": [
        "y_train = np.array(train_labels)\n",
        "y_test = np.array(test_labels)"
      ],
      "execution_count": null,
      "outputs": []
    },
    {
      "cell_type": "code",
      "metadata": {
        "id": "qb2jZVh_NPly",
        "colab_type": "code",
        "colab": {}
      },
      "source": [
        "model.compile(optimizer='rmsprop', loss='sparse_categorical_crossentropy', metrics=['acc'])"
      ],
      "execution_count": null,
      "outputs": []
    },
    {
      "cell_type": "markdown",
      "metadata": {
        "id": "gBFQVo5jxHmW",
        "colab_type": "text"
      },
      "source": [
        "#ACCURACY"
      ]
    },
    {
      "cell_type": "code",
      "metadata": {
        "id": "wFvWMhasNSQq",
        "colab_type": "code",
        "colab": {
          "base_uri": "https://localhost:8080/",
          "height": 751
        },
        "outputId": "74904734-f829-4a2f-a441-72acd51c0efa"
      },
      "source": [
        "model = models.Sequential()\n",
        "model.add(layers.Dense(64, activation='relu', input_shape=(10000,)))\n",
        "model.add(layers.Dense(4, activation='relu'))\n",
        "model.add(layers.Dense(46, activation='softmax'))\n",
        "\n",
        "model.compile(optimizer='rmsprop',\n",
        "              loss='categorical_crossentropy',\n",
        "              metrics=['accuracy'])\n",
        "model.fit(partial_x_train,\n",
        "          partial_y_train,\n",
        "          epochs=20,\n",
        "          batch_size=128,\n",
        "          validation_data=(x_val, y_val))"
      ],
      "execution_count": null,
      "outputs": [
        {
          "output_type": "stream",
          "text": [
            "Train on 7982 samples, validate on 1000 samples\n",
            "Epoch 1/20\n",
            "7982/7982 [==============================] - 1s 172us/step - loss: 2.5884 - accuracy: 0.3584 - val_loss: 1.9216 - val_accuracy: 0.4270\n",
            "Epoch 2/20\n",
            "7982/7982 [==============================] - 1s 158us/step - loss: 1.6064 - accuracy: 0.5783 - val_loss: 1.5068 - val_accuracy: 0.6090\n",
            "Epoch 3/20\n",
            "7982/7982 [==============================] - 1s 165us/step - loss: 1.2795 - accuracy: 0.6691 - val_loss: 1.3557 - val_accuracy: 0.6550\n",
            "Epoch 4/20\n",
            "7982/7982 [==============================] - 1s 167us/step - loss: 1.1247 - accuracy: 0.6924 - val_loss: 1.3011 - val_accuracy: 0.6700\n",
            "Epoch 5/20\n",
            "7982/7982 [==============================] - 1s 163us/step - loss: 1.0162 - accuracy: 0.7201 - val_loss: 1.2991 - val_accuracy: 0.6880\n",
            "Epoch 6/20\n",
            "7982/7982 [==============================] - 1s 162us/step - loss: 0.9253 - accuracy: 0.7571 - val_loss: 1.2686 - val_accuracy: 0.7030\n",
            "Epoch 7/20\n",
            "7982/7982 [==============================] - 1s 166us/step - loss: 0.8482 - accuracy: 0.7798 - val_loss: 1.2830 - val_accuracy: 0.7130\n",
            "Epoch 8/20\n",
            "7982/7982 [==============================] - 1s 163us/step - loss: 0.7809 - accuracy: 0.7918 - val_loss: 1.2833 - val_accuracy: 0.7120\n",
            "Epoch 9/20\n",
            "7982/7982 [==============================] - 1s 165us/step - loss: 0.7228 - accuracy: 0.8014 - val_loss: 1.3067 - val_accuracy: 0.7150\n",
            "Epoch 10/20\n",
            "7982/7982 [==============================] - 1s 164us/step - loss: 0.6682 - accuracy: 0.8146 - val_loss: 1.3377 - val_accuracy: 0.7150\n",
            "Epoch 11/20\n",
            "7982/7982 [==============================] - 1s 163us/step - loss: 0.6235 - accuracy: 0.8295 - val_loss: 1.3984 - val_accuracy: 0.7080\n",
            "Epoch 12/20\n",
            "7982/7982 [==============================] - 1s 169us/step - loss: 0.5815 - accuracy: 0.8366 - val_loss: 1.4197 - val_accuracy: 0.7060\n",
            "Epoch 13/20\n",
            "7982/7982 [==============================] - 1s 164us/step - loss: 0.5445 - accuracy: 0.8431 - val_loss: 1.4890 - val_accuracy: 0.7130\n",
            "Epoch 14/20\n",
            "7982/7982 [==============================] - 1s 164us/step - loss: 0.5130 - accuracy: 0.8540 - val_loss: 1.5531 - val_accuracy: 0.7080\n",
            "Epoch 15/20\n",
            "7982/7982 [==============================] - 1s 162us/step - loss: 0.4828 - accuracy: 0.8616 - val_loss: 1.5531 - val_accuracy: 0.7170\n",
            "Epoch 16/20\n",
            "7982/7982 [==============================] - 1s 162us/step - loss: 0.4559 - accuracy: 0.8761 - val_loss: 1.6168 - val_accuracy: 0.7150\n",
            "Epoch 17/20\n",
            "7982/7982 [==============================] - 1s 167us/step - loss: 0.4328 - accuracy: 0.8834 - val_loss: 1.6515 - val_accuracy: 0.7190\n",
            "Epoch 18/20\n",
            "7982/7982 [==============================] - 1s 167us/step - loss: 0.4122 - accuracy: 0.8879 - val_loss: 1.7453 - val_accuracy: 0.7170\n",
            "Epoch 19/20\n",
            "7982/7982 [==============================] - 1s 168us/step - loss: 0.3899 - accuracy: 0.8925 - val_loss: 1.7797 - val_accuracy: 0.7220\n",
            "Epoch 20/20\n",
            "7982/7982 [==============================] - 1s 170us/step - loss: 0.3744 - accuracy: 0.8965 - val_loss: 1.8677 - val_accuracy: 0.7200\n"
          ],
          "name": "stdout"
        },
        {
          "output_type": "execute_result",
          "data": {
            "text/plain": [
              "<keras.callbacks.callbacks.History at 0x7ff6307522e8>"
            ]
          },
          "metadata": {
            "tags": []
          },
          "execution_count": 28
        }
      ]
    }
  ]
}