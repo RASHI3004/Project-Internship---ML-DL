{
  "nbformat": 4,
  "nbformat_minor": 0,
  "metadata": {
    "kernelspec": {
      "display_name": "Python 3",
      "language": "python",
      "name": "python3"
    },
    "language_info": {
      "codemirror_mode": {
        "name": "ipython",
        "version": 3
      },
      "file_extension": ".py",
      "mimetype": "text/x-python",
      "name": "python",
      "nbconvert_exporter": "python",
      "pygments_lexer": "ipython3",
      "version": "3.6.1"
    },
    "colab": {
      "name": "Social_Media_Ads_knn.ipynb",
      "provenance": [],
      "collapsed_sections": [],
      "toc_visible": true
    }
  },
  "cells": [
    {
      "cell_type": "code",
      "metadata": {
        "id": "dB69OBzHyn-8",
        "colab_type": "code",
        "colab": {
          "resources": {
            "http://localhost:8080/nbextensions/google.colab/files.js": {
              "data": "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",
              "ok": true,
              "headers": [
                [
                  "content-type",
                  "application/javascript"
                ]
              ],
              "status": 200,
              "status_text": ""
            }
          },
          "base_uri": "https://localhost:8080/",
          "height": 73
        },
        "outputId": "e5f43612-623a-4de6-a41d-86e0662f3937"
      },
      "source": [
        "from google.colab import files\n",
        "uploaded = files.upload()"
      ],
      "execution_count": 1,
      "outputs": [
        {
          "output_type": "display_data",
          "data": {
            "text/html": [
              "\n",
              "     <input type=\"file\" id=\"files-737e5cb5-2acb-4714-aeae-05cba3193979\" name=\"files[]\" multiple disabled\n",
              "        style=\"border:none\" />\n",
              "     <output id=\"result-737e5cb5-2acb-4714-aeae-05cba3193979\">\n",
              "      Upload widget is only available when the cell has been executed in the\n",
              "      current browser session. Please rerun this cell to enable.\n",
              "      </output>\n",
              "      <script src=\"/nbextensions/google.colab/files.js\"></script> "
            ],
            "text/plain": [
              "<IPython.core.display.HTML object>"
            ]
          },
          "metadata": {
            "tags": []
          }
        },
        {
          "output_type": "stream",
          "text": [
            "Saving Social_Network_Ads.csv to Social_Network_Ads.csv\n"
          ],
          "name": "stdout"
        }
      ]
    },
    {
      "cell_type": "markdown",
      "metadata": {
        "id": "dvjrFo0_0IXN",
        "colab_type": "text"
      },
      "source": [
        "#IMPORTING LIBRARIES"
      ]
    },
    {
      "cell_type": "code",
      "metadata": {
        "id": "KPgPHSveyeNr",
        "colab_type": "code",
        "colab": {
          "base_uri": "https://localhost:8080/",
          "height": 70
        },
        "outputId": "87cb50ef-f760-4be8-facb-0c4138470346"
      },
      "source": [
        "import numpy as np\n",
        "import pandas as pd\n",
        "from sklearn.model_selection import train_test_split\n",
        "from sklearn.preprocessing import StandardScaler\n",
        "from sklearn.neighbors import KNeighborsClassifier\n",
        "from sklearn.metrics import confusion_matrix\n",
        "from sklearn.metrics import f1_score\n",
        "from sklearn.metrics import accuracy_score\n",
        "import seaborn as sns\n",
        "import matplotlib.pyplot as plt\n",
        "%matplotlib inline"
      ],
      "execution_count": 2,
      "outputs": [
        {
          "output_type": "stream",
          "text": [
            "/usr/local/lib/python3.6/dist-packages/statsmodels/tools/_testing.py:19: FutureWarning: pandas.util.testing is deprecated. Use the functions in the public API at pandas.testing instead.\n",
            "  import pandas.util.testing as tm\n"
          ],
          "name": "stderr"
        }
      ]
    },
    {
      "cell_type": "code",
      "metadata": {
        "id": "ocu0J1bpyeNx",
        "colab_type": "code",
        "colab": {
          "base_uri": "https://localhost:8080/",
          "height": 195
        },
        "outputId": "3f3ae4bc-cac6-40fe-ae98-b8cc90f0d326"
      },
      "source": [
        "df = pd.read_csv('Social_Network_Ads.csv')\n",
        "#used to read csv files and perform operations on it\n",
        "\n",
        "df.head()"
      ],
      "execution_count": 3,
      "outputs": [
        {
          "output_type": "execute_result",
          "data": {
            "text/html": [
              "<div>\n",
              "<style scoped>\n",
              "    .dataframe tbody tr th:only-of-type {\n",
              "        vertical-align: middle;\n",
              "    }\n",
              "\n",
              "    .dataframe tbody tr th {\n",
              "        vertical-align: top;\n",
              "    }\n",
              "\n",
              "    .dataframe thead th {\n",
              "        text-align: right;\n",
              "    }\n",
              "</style>\n",
              "<table border=\"1\" class=\"dataframe\">\n",
              "  <thead>\n",
              "    <tr style=\"text-align: right;\">\n",
              "      <th></th>\n",
              "      <th>User ID</th>\n",
              "      <th>Gender</th>\n",
              "      <th>Age</th>\n",
              "      <th>EstimatedSalary</th>\n",
              "      <th>Purchased</th>\n",
              "    </tr>\n",
              "  </thead>\n",
              "  <tbody>\n",
              "    <tr>\n",
              "      <th>0</th>\n",
              "      <td>15624510</td>\n",
              "      <td>Male</td>\n",
              "      <td>19.0</td>\n",
              "      <td>19000.0</td>\n",
              "      <td>0</td>\n",
              "    </tr>\n",
              "    <tr>\n",
              "      <th>1</th>\n",
              "      <td>15810944</td>\n",
              "      <td>Male</td>\n",
              "      <td>35.0</td>\n",
              "      <td>20000.0</td>\n",
              "      <td>0</td>\n",
              "    </tr>\n",
              "    <tr>\n",
              "      <th>2</th>\n",
              "      <td>15668575</td>\n",
              "      <td>Female</td>\n",
              "      <td>26.0</td>\n",
              "      <td>43000.0</td>\n",
              "      <td>0</td>\n",
              "    </tr>\n",
              "    <tr>\n",
              "      <th>3</th>\n",
              "      <td>15603246</td>\n",
              "      <td>Female</td>\n",
              "      <td>27.0</td>\n",
              "      <td>57000.0</td>\n",
              "      <td>0</td>\n",
              "    </tr>\n",
              "    <tr>\n",
              "      <th>4</th>\n",
              "      <td>15804002</td>\n",
              "      <td>Male</td>\n",
              "      <td>19.0</td>\n",
              "      <td>76000.0</td>\n",
              "      <td>0</td>\n",
              "    </tr>\n",
              "  </tbody>\n",
              "</table>\n",
              "</div>"
            ],
            "text/plain": [
              "    User ID  Gender   Age  EstimatedSalary  Purchased\n",
              "0  15624510    Male  19.0          19000.0          0\n",
              "1  15810944    Male  35.0          20000.0          0\n",
              "2  15668575  Female  26.0          43000.0          0\n",
              "3  15603246  Female  27.0          57000.0          0\n",
              "4  15804002    Male  19.0          76000.0          0"
            ]
          },
          "metadata": {
            "tags": []
          },
          "execution_count": 3
        }
      ]
    },
    {
      "cell_type": "markdown",
      "metadata": {
        "id": "zgdYJ7My51qJ",
        "colab_type": "text"
      },
      "source": [
        "#HANDLING CATEGORICAL DATA"
      ]
    },
    {
      "cell_type": "code",
      "metadata": {
        "id": "OqMT00EZ41yu",
        "colab_type": "code",
        "colab": {
          "base_uri": "https://localhost:8080/",
          "height": 134
        },
        "outputId": "6ead6e2c-3bfa-4a4d-98ab-3e2b3e17f8b3"
      },
      "source": [
        "x = df.iloc[:, :-1].values\n",
        "y = df.iloc[:, -1].values\n",
        "import pandas as pd \n",
        "from sklearn.preprocessing import LabelEncoder\n",
        "x = df.iloc[:, :-1].values \n",
        "y = df.iloc[:, -1].values \n",
        "labelencoder_X1 = LabelEncoder()\n",
        "x[:,0] = labelencoder_X1.fit_transform(x[:,0])\n",
        "x[:,1] = labelencoder_X1.fit_transform(x[:,1])\n",
        "print(x)\n",
        "#Here we are using LabelEncoder"
      ],
      "execution_count": 4,
      "outputs": [
        {
          "output_type": "stream",
          "text": [
            "[[97 1 19.0 19000.0]\n",
            " [392 1 35.0 20000.0]\n",
            " [155 0 26.0 43000.0]\n",
            " ...\n",
            " [130 0 50.0 20000.0]\n",
            " [305 1 36.0 33000.0]\n",
            " [45 0 49.0 36000.0]]\n"
          ],
          "name": "stdout"
        }
      ]
    },
    {
      "cell_type": "markdown",
      "metadata": {
        "id": "0e78X5or1118",
        "colab_type": "text"
      },
      "source": [
        "#SPLITTING OF DATA INTO TRAINING AND TEST"
      ]
    },
    {
      "cell_type": "code",
      "metadata": {
        "id": "hONDJ5riyeOL",
        "colab_type": "code",
        "colab": {}
      },
      "source": [
        "from sklearn.model_selection import train_test_split\n",
        "\n",
        "#import model selection train test split for splitting the data into test and train for model validation."
      ],
      "execution_count": 5,
      "outputs": []
    },
    {
      "cell_type": "code",
      "metadata": {
        "id": "lpe2icOsyeOP",
        "colab_type": "code",
        "colab": {}
      },
      "source": [
        "x_train, x_test, y_train, y_test = train_test_split(x, y, test_size=0.4, random_state=101)\n"
      ],
      "execution_count": 6,
      "outputs": []
    },
    {
      "cell_type": "markdown",
      "metadata": {
        "id": "HhQfgC0b6ubT",
        "colab_type": "text"
      },
      "source": [
        "#NORMALIZING DATA"
      ]
    },
    {
      "cell_type": "code",
      "metadata": {
        "id": "Udf-XPOX61Kl",
        "colab_type": "code",
        "colab": {
          "base_uri": "https://localhost:8080/",
          "height": 1000
        },
        "outputId": "b568b576-ac78-4b8e-ca87-9fafc57a88b0"
      },
      "source": [
        "# data normalization with sklearn\n",
        "from sklearn.preprocessing import MinMaxScaler\n",
        "\n",
        "# fit scaler on training data\n",
        "norm = MinMaxScaler().fit(x_train)\n",
        "\n",
        "# transform training data\n",
        "X_train_norm = norm.transform(x_train)\n",
        "\n",
        "# transform testing data\n",
        "X_test_norm = norm.transform(x_test)\n",
        "\n",
        "print(X_train_norm)\n",
        "print(X_test_norm)"
      ],
      "execution_count": 7,
      "outputs": [
        {
          "output_type": "stream",
          "text": [
            "[[0.3241206  0.         0.88095238 0.85185185]\n",
            " [0.71105528 1.         0.64285714 0.12592593]\n",
            " [0.68844221 0.         0.5        0.88148148]\n",
            " [0.73869347 0.         0.5        0.47407407]\n",
            " [0.31407035 1.         0.64285714 0.05185185]\n",
            " [0.54020101 1.         0.54761905 0.32592593]\n",
            " [0.41708543 0.         0.30952381 0.14074074]\n",
            " [0.88944724 1.         0.57142857 0.28888889]\n",
            " [0.5201005  0.         0.66666667 0.05185185]\n",
            " [0.14824121 0.         0.45238095 0.13333333]\n",
            " [0.85678392 1.         0.4047619  0.44444444]\n",
            " [0.04020101 1.         0.11904762 0.35555556]\n",
            " [0.24874372 1.         0.88095238 0.17777778]\n",
            " [0.58040201 1.         0.4047619  0.54074074]\n",
            " [0.06281407 1.         0.52380952 0.34074074]\n",
            " [0.42462312 1.         0.4047619  0.42222222]\n",
            " [0.90452261 1.         1.         0.2       ]\n",
            " [0.6281407  1.         0.45238095 0.27407407]\n",
            " [0.27638191 1.         0.73809524 0.37037037]\n",
            " [0.7361809  1.         0.66666667 0.75555556]\n",
            " [0.15577889 0.         0.42857143 0.28888889]\n",
            " [0.86180905 0.         0.83333333 0.14074074]\n",
            " [0.87688442 0.         0.35714286 0.72592593]\n",
            " [0.31155779 0.         0.14285714 0.2962963 ]\n",
            " [0.22361809 0.         0.71428571 0.11111111]\n",
            " [0.35929648 0.         0.30952381 0.76296296]\n",
            " [0.87437186 0.         0.76190476 0.54074074]\n",
            " [0.14321608 0.         0.33333333 0.88888889]\n",
            " [0.11557789 1.         0.16666667 0.05185185]\n",
            " [0.24623116 0.         0.85714286 0.08148148]\n",
            " [0.92713568 0.         0.19047619 0.76296296]\n",
            " [0.60050251 0.         0.54761905 0.35555556]\n",
            " [0.4798995  1.         0.52380952 0.31111111]\n",
            " [0.1758794  1.         1.         0.14074074]\n",
            " [0.58291457 1.         0.4047619  0.08888889]\n",
            " [0.5678392  1.         0.97619048 0.85185185]\n",
            " [0.48241206 1.         0.28571429 0.25185185]\n",
            " [0.64321608 1.         0.21428571 0.55555556]\n",
            " [0.98492462 1.         0.4047619  0.03703704]\n",
            " [0.98743719 0.         0.4047619  0.45925926]\n",
            " [0.07286432 0.         0.33333333 0.52592593]\n",
            " [0.67839196 0.         0.47619048 0.25925926]\n",
            " [0.13567839 0.         0.66666667 0.43703704]\n",
            " [0.1080402  1.         0.23809524 0.32592593]\n",
            " [0.44472362 0.         0.19047619 0.        ]\n",
            " [0.38693467 0.         0.71428571 0.14814815]\n",
            " [0.01758794 1.         0.4047619  0.28148148]\n",
            " [0.51507538 0.         0.54761905 0.33333333]\n",
            " [0.60552764 0.         0.57142857 0.40740741]\n",
            " [0.74874372 0.         0.80952381 0.55555556]\n",
            " [0.76633166 1.         0.42857143 0.13333333]\n",
            " [0.46733668 1.         0.9047619  0.87407407]\n",
            " [0.27386935 1.         1.         0.2       ]\n",
            " [0.26633166 1.         0.69047619 0.03703704]\n",
            " [0.2361809  1.         0.5        0.6       ]\n",
            " [0.62060302 1.         0.47619048 0.34074074]\n",
            " [0.30904523 1.         0.83333333 0.42222222]\n",
            " [0.23115578 1.         0.45238095 0.28148148]\n",
            " [0.29145729 1.         0.11904762 0.03703704]\n",
            " [0.78140704 0.         0.76190476 0.15555556]\n",
            " [0.32160804 0.         0.47619048 0.25925926]\n",
            " [0.11809045 0.         0.5        0.44444444]\n",
            " [0.96984925 1.         0.71428571 0.13333333]\n",
            " [0.61306533 1.         0.19047619 0.52592593]\n",
            " [0.63065327 0.         0.73809524 0.17777778]\n",
            " [0.35427136 1.         0.4047619  0.56296296]\n",
            " [0.94974874 0.         0.52380952 0.94074074]\n",
            " [0.25376884 1.         0.4047619  0.17777778]\n",
            " [0.76130653 0.         0.73809524 0.93333333]\n",
            " [0.5        0.         0.33333333 0.75555556]\n",
            " [0.84422111 1.         0.9047619  0.33333333]\n",
            " [0.03517588 1.         0.5952381  0.84444444]\n",
            " [0.72361809 1.         0.19047619 0.12592593]\n",
            " [0.21859296 0.         0.42857143 0.25925926]\n",
            " [0.8718593  1.         0.26190476 0.34074074]\n",
            " [0.22613065 1.         0.47619048 0.34074074]\n",
            " [0.70603015 1.         0.45238095 0.42222222]\n",
            " [0.59045226 1.         0.71428571 0.19259259]\n",
            " [0.82914573 1.         0.4047619  0.68888889]\n",
            " [0.55276382 1.         0.78571429 0.05925926]\n",
            " [0.13819095 0.         0.21428571 0.51111111]\n",
            " [0.53266332 0.         0.26190476 0.0962963 ]\n",
            " [0.81407035 0.         0.85714286 0.68888889]\n",
            " [0.81909548 1.         0.19047619 0.48888889]\n",
            " [0.11306533 0.         0.73809524 0.15555556]\n",
            " [0.50251256 0.         0.14285714 0.12592593]\n",
            " [0.1281407  1.         0.28571429 0.48148148]\n",
            " [0.38944724 0.         0.19047619 0.20740741]\n",
            " [0.85929648 1.         0.85714286 0.40740741]\n",
            " [0.00251256 0.         0.95238095 0.59259259]\n",
            " [0.35175879 1.         0.02380952 0.40740741]\n",
            " [0.73115578 0.         0.14285714 0.54814815]\n",
            " [0.33417085 0.         0.21428571 0.31851852]\n",
            " [0.99246231 1.         0.52380952 0.68148148]\n",
            " [0.44723618 1.         0.14285714 0.02962963]\n",
            " [0.1959799  0.         1.         0.22962963]\n",
            " [0.9120603  1.         0.73809524 0.0962963 ]\n",
            " [0.03015075 1.         0.54761905 0.22222222]\n",
            " [1.         1.         0.30952381 0.37777778]\n",
            " [0.43969849 1.         0.71428571 0.43703704]\n",
            " [0.63819095 0.         0.52380952 0.44444444]\n",
            " [0.57788945 0.         0.4047619  0.07407407]\n",
            " [0.66834171 1.         0.14285714 0.51111111]\n",
            " [0.39447236 1.         0.71428571 0.13333333]\n",
            " [0.93718593 0.         0.28571429 0.34814815]\n",
            " [0.23869347 0.         0.38095238 0.07407407]\n",
            " [0.55025126 0.         0.5952381  0.71851852]\n",
            " [0.16582915 0.         0.78571429 0.88148148]\n",
            " [0.77386935 0.         0.5        0.32592593]\n",
            " [0.75628141 0.         0.21428571 0.6       ]\n",
            " [0.42211055 1.         0.16666667 0.53333333]\n",
            " [0.70100503 0.         0.28571429 0.47407407]\n",
            " [0.03266332 0.         0.0952381  0.35555556]\n",
            " [0.33668342 0.         0.19047619 0.01481481]\n",
            " [0.90954774 0.         0.19047619 0.51111111]\n",
            " [0.33165829 0.         0.11904762 0.4962963 ]\n",
            " [0.2638191  0.         0.45238095 0.34814815]\n",
            " [0.51758794 0.         0.5        0.34074074]\n",
            " [0.49748744 1.         0.47619048 0.26666667]\n",
            " [0.78894472 0.         0.0952381  0.2962963 ]\n",
            " [0.06030151 1.         0.23809524 0.8       ]\n",
            " [0.67336683 1.         0.97619048 0.94814815]\n",
            " [0.56030151 1.         0.73809524 0.0962963 ]\n",
            " [0.47236181 1.         0.19047619 0.00740741]\n",
            " [0.18341709 0.         0.97619048 0.54074074]\n",
            " [0.07035176 0.         0.45238095 0.97037037]\n",
            " [0.71859296 0.         0.26190476 0.5037037 ]\n",
            " [0.59798995 0.         0.61904762 0.91851852]\n",
            " [0.21105528 1.         0.4047619  0.32592593]\n",
            " [0.77889447 0.         0.35714286 0.33333333]\n",
            " [0.68090452 0.         0.69047619 0.72592593]\n",
            " [0.83417085 0.         0.0952381  0.08888889]\n",
            " [0.57537688 1.         0.04761905 0.25185185]\n",
            " [0.60301508 0.         0.47619048 0.37037037]\n",
            " [0.05778894 1.         0.52380952 0.46666667]\n",
            " [0.96231156 0.         0.92857143 0.13333333]\n",
            " [0.27135678 0.         0.69047619 0.11111111]\n",
            " [0.32663317 0.         0.76190476 0.03703704]\n",
            " [0.56532663 1.         0.4047619  0.05185185]\n",
            " [0.88693467 0.         0.26190476 0.5037037 ]\n",
            " [0.63316583 0.         0.76190476 0.21481481]\n",
            " [0.30653266 1.         0.66666667 0.47407407]\n",
            " [0.14572864 0.         0.64285714 0.05185185]\n",
            " [0.69849246 0.         0.69047619 0.25185185]\n",
            " [0.80904523 1.         0.04761905 0.43703704]\n",
            " [0.68341709 0.         0.45238095 0.57777778]\n",
            " [0.13316583 1.         0.42857143 0.81481481]\n",
            " [0.95226131 1.         0.35714286 0.11851852]\n",
            " [0.93969849 1.         0.16666667 0.47407407]\n",
            " [0.92964824 0.         0.42857143 0.82222222]\n",
            " [0.92462312 0.         0.80952381 0.73333333]\n",
            " [0.77638191 1.         0.4047619  0.17037037]\n",
            " [0.07788945 0.         0.54761905 0.42222222]\n",
            " [0.65075377 0.         0.14285714 0.08888889]\n",
            " [0.8241206  1.         0.57142857 0.37037037]\n",
            " [0.98241206 0.         0.47619048 0.2962963 ]\n",
            " [0.41457286 0.         0.88095238 0.81481481]\n",
            " [0.98994975 0.         0.42857143 0.44444444]\n",
            " [0.57035176 1.         0.57142857 0.28888889]\n",
            " [0.44974874 0.         0.04761905 0.15555556]\n",
            " [0.9798995  0.         0.61904762 0.17777778]\n",
            " [0.25628141 1.         0.         0.4962963 ]\n",
            " [0.28140704 1.         0.45238095 0.47407407]\n",
            " [0.16080402 0.         0.21428571 0.31111111]\n",
            " [0.7160804  1.         0.26190476 0.20740741]\n",
            " [0.83165829 1.         0.45238095 0.2962963 ]\n",
            " [0.97738693 1.         0.19047619 0.        ]\n",
            " [0.96733668 0.         0.97619048 0.1037037 ]\n",
            " [0.29899497 1.         0.0952381  0.02222222]\n",
            " [0.05527638 0.         0.38095238 0.20740741]\n",
            " [0.47487437 1.         0.28571429 0.68148148]\n",
            " [0.23366834 1.         0.69047619 0.20740741]\n",
            " [0.61557789 0.         0.57142857 0.48148148]\n",
            " [0.85175879 0.         0.21428571 0.28888889]\n",
            " [0.30150754 0.         0.38095238 0.42222222]\n",
            " [0.75376884 1.         0.45238095 0.40740741]\n",
            " [0.32914573 1.         0.57142857 0.65925926]\n",
            " [0.68592965 1.         0.47619048 0.41481481]\n",
            " [0.08542714 0.         0.57142857 0.55555556]\n",
            " [0.00502513 0.         0.19047619 0.48148148]\n",
            " [0.05025126 1.         0.30952381 0.43703704]\n",
            " [0.26130653 0.         0.5        0.42962963]\n",
            " [0.34924623 0.         0.02380952 0.08148148]\n",
            " [0.81155779 0.         0.69047619 0.25925926]\n",
            " [0.53015075 1.         0.30952381 0.45185185]\n",
            " [0.97487437 0.         0.54761905 0.41481481]\n",
            " [0.67085427 1.         0.54761905 0.27407407]\n",
            " [0.09045226 1.         0.5        0.67407407]\n",
            " [0.97236181 1.         0.02380952 0.51851852]\n",
            " [0.44221106 1.         0.4047619  0.44444444]\n",
            " [0.24371859 1.         0.02380952 0.02962963]\n",
            " [0.6959799  0.         0.95238095 0.17037037]\n",
            " [0.40201005 0.         0.54761905 0.42222222]\n",
            " [0.88442211 0.         0.57142857 0.44444444]\n",
            " [0.29396985 0.         0.69047619 0.68148148]\n",
            " [0.2160804  0.         0.66666667 0.4962963 ]\n",
            " [0.         0.         0.4047619  0.31111111]\n",
            " [0.43467337 0.         0.35714286 0.99259259]\n",
            " [0.50753769 0.         0.33333333 1.        ]\n",
            " [0.24120603 1.         0.42857143 0.33333333]\n",
            " [0.28643216 1.         0.71428571 0.93333333]\n",
            " [0.76884422 0.         0.23809524 0.16296296]\n",
            " [0.52261307 0.         0.35714286 0.4       ]\n",
            " [0.12060302 0.         0.11904762 0.37777778]\n",
            " [0.15075377 1.         0.71428571 0.55555556]\n",
            " [0.82663317 0.         0.83333333 0.94814815]\n",
            " [0.95728643 1.         0.07142857 0.42222222]\n",
            " [0.25879397 0.         0.69047619 0.26666667]\n",
            " [0.89949749 1.         0.21428571 0.54814815]\n",
            " [0.11055276 1.         1.         0.64444444]\n",
            " [0.73366834 1.         0.         0.27407407]\n",
            " [0.19095477 1.         0.57142857 0.37037037]\n",
            " [0.65577889 1.         0.92857143 0.43703704]\n",
            " [0.75879397 0.         0.4047619  0.60740741]\n",
            " [0.93467337 1.         0.42857143 0.76296296]\n",
            " [0.59547739 0.         0.23809524 0.51111111]\n",
            " [0.8919598  0.         0.33333333 0.75555556]\n",
            " [0.03768844 1.         0.54761905 0.53333333]\n",
            " [0.83919598 1.         1.         0.5037037 ]\n",
            " [0.38442211 0.         0.04761905 0.4962963 ]\n",
            " [0.34170854 0.         0.45238095 0.41481481]\n",
            " [0.36683417 1.         0.5        0.79259259]\n",
            " [0.91457286 0.         0.30952381 0.54814815]\n",
            " [0.74120603 0.         0.64285714 0.22222222]\n",
            " [0.66080402 1.         0.21428571 0.31851852]\n",
            " [0.36432161 0.         0.5        0.41481481]\n",
            " [0.86683417 1.         0.26190476 0.20740741]\n",
            " [0.89447236 0.         0.54761905 0.48148148]\n",
            " [0.37688442 0.         0.85714286 0.65925926]\n",
            " [0.62311558 0.         0.78571429 0.97037037]\n",
            " [0.49246231 0.         0.66666667 0.19259259]\n",
            " [0.64572864 1.         0.28571429 0.53333333]\n",
            " [0.79648241 0.         0.21428571 0.01481481]\n",
            " [0.31909548 1.         0.38095238 0.71851852]\n",
            " [0.26884422 0.         0.23809524 0.51851852]\n",
            " [0.06532663 1.         0.33333333 0.77777778]\n",
            " [0.58542714 1.         0.54761905 0.42222222]\n",
            " [0.19849246 1.         0.4047619  0.47407407]\n",
            " [0.17336683 0.         0.19047619 0.27407407]\n",
            " [0.09547739 1.         0.45238095 0.44444444]]\n",
            "[[0.40703518 0.         0.19047619 0.42222222]\n",
            " [0.25125628 1.         0.5        0.41481481]\n",
            " [0.45477387 0.         0.5952381  0.87407407]\n",
            " [0.83668342 0.         0.30952381 0.41481481]\n",
            " [0.37939698 1.         0.38095238 0.20740741]\n",
            " [0.56281407 1.         0.73809524 0.43703704]\n",
            " [0.28894472 0.         0.07142857 0.39259259]\n",
            " [0.29648241 1.         0.52380952 0.32592593]\n",
            " [0.59296482 1.         0.23809524 0.12592593]\n",
            " [0.04271357 0.         0.         0.52592593]\n",
            " [0.51005025 1.         0.45238095 0.95555556]\n",
            " [0.0879397  0.         0.83333333 0.65925926]\n",
            " [0.00753769 1.         0.38095238 0.74074074]\n",
            " [0.88190955 1.         0.28571429 0.54814815]\n",
            " [0.91708543 0.         0.45238095 0.48148148]\n",
            " [0.16331658 1.         0.35714286 0.20740741]\n",
            " [0.61055276 0.         0.45238095 0.9037037 ]\n",
            " [0.90201005 1.         0.66666667 0.32592593]\n",
            " [0.86934673 1.         0.47619048 0.41481481]\n",
            " [0.22864322 0.         0.71428571 0.1037037 ]\n",
            " [0.07537688 1.         0.5        0.88148148]\n",
            " [0.02512563 0.         0.71428571 0.85925926]\n",
            " [0.45979899 1.         0.57142857 0.36296296]\n",
            " [0.7839196  1.         0.45238095 0.45925926]\n",
            " [0.04522613 1.         0.5        0.45925926]\n",
            " [0.40954774 0.         0.02380952 0.04444444]\n",
            " [0.70854271 1.         0.02380952 0.07407407]\n",
            " [0.0201005  0.         0.95238095 0.23703704]\n",
            " [0.8040201  0.         0.69047619 0.23703704]\n",
            " [0.64070352 0.         0.71428571 0.6       ]\n",
            " [0.80150754 1.         0.21428571 0.54074074]\n",
            " [0.70351759 1.         0.57142857 0.48148148]\n",
            " [0.15326633 1.         0.16666667 0.13333333]\n",
            " [0.12311558 0.         0.04761905 0.05925926]\n",
            " [0.53768844 1.         0.57142857 0.99259259]\n",
            " [0.71356784 1.         0.33333333 0.62962963]\n",
            " [0.84924623 0.         0.92857143 0.79259259]\n",
            " [0.49497487 0.         0.92857143 0.08148148]\n",
            " [0.10301508 1.         0.69047619 0.05925926]\n",
            " [0.18592965 0.         0.30952381 0.        ]\n",
            " [0.08040201 1.         0.07142857 0.54074074]\n",
            " [0.90703518 1.         0.28571429 0.        ]\n",
            " [0.02763819 1.         0.4047619  0.42962963]\n",
            " [0.45728643 1.         0.4047619  0.25925926]\n",
            " [0.84170854 0.         0.80952381 0.91111111]\n",
            " [0.38190955 1.         0.5        0.2       ]\n",
            " [0.15829146 1.         0.26190476 0.44444444]\n",
            " [0.48492462 1.         0.23809524 0.54814815]\n",
            " [0.13065327 1.         0.73809524 0.54814815]\n",
            " [0.40452261 0.         0.4047619  0.05925926]\n",
            " [0.75125628 0.         0.45238095 0.31111111]\n",
            " [0.86432161 0.         1.         0.68888889]\n",
            " [0.20603015 0.         0.11904762 0.0962963 ]\n",
            " [0.47738693 0.         0.97619048 0.45185185]\n",
            " [0.99748744 1.         0.92857143 0.33333333]\n",
            " [0.80653266 0.         0.4047619  0.42222222]\n",
            " [0.36180905 1.         0.95238095 0.95555556]\n",
            " [0.79396985 0.         0.         0.21481481]\n",
            " [0.95979899 1.         0.02380952 0.45185185]\n",
            " [0.3040201  0.         0.66666667 0.12592593]\n",
            " [0.4120603  1.         0.69047619 0.14074074]\n",
            " [0.94723618 0.         0.47619048 0.72592593]\n",
            " [0.84673367 0.         0.11904762 0.24444444]\n",
            " [0.27889447 0.         0.28571429 0.74814815]\n",
            " [0.2839196  0.         0.4047619  0.25925926]\n",
            " [0.20351759 1.         0.73809524 0.52592593]\n",
            " [0.17839196 0.         0.54761905 0.42222222]\n",
            " [0.74623116 0.         0.95238095 0.05925926]\n",
            " [0.09798995 1.         0.42857143 0.27407407]\n",
            " [0.64824121 0.         0.42857143 0.35555556]\n",
            " [0.39698492 1.         0.16666667 0.55555556]\n",
            " [0.6080402  1.         0.14285714 0.31851852]\n",
            " [0.65829146 1.         0.28571429 0.88888889]\n",
            " [0.54271357 1.         0.66666667 0.0962963 ]\n",
            " [0.52512563 1.         0.26190476 0.48148148]\n",
            " [0.42964824 1.         0.30952381 0.31851852]\n",
            " [0.54522613 1.         0.33333333 0.02222222]\n",
            " [0.36934673 0.         0.         0.39259259]\n",
            " [0.14070352 0.         0.52380952 0.33333333]\n",
            " [0.20854271 0.         0.4047619  0.41481481]\n",
            " [0.21356784 1.         0.64285714 0.08148148]\n",
            " [0.18844221 0.         0.23809524 0.32592593]\n",
            " [0.96482412 1.         0.23809524 0.47407407]\n",
            " [0.22110553 0.         0.47619048 0.71851852]\n",
            " [0.78643216 0.         0.71428571 0.91111111]\n",
            " [0.19346734 0.         0.83333333 0.4962963 ]\n",
            " [0.51256281 1.         0.14285714 0.2962963 ]\n",
            " [0.09296482 0.         0.71428571 0.77037037]\n",
            " [0.35678392 0.         0.80952381 0.04444444]\n",
            " [0.01507538 1.         0.52380952 0.41481481]\n",
            " [0.61809045 1.         0.52380952 0.44444444]\n",
            " [0.04773869 0.         0.26190476 0.23703704]\n",
            " [0.12562814 0.         0.30952381 0.39259259]\n",
            " [0.18090452 0.         0.4047619  0.23703704]\n",
            " [0.53517588 1.         0.42857143 0.62222222]\n",
            " [0.69346734 1.         0.47619048 0.32592593]\n",
            " [0.89698492 1.         0.26190476 0.98518519]\n",
            " [0.82160804 0.         0.9047619  0.65925926]\n",
            " [0.81658291 0.         0.57142857 0.47407407]\n",
            " [0.16834171 0.         0.97619048 0.5037037 ]\n",
            " [0.87939698 0.         0.21428571 0.11851852]\n",
            " [0.57286432 0.         0.4047619  0.21481481]\n",
            " [0.52763819 0.         0.47619048 0.48148148]\n",
            " [0.65326633 0.         0.4047619  0.37037037]\n",
            " [0.02261307 0.         0.4047619  0.33333333]\n",
            " [0.72613065 1.         0.04761905 0.52592593]\n",
            " [0.66582915 1.         0.69047619 0.66666667]\n",
            " [0.62562814 1.         0.28571429 0.01481481]\n",
            " [0.01005025 0.         0.35714286 0.19259259]\n",
            " [0.34422111 1.         0.52380952 0.31111111]\n",
            " [0.6758794  1.         0.69047619 0.07407407]\n",
            " [0.79899497 1.         0.73809524 0.54074074]\n",
            " [0.48743719 0.         0.35714286 0.0962963 ]\n",
            " [0.17085427 1.         0.52380952 0.23703704]\n",
            " [0.54773869 1.         0.66666667 0.05925926]\n",
            " [0.48994975 0.         0.52380952 0.42222222]\n",
            " [0.0678392  1.         0.14285714 0.05925926]\n",
            " [0.05276382 1.         0.45238095 0.43703704]\n",
            " [0.74371859 0.         0.54761905 0.11111111]\n",
            " [0.91959799 0.         0.4047619  0.97777778]\n",
            " [0.7638191  0.         0.45238095 0.48148148]\n",
            " [0.72864322 0.         0.69047619 0.95555556]\n",
            " [0.63567839 0.         0.04761905 0.4962963 ]\n",
            " [0.55527638 0.         0.19047619 0.14814815]\n",
            " [0.10050251 0.         0.35714286 0.26666667]\n",
            " [0.66331658 0.         0.21428571 0.9037037 ]\n",
            " [0.4321608  1.         0.64285714 0.47407407]\n",
            " [0.01256281 0.         0.07142857 0.00740741]\n",
            " [0.45226131 1.         0.42857143 0.95555556]\n",
            " [0.3718593  0.         0.66666667 0.6       ]\n",
            " [0.77135678 1.         0.16666667 0.48148148]\n",
            " [0.72110553 1.         0.19047619 0.48148148]\n",
            " [1.00251256 0.         0.64285714 0.85925926]\n",
            " [0.46231156 1.         0.0952381  0.48888889]\n",
            " [0.42713568 1.         0.54761905 0.27407407]\n",
            " [0.94472362 0.         0.57142857 0.28148148]\n",
            " [0.37437186 0.         0.23809524 0.53333333]\n",
            " [0.43718593 0.         0.54761905 0.26666667]\n",
            " [0.50502513 1.         0.5        0.2       ]\n",
            " [0.95477387 0.         0.57142857 0.68888889]\n",
            " [0.99497487 1.         0.21428571 0.03703704]\n",
            " [0.31658291 1.         0.54761905 0.47407407]\n",
            " [0.34673367 0.         0.95238095 0.63703704]\n",
            " [0.9321608  0.         0.71428571 0.88148148]\n",
            " [0.94221106 0.         0.23809524 0.2962963 ]\n",
            " [0.92211055 1.         0.52380952 0.31111111]\n",
            " [0.69095477 1.         0.80952381 1.        ]\n",
            " [0.46984925 1.         0.4047619  0.34074074]\n",
            " [0.79145729 1.         0.19047619 0.11111111]\n",
            " [0.41959799 1.         0.57142857 0.42962963]\n",
            " [0.08291457 1.         0.52380952 0.37037037]\n",
            " [0.3919598  1.         0.30952381 0.02222222]\n",
            " [0.5879397  0.         0.45238095 0.46666667]\n",
            " [0.39949749 1.         0.66666667 0.54074074]\n",
            " [0.20100503 0.         0.80952381 0.17037037]\n",
            " [0.85427136 0.         0.23809524 0.21481481]\n",
            " [0.55778894 0.         0.97619048 0.2       ]\n",
            " [0.10552764 1.         0.33333333 0.02222222]\n",
            " [0.33919598 1.         0.4047619  0.31851852]\n",
            " [0.46482412 1.         0.4047619  0.2962963 ]]\n"
          ],
          "name": "stdout"
        }
      ]
    },
    {
      "cell_type": "markdown",
      "metadata": {
        "id": "MGOrd2VS8Bih",
        "colab_type": "text"
      },
      "source": [
        "#GRAPHS"
      ]
    },
    {
      "cell_type": "code",
      "metadata": {
        "id": "Cz3h6lyR_7Rj",
        "colab_type": "code",
        "colab": {
          "base_uri": "https://localhost:8080/",
          "height": 286
        },
        "outputId": "c76f947c-2ff4-42c2-ee6c-457487229fd3"
      },
      "source": [
        "sns.heatmap(df.corr())"
      ],
      "execution_count": 8,
      "outputs": [
        {
          "output_type": "execute_result",
          "data": {
            "text/plain": [
              "<matplotlib.axes._subplots.AxesSubplot at 0x7facf0099320>"
            ]
          },
          "metadata": {
            "tags": []
          },
          "execution_count": 8
        },
        {
          "output_type": "display_data",
          "data": {
            "image/png": "[encoded data removed]",
            "text/plain": [
              "<Figure size 432x288 with 2 Axes>"
            ]
          },
          "metadata": {
            "tags": [],
            "needs_background": "light"
          }
        }
      ]
    },
    {
      "cell_type": "markdown",
      "metadata": {
        "id": "Qt0gKxy68UI-",
        "colab_type": "text"
      },
      "source": [
        "#ALGORITHM"
      ]
    },
    {
      "cell_type": "code",
      "metadata": {
        "id": "a3Y9OdRwyeOS",
        "colab_type": "code",
        "colab": {}
      },
      "source": [
        "knn = KNeighborsClassifier(n_neighbors=11,p=2,metric='euclidean')"
      ],
      "execution_count": 9,
      "outputs": []
    },
    {
      "cell_type": "markdown",
      "metadata": {
        "id": "vJ0pH0B919Uj",
        "colab_type": "text"
      },
      "source": [
        "#FITTING OF TRAINING DATA"
      ]
    },
    {
      "cell_type": "code",
      "metadata": {
        "scrolled": false,
        "id": "U6MpZ38SyeOb",
        "colab_type": "code",
        "colab": {
          "base_uri": "https://localhost:8080/",
          "height": 67
        },
        "outputId": "dd80a49c-39f8-43ea-d905-b601de4d7360"
      },
      "source": [
        "knn.fit(x_train,y_train)\n",
        "#training or fitting the train data into the model"
      ],
      "execution_count": 10,
      "outputs": [
        {
          "output_type": "execute_result",
          "data": {
            "text/plain": [
              "KNeighborsClassifier(algorithm='auto', leaf_size=30, metric='euclidean',\n",
              "                     metric_params=None, n_jobs=None, n_neighbors=11, p=2,\n",
              "                     weights='uniform')"
            ]
          },
          "metadata": {
            "tags": []
          },
          "execution_count": 10
        }
      ]
    },
    {
      "cell_type": "markdown",
      "metadata": {
        "id": "Z7fhtK-Preyl",
        "colab_type": "text"
      },
      "source": [
        "#PREDICTIONS FOR OUR PROBLEM STATEMENT WITH THE RELATED GRAPHS"
      ]
    },
    {
      "cell_type": "code",
      "metadata": {
        "id": "GzHMpLiryeOw",
        "colab_type": "code",
        "colab": {}
      },
      "source": [
        "predictions = knn.predict(x_test)"
      ],
      "execution_count": 11,
      "outputs": []
    },
    {
      "cell_type": "code",
      "metadata": {
        "id": "Xq_2fBqeyeOz",
        "colab_type": "code",
        "colab": {
          "base_uri": "https://localhost:8080/",
          "height": 282
        },
        "outputId": "d447866c-c446-44bd-8c18-b5557d7a977b"
      },
      "source": [
        "plt.scatter(y_test,predictions)"
      ],
      "execution_count": 12,
      "outputs": [
        {
          "output_type": "execute_result",
          "data": {
            "text/plain": [
              "<matplotlib.collections.PathCollection at 0x7facec072588>"
            ]
          },
          "metadata": {
            "tags": []
          },
          "execution_count": 12
        },
        {
          "output_type": "display_data",
          "data": {
            "image/png": "[encoded data removed]",
            "text/plain": [
              "<Figure size 432x288 with 1 Axes>"
            ]
          },
          "metadata": {
            "tags": [],
            "needs_background": "light"
          }
        }
      ]
    },
    {
      "cell_type": "markdown",
      "metadata": {
        "id": "sg2jV8CD2Gm0",
        "colab_type": "text"
      },
      "source": [
        "#EVALUATION"
      ]
    },
    {
      "cell_type": "code",
      "metadata": {
        "id": "eow--Zp3yeO-",
        "colab_type": "code",
        "colab": {
          "base_uri": "https://localhost:8080/",
          "height": 67
        },
        "outputId": "8e4f5bbd-1b2c-4d17-95fc-e968c0582cd6"
      },
      "source": [
        "from sklearn import metrics\n",
        "print('MAE:', metrics.mean_absolute_error(y_test, predictions))\n",
        "print('MSE:', metrics.mean_squared_error(y_test, predictions))\n",
        "print('RMSE:', np.sqrt(metrics.mean_squared_error(y_test, predictions)))"
      ],
      "execution_count": 13,
      "outputs": [
        {
          "output_type": "stream",
          "text": [
            "MAE: 0.19375\n",
            "MSE: 0.19375\n",
            "RMSE: 0.44017042154147523\n"
          ],
          "name": "stdout"
        }
      ]
    },
    {
      "cell_type": "code",
      "metadata": {
        "id": "2SG5tsm0KQ9G",
        "colab_type": "code",
        "colab": {
          "base_uri": "https://localhost:8080/",
          "height": 34
        },
        "outputId": "6ac24a53-30dd-470f-a814-c6b06e6667ab"
      },
      "source": [
        "print(metrics.accuracy_score(y_test, predictions))"
      ],
      "execution_count": 14,
      "outputs": [
        {
          "output_type": "stream",
          "text": [
            "0.80625\n"
          ],
          "name": "stdout"
        }
      ]
    },
    {
      "cell_type": "markdown",
      "metadata": {
        "id": "xTe649WnuRkv",
        "colab_type": "text"
      },
      "source": [
        "#SAVING THE MODEL USING PICKLE LIBRARY"
      ]
    },
    {
      "cell_type": "code",
      "metadata": {
        "id": "s63Y_glZuXg0",
        "colab_type": "code",
        "colab": {
          "base_uri": "https://localhost:8080/",
          "height": 151
        },
        "outputId": "409ccf34-0cd7-4143-ebb7-e64151f5e213"
      },
      "source": [
        "import pickle \n",
        "\n",
        "# Save the trained model as a pickle string. \n",
        "saved_model = pickle.dumps(knn) \n",
        "\n",
        "# Load the pickled model \n",
        "lm_from_pickle = pickle.loads(saved_model) \n",
        "\n",
        "# Use the loaded pickled model to make predictions \n",
        "lm_from_pickle.predict(x_test) \n"
      ],
      "execution_count": 15,
      "outputs": [
        {
          "output_type": "execute_result",
          "data": {
            "text/plain": [
              "array([0, 0, 1, 0, 0, 0, 0, 0, 0, 0, 1, 1, 1, 0, 0, 0, 1, 0, 0, 1, 1, 1,\n",
              "       0, 0, 0, 0, 0, 0, 0, 1, 0, 0, 1, 0, 1, 1, 1, 0, 0, 0, 0, 0, 0, 0,\n",
              "       1, 0, 0, 0, 1, 0, 0, 1, 1, 0, 0, 0, 1, 0, 0, 1, 1, 1, 0, 1, 0, 0,\n",
              "       0, 0, 0, 0, 1, 0, 1, 1, 0, 0, 0, 0, 0, 0, 0, 0, 0, 1, 1, 0, 0, 1,\n",
              "       0, 0, 0, 0, 0, 0, 1, 0, 1, 1, 0, 0, 1, 0, 0, 0, 0, 0, 1, 0, 1, 0,\n",
              "       0, 0, 1, 0, 0, 0, 0, 0, 1, 1, 0, 1, 0, 1, 0, 1, 0, 0, 1, 1, 0, 0,\n",
              "       1, 0, 0, 0, 0, 0, 0, 1, 0, 0, 1, 1, 0, 0, 1, 0, 1, 0, 0, 0, 0, 0,\n",
              "       1, 0, 0, 0, 0, 0])"
            ]
          },
          "metadata": {
            "tags": []
          },
          "execution_count": 15
        }
      ]
    },
    {
      "cell_type": "markdown",
      "metadata": {
        "id": "Olz2qwKZu9h9",
        "colab_type": "text"
      },
      "source": [
        "#ACCURACY w.r.t TRAINED DATA"
      ]
    },
    {
      "cell_type": "markdown",
      "metadata": {
        "id": "llsvY6b8vAgW",
        "colab_type": "text"
      },
      "source": [
        "Confusion Matrix\n"
      ]
    },
    {
      "cell_type": "code",
      "metadata": {
        "id": "ftv_QwkWvC6_",
        "colab_type": "code",
        "colab": {
          "base_uri": "https://localhost:8080/",
          "height": 50
        },
        "outputId": "a32ad79f-3608-4af9-a1a0-0c04c599876a"
      },
      "source": [
        "from sklearn.metrics import confusion_matrix\n",
        "y_train=y_train[0:160]\n",
        "results =confusion_matrix(y_train, predictions)\n",
        "print(results)"
      ],
      "execution_count": 16,
      "outputs": [
        {
          "output_type": "stream",
          "text": [
            "[[70 28]\n",
            " [41 21]]\n"
          ],
          "name": "stdout"
        }
      ]
    },
    {
      "cell_type": "markdown",
      "metadata": {
        "id": "ZE93FHwf2Gga",
        "colab_type": "text"
      },
      "source": [
        "Precision, Recall, Support, Fscore"
      ]
    },
    {
      "cell_type": "code",
      "metadata": {
        "id": "tVRVdFiH2HMw",
        "colab_type": "code",
        "colab": {
          "base_uri": "https://localhost:8080/",
          "height": 34
        },
        "outputId": "62f24b23-1d91-426d-e5ac-fbe01eb3242e"
      },
      "source": [
        "import numpy\n",
        "from sklearn.metrics import precision_recall_fscore_support\n",
        "\n",
        "precision_recall_fscore_support(y_train, predictions, average='macro')"
      ],
      "execution_count": 17,
      "outputs": [
        {
          "output_type": "execute_result",
          "data": {
            "text/plain": [
              "(0.5296010296010296, 0.5264976958525346, 0.524117418854261, None)"
            ]
          },
          "metadata": {
            "tags": []
          },
          "execution_count": 17
        }
      ]
    },
    {
      "cell_type": "markdown",
      "metadata": {
        "id": "KGS7KAWmCNNC",
        "colab_type": "text"
      },
      "source": [
        "#ACCURACY w.r.t TEST DATA"
      ]
    },
    {
      "cell_type": "markdown",
      "metadata": {
        "id": "FlNY8rEtCSDC",
        "colab_type": "text"
      },
      "source": [
        "Confusion Matrix"
      ]
    },
    {
      "cell_type": "code",
      "metadata": {
        "id": "5a1hM-UeCRUF",
        "colab_type": "code",
        "colab": {
          "base_uri": "https://localhost:8080/",
          "height": 50
        },
        "outputId": "e929f8ea-107c-4e2a-cfaf-e9b5323e2478"
      },
      "source": [
        "from sklearn.metrics import confusion_matrix\n",
        "\n",
        "results =confusion_matrix(y_test, predictions)\n",
        "print(results)"
      ],
      "execution_count": 18,
      "outputs": [
        {
          "output_type": "stream",
          "text": [
            "[[94 14]\n",
            " [17 35]]\n"
          ],
          "name": "stdout"
        }
      ]
    },
    {
      "cell_type": "markdown",
      "metadata": {
        "colab_type": "text",
        "id": "g8OMpIMyDDPc"
      },
      "source": [
        "Precision, Recall, Support, Fscore"
      ]
    },
    {
      "cell_type": "code",
      "metadata": {
        "id": "vp6XSF6ADExP",
        "colab_type": "code",
        "colab": {
          "base_uri": "https://localhost:8080/",
          "height": 34
        },
        "outputId": "c03f1eed-b6c0-4432-dc19-c5748f81cce0"
      },
      "source": [
        "import numpy\n",
        "from sklearn.metrics import precision_recall_fscore_support\n",
        "\n",
        "precision_recall_fscore_support(y_test, predictions, average='macro')"
      ],
      "execution_count": 19,
      "outputs": [
        {
          "output_type": "execute_result",
          "data": {
            "text/plain": [
              "(0.7805662805662805, 0.7717236467236468, 0.775758397757584, None)"
            ]
          },
          "metadata": {
            "tags": []
          },
          "execution_count": 19
        }
      ]
    }
  ]
}