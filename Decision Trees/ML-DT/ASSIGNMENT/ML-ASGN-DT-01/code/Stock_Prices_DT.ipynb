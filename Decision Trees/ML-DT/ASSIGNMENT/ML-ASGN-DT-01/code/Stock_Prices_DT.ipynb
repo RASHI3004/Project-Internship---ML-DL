{
  "nbformat": 4,
  "nbformat_minor": 0,
  "metadata": {
    "kernelspec": {
      "display_name": "Python 3",
      "language": "python",
      "name": "python3"
    },
    "language_info": {
      "codemirror_mode": {
        "name": "ipython",
        "version": 3
      },
      "file_extension": ".py",
      "mimetype": "text/x-python",
      "name": "python",
      "nbconvert_exporter": "python",
      "pygments_lexer": "ipython3",
      "version": "3.7.0"
    },
    "colab": {
      "name": "Stock Prices DT.ipynb",
      "provenance": [],
      "toc_visible": true
    }
  },
  "cells": [
    {
      "cell_type": "code",
      "metadata": {
        "id": "DxH5J7DSfQWU",
        "colab_type": "code",
        "colab": {
          "resources": {
            "http://localhost:8080/nbextensions/google.colab/files.js": {
              "data": "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",
              "ok": true,
              "headers": [
                [
                  "content-type",
                  "application/javascript"
                ]
              ],
              "status": 200,
              "status_text": ""
            }
          },
          "base_uri": "https://localhost:8080/",
          "height": 73
        },
        "outputId": "fd969cb2-6837-47aa-9eaa-b41989a1da89"
      },
      "source": [
        "from google.colab import files\n",
        "uploaded = files.upload()"
      ],
      "execution_count": 4,
      "outputs": [
        {
          "output_type": "display_data",
          "data": {
            "text/html": [
              "\n",
              "     <input type=\"file\" id=\"files-683461a1-a122-49b1-9ff0-9f38972f5f75\" name=\"files[]\" multiple disabled\n",
              "        style=\"border:none\" />\n",
              "     <output id=\"result-683461a1-a122-49b1-9ff0-9f38972f5f75\">\n",
              "      Upload widget is only available when the cell has been executed in the\n",
              "      current browser session. Please rerun this cell to enable.\n",
              "      </output>\n",
              "      <script src=\"/nbextensions/google.colab/files.js\"></script> "
            ],
            "text/plain": [
              "<IPython.core.display.HTML object>"
            ]
          },
          "metadata": {
            "tags": []
          }
        },
        {
          "output_type": "stream",
          "text": [
            "Saving AAPL.csv to AAPL.csv\n"
          ],
          "name": "stdout"
        }
      ]
    },
    {
      "cell_type": "markdown",
      "metadata": {
        "id": "tWlvxpBUfjb-",
        "colab_type": "text"
      },
      "source": [
        "#IMPORTING LIBRARIES"
      ]
    },
    {
      "cell_type": "code",
      "metadata": {
        "id": "gx3ZFEvIerPI",
        "colab_type": "code",
        "colab": {}
      },
      "source": [
        "import pandas as pd\n",
        "import numpy as np\n",
        "import matplotlib.pyplot as plt\n",
        "import seaborn\n",
        "from sklearn.model_selection import train_test_split\n",
        "from sklearn.preprocessing import StandardScaler\n",
        "import math\n",
        "from sklearn.tree import DecisionTreeRegressor\n",
        "from sklearn.metrics import confusion_matrix\n",
        "from sklearn import metrics"
      ],
      "execution_count": 5,
      "outputs": []
    },
    {
      "cell_type": "code",
      "metadata": {
        "id": "IwxOqVXferPQ",
        "colab_type": "code",
        "colab": {
          "base_uri": "https://localhost:8080/",
          "height": 195
        },
        "outputId": "6fe58cf4-c583-4314-ff01-d42a922934f5"
      },
      "source": [
        "df= pd.read_csv('AAPL.csv')\n",
        "df.head()"
      ],
      "execution_count": 6,
      "outputs": [
        {
          "output_type": "execute_result",
          "data": {
            "text/html": [
              "<div>\n",
              "<style scoped>\n",
              "    .dataframe tbody tr th:only-of-type {\n",
              "        vertical-align: middle;\n",
              "    }\n",
              "\n",
              "    .dataframe tbody tr th {\n",
              "        vertical-align: top;\n",
              "    }\n",
              "\n",
              "    .dataframe thead th {\n",
              "        text-align: right;\n",
              "    }\n",
              "</style>\n",
              "<table border=\"1\" class=\"dataframe\">\n",
              "  <thead>\n",
              "    <tr style=\"text-align: right;\">\n",
              "      <th></th>\n",
              "      <th>Date</th>\n",
              "      <th>Open</th>\n",
              "      <th>High</th>\n",
              "      <th>Low</th>\n",
              "      <th>Close</th>\n",
              "      <th>Adj Close</th>\n",
              "      <th>Volume</th>\n",
              "    </tr>\n",
              "  </thead>\n",
              "  <tbody>\n",
              "    <tr>\n",
              "      <th>0</th>\n",
              "      <td>2010-03-31</td>\n",
              "      <td>33.641430</td>\n",
              "      <td>33.801430</td>\n",
              "      <td>33.494286</td>\n",
              "      <td>33.571430</td>\n",
              "      <td>22.726398</td>\n",
              "      <td>107664900</td>\n",
              "    </tr>\n",
              "    <tr>\n",
              "      <th>1</th>\n",
              "      <td>2010-04-01</td>\n",
              "      <td>33.915714</td>\n",
              "      <td>34.104286</td>\n",
              "      <td>33.250000</td>\n",
              "      <td>33.709999</td>\n",
              "      <td>22.820208</td>\n",
              "      <td>150786300</td>\n",
              "    </tr>\n",
              "    <tr>\n",
              "      <th>2</th>\n",
              "      <td>2010-04-05</td>\n",
              "      <td>33.568573</td>\n",
              "      <td>34.072857</td>\n",
              "      <td>33.538570</td>\n",
              "      <td>34.070000</td>\n",
              "      <td>23.063911</td>\n",
              "      <td>171126900</td>\n",
              "    </tr>\n",
              "    <tr>\n",
              "      <th>3</th>\n",
              "      <td>2010-04-06</td>\n",
              "      <td>34.028572</td>\n",
              "      <td>34.320000</td>\n",
              "      <td>33.857143</td>\n",
              "      <td>34.220001</td>\n",
              "      <td>23.165457</td>\n",
              "      <td>111754300</td>\n",
              "    </tr>\n",
              "    <tr>\n",
              "      <th>4</th>\n",
              "      <td>2010-04-07</td>\n",
              "      <td>34.221428</td>\n",
              "      <td>34.560001</td>\n",
              "      <td>34.094284</td>\n",
              "      <td>34.371429</td>\n",
              "      <td>23.267965</td>\n",
              "      <td>157125500</td>\n",
              "    </tr>\n",
              "  </tbody>\n",
              "</table>\n",
              "</div>"
            ],
            "text/plain": [
              "         Date       Open       High        Low      Close  Adj Close     Volume\n",
              "0  2010-03-31  33.641430  33.801430  33.494286  33.571430  22.726398  107664900\n",
              "1  2010-04-01  33.915714  34.104286  33.250000  33.709999  22.820208  150786300\n",
              "2  2010-04-05  33.568573  34.072857  33.538570  34.070000  23.063911  171126900\n",
              "3  2010-04-06  34.028572  34.320000  33.857143  34.220001  23.165457  111754300\n",
              "4  2010-04-07  34.221428  34.560001  34.094284  34.371429  23.267965  157125500"
            ]
          },
          "metadata": {
            "tags": []
          },
          "execution_count": 6
        }
      ]
    },
    {
      "cell_type": "markdown",
      "metadata": {
        "id": "vEHCEo0xf7Ar",
        "colab_type": "text"
      },
      "source": [
        "#HANDLING CATEGORICAL DATA"
      ]
    },
    {
      "cell_type": "code",
      "metadata": {
        "id": "NSxPHOKrgH2a",
        "colab_type": "code",
        "colab": {
          "base_uri": "https://localhost:8080/",
          "height": 134
        },
        "outputId": "e9650e13-6768-4b51-ef38-47eae7c0776b"
      },
      "source": [
        "import pandas as pd \n",
        "from sklearn.preprocessing import LabelEncoder\n",
        "x = df.iloc[:, :-1].values \n",
        "y = df.iloc[:, -1].values \n",
        "labelencoder_X = LabelEncoder()\n",
        "x[:,0] = labelencoder_X.fit_transform(x[:,0])\n",
        "x[:,1] = labelencoder_X.fit_transform(x[:,1])\n",
        "print(x)\n",
        "#Here we are using LabelEncoder"
      ],
      "execution_count": 7,
      "outputs": [
        {
          "output_type": "stream",
          "text": [
            "[[0 2 33.801429999999996 33.494285999999995 33.57143 22.726398]\n",
            " [1 3 34.104286 33.25 33.709998999999996 22.820207999999997]\n",
            " [2 1 34.072857 33.53857 34.07 23.063910999999997]\n",
            " ...\n",
            " [1180 1150 116.08000200000001 114.639999 115.0 108.419731]\n",
            " [1181 1144 114.650002 111.620003 112.400002 105.968506]\n",
            " [1182 1139 114.300003 109.349998 114.120003 107.59011100000001]]\n"
          ],
          "name": "stdout"
        }
      ]
    },
    {
      "cell_type": "code",
      "metadata": {
        "id": "RtXTYXKOW951",
        "colab_type": "code",
        "colab": {}
      },
      "source": [
        "x = df[['Open','High','Low','Close']]\n",
        "#separate the other attributes from the predicting attribute"
      ],
      "execution_count": 8,
      "outputs": []
    },
    {
      "cell_type": "code",
      "metadata": {
        "id": "FM1p_lWqXSQd",
        "colab_type": "code",
        "colab": {}
      },
      "source": [
        "y = df[['Volume']]\n",
        "#separte the predicting attribute into Y for model training "
      ],
      "execution_count": 9,
      "outputs": []
    },
    {
      "cell_type": "markdown",
      "metadata": {
        "id": "0tBhuZ4whFcA",
        "colab_type": "text"
      },
      "source": [
        "#GRAPHS"
      ]
    },
    {
      "cell_type": "code",
      "metadata": {
        "id": "o_gOPJJPCNyR",
        "colab_type": "code",
        "colab": {
          "base_uri": "https://localhost:8080/",
          "height": 279
        },
        "outputId": "eb33fe71-7f22-4c78-92b0-54b1c6ad9f71"
      },
      "source": [
        "seaborn.countplot(x='Volume',data=df, palette='hls')\n",
        "plt.show()"
      ],
      "execution_count": 10,
      "outputs": [
        {
          "output_type": "display_data",
          "data": {
            "image/png": "[encoded data removed]",
            "text/plain": [
              "<Figure size 432x288 with 1 Axes>"
            ]
          },
          "metadata": {
            "tags": [],
            "needs_background": "light"
          }
        }
      ]
    },
    {
      "cell_type": "code",
      "metadata": {
        "id": "KagdlPxjXr02",
        "colab_type": "code",
        "colab": {
          "base_uri": "https://localhost:8080/",
          "height": 276
        },
        "outputId": "cbd3152b-2c4e-4d72-d77d-8c6ca728a991"
      },
      "source": [
        "plt.plot(x,y)\n",
        "plt.show()"
      ],
      "execution_count": 11,
      "outputs": [
        {
          "output_type": "display_data",
          "data": {
            "image/png": "[encoded data removed]",
            "text/plain": [
              "<Figure size 432x288 with 1 Axes>"
            ]
          },
          "metadata": {
            "tags": [],
            "needs_background": "light"
          }
        }
      ]
    },
    {
      "cell_type": "markdown",
      "metadata": {
        "id": "sjGL84wcg317",
        "colab_type": "text"
      },
      "source": [
        "#SPLITTING OF DATASET INTO TRAIN AND TEST SET"
      ]
    },
    {
      "cell_type": "code",
      "metadata": {
        "id": "QW3WnnuberPp",
        "colab_type": "code",
        "colab": {}
      },
      "source": [
        "x_train,x_test,y_train,y_test = train_test_split(x,y,test_size=0.2, random_state=0)"
      ],
      "execution_count": 12,
      "outputs": []
    },
    {
      "cell_type": "markdown",
      "metadata": {
        "id": "NrH-Vr5khWpc",
        "colab_type": "text"
      },
      "source": [
        "#NORMALIZING DATA"
      ]
    },
    {
      "cell_type": "code",
      "metadata": {
        "id": "7g_Ms5L1hb9l",
        "colab_type": "code",
        "colab": {
          "base_uri": "https://localhost:8080/",
          "height": 1000
        },
        "outputId": "7c089389-b71c-4a8f-8112-3112353716bf"
      },
      "source": [
        "# data normalization with sklearn\n",
        "from sklearn.preprocessing import MinMaxScaler\n",
        "\n",
        "# fit scaler on training data\n",
        "norm = MinMaxScaler().fit(x_train)\n",
        "\n",
        "# transform training data\n",
        "X_train_norm = norm.transform(x_train)\n",
        "\n",
        "# transform testing data\n",
        "X_test_norm = norm.transform(x_test)\n",
        "\n",
        "print(X_train_norm)\n",
        "print(X_test_norm)"
      ],
      "execution_count": 13,
      "outputs": [
        {
          "output_type": "stream",
          "text": [
            "[[0.64093883 0.64016692 0.66887254 0.64718581]\n",
            " [0.04217119 0.04203511 0.08831126 0.03507891]\n",
            " [0.23533809 0.23141745 0.26730985 0.22090006]\n",
            " ...\n",
            " [0.34527548 0.34038628 0.37722851 0.34058006]\n",
            " [0.56162905 0.58387071 0.59180354 0.58706963]\n",
            " [0.45860118 0.47102916 0.48154998 0.47502129]]\n",
            "[[0.26332491 0.27202311 0.302376   0.27033857]\n",
            " [0.21484215 0.21672426 0.24996013 0.20255725]\n",
            " [0.4348664  0.45347718 0.46762872 0.45369948]\n",
            " [0.24505459 0.24522969 0.28754583 0.24438082]\n",
            " [0.65138607 0.65607342 0.67174296 0.64897655]\n",
            " [0.44094544 0.43610797 0.45308559 0.41994278]\n",
            " [0.80862691 0.80569779 0.81459097 0.79732553]\n",
            " [0.28996632 0.28596835 0.31701482 0.28039697]\n",
            " [0.22347904 0.2388804  0.26667198 0.24223863]\n",
            " [0.69103267 0.69174256 0.70921701 0.68552827]\n",
            " [0.01265637 0.00819425 0.06185617 0.00828437]\n",
            " [0.87152661 0.89005056 0.88792855 0.88835335]\n",
            " [0.54776024 0.55029586 0.56729386 0.54439257]\n",
            " [0.61079283 0.6278339  0.63849462 0.62750413]\n",
            " [0.27269259 0.27012829 0.31390525 0.27371926]\n",
            " [0.60105974 0.59834781 0.61998084 0.59215744]\n",
            " [0.11357486 0.11199387 0.1570882  0.10962156]\n",
            " [0.45989669 0.45535531 0.48089618 0.44529798]\n",
            " [0.25558495 0.25059835 0.28453196 0.24299176]\n",
            " [0.34552465 0.34746691 0.38448414 0.35170958]\n",
            " [0.63356419 0.62841568 0.64244934 0.62375524]\n",
            " [0.19275168 0.19200851 0.23186094 0.18495085]\n",
            " [0.34253494 0.33820887 0.36957422 0.33181035]\n",
            " [0.22979056 0.24464794 0.27356083 0.24866527]\n",
            " [0.16938232 0.16519844 0.21178438 0.16304328]\n",
            " [0.20667033 0.2055382  0.25078933 0.20635637]\n",
            " [0.18384908 0.18140415 0.22683781 0.17976266]\n",
            " [0.01501491 0.01028854 0.06675172 0.01243493]\n",
            " [0.6095139  0.61588329 0.63149413 0.62255021]\n",
            " [0.4608601  0.4618543  0.49253705 0.45955712]\n",
            " [0.04315115 0.03929257 0.09006537 0.04053488]\n",
            " [0.58448352 0.58604809 0.60397061 0.58671818]\n",
            " [0.3153288  0.31886176 0.35568489 0.3220197 ]\n",
            " [0.4982311  0.49503025 0.524398   0.49497076]\n",
            " [0.20371388 0.19797551 0.23669271 0.19131059]\n",
            " [0.70340664 0.7184363  0.72618397 0.72012185]\n",
            " [0.52927407 0.52433347 0.54321478 0.51157301]\n",
            " [0.35349716 0.36216012 0.39110187 0.36247092]\n",
            " [0.27752591 0.27157435 0.31395311 0.27569412]\n",
            " [0.37052172 0.36659793 0.40620315 0.3683955 ]\n",
            " [0.13921973 0.13656004 0.18226759 0.13896001]\n",
            " [0.19991033 0.19923872 0.24248124 0.19842345]\n",
            " [0.32360027 0.32108901 0.35745496 0.32051345]\n",
            " [0.55094923 0.55744302 0.58158184 0.56390683]\n",
            " [0.61026131 0.60976662 0.62737998 0.60902747]\n",
            " [0.47868189 0.48078581 0.51307608 0.48323877]\n",
            " [0.55048416 0.54976396 0.56984526 0.54676911]\n",
            " [0.44044719 0.4419586  0.45774197 0.42441127]\n",
            " [0.72403545 0.72481883 0.73664489 0.71995443]\n",
            " [0.20293325 0.19699487 0.23803219 0.19363689]\n",
            " [0.14978327 0.14590117 0.19582202 0.14928618]\n",
            " [0.55870582 0.57073996 0.58572792 0.57600708]\n",
            " [0.38483901 0.3906489  0.42221338 0.38759185]\n",
            " [0.76026049 0.77533078 0.78322431 0.77951834]\n",
            " [0.71700968 0.72309018 0.73265822 0.71356131]\n",
            " [0.3863671  0.38100854 0.41664806 0.37847066]\n",
            " [0.88175795 0.8784157  0.889268   0.88202709]\n",
            " [0.49256737 0.48693568 0.51307608 0.48042712]\n",
            " [0.62442905 0.62155106 0.63576778 0.61011533]\n",
            " [0.49206903 0.49222122 0.51486203 0.48742275]\n",
            " [0.71666091 0.73088561 0.74058359 0.73289146]\n",
            " [0.54447156 0.54122067 0.5358635  0.50668604]\n",
            " [0.03790259 0.03862774 0.08969862 0.04132147]\n",
            " [0.3740263  0.37603882 0.4104768  0.38081368]\n",
            " [0.47532685 0.48045338 0.5098868  0.48528058]\n",
            " [0.18612455 0.18009106 0.22360072 0.17847398]\n",
            " [0.28332256 0.28096536 0.32093764 0.2847149 ]\n",
            " [0.1321109  0.12986168 0.17150374 0.12471758]\n",
            " [0.5059711  0.51557412 0.53316851 0.51702899]\n",
            " [0.27377219 0.26808389 0.30154682 0.25758563]\n",
            " [0.61285235 0.61132901 0.63013876 0.60151298]\n",
            " [0.12653016 0.12904725 0.17161536 0.12640789]\n",
            " [0.71664432 0.74057577 0.73528942 0.74696658]\n",
            " [0.32145768 0.31894489 0.35640248 0.32130005]\n",
            " [0.36711683 0.36332358 0.38733856 0.34955064]\n",
            " [0.17984624 0.18486135 0.22604052 0.18883363]\n",
            " [0.54769381 0.54999671 0.57143995 0.54094489]\n",
            " [0.49550719 0.50034907 0.52073036 0.49319673]\n",
            " [0.5013869  0.5092414  0.53080847 0.51378214]\n",
            " [0.31134255 0.30581407 0.31711049 0.28083212]\n",
            " [0.17208964 0.16902132 0.2086908  0.16347843]\n",
            " [0.67405791 0.67129846 0.67660662 0.67086745]\n",
            " [0.02770444 0.02710921 0.0727157  0.02232596]\n",
            " [0.23337823 0.24627683 0.27515547 0.23827215]\n",
            " [0.51185081 0.52100924 0.54404401 0.52563132]\n",
            " [0.48366473 0.47900736 0.5048477  0.47702968]\n",
            " [0.37304631 0.36736256 0.39920266 0.36330769]\n",
            " [0.42051594 0.41877205 0.45391483 0.42044482]\n",
            " [0.7541316  0.76210024 0.77140802 0.76281571]\n",
            " [0.53266236 0.53784655 0.56196777 0.53950559]\n",
            " [0.60135867 0.60725683 0.6194387  0.60303593]\n",
            " [0.86908505 0.86375574 0.87899853 0.87195193]\n",
            " [0.77638813 0.77684329 0.79783122 0.78174427]\n",
            " [0.54697965 0.54638985 0.57531495 0.54482767]\n",
            " [0.58418459 0.58114486 0.60768619 0.58666804]\n",
            " [0.56280837 0.56078385 0.58421304 0.5590701 ]\n",
            " [0.1015829  0.09660261 0.14632435 0.09399002]\n",
            " [0.03062771 0.02586261 0.07864773 0.02873588]\n",
            " [0.92884554 0.93531017 0.9236485  0.94435239]\n",
            " [0.01996447 0.0238847  0.06848986 0.02595772]\n",
            " [0.64547317 0.64812842 0.65601972 0.63903528]\n",
            " [0.49020883 0.49664252 0.52081007 0.50276983]\n",
            " [0.3632302  0.36781129 0.40224844 0.36775956]\n",
            " [0.74293695 0.74054248 0.74638814 0.72668237]\n",
            " [0.50514066 0.50354034 0.53259443 0.50362334]\n",
            " [0.56983413 0.58737781 0.59712963 0.59334575]\n",
            " [0.19519329 0.19470112 0.24087068 0.19750296]\n",
            " [0.02833561 0.02205638 0.06434383 0.01770682]\n",
            " [0.1874201  0.18223523 0.22500399 0.17656607]\n",
            " [0.18748654 0.1835649  0.2209536  0.17244898]\n",
            " [0.22851169 0.22450299 0.26576304 0.22428075]\n",
            " [0.47697115 0.4738049  0.50256737 0.47538955]\n",
            " [0.26545087 0.27523101 0.30620315 0.2739201 ]\n",
            " [0.4479878  0.44859048 0.47432629 0.443139  ]\n",
            " [0.76525991 0.80604683 0.75542972 0.7546819 ]\n",
            " [0.34411284 0.3505252  0.38295325 0.35137485]\n",
            " [0.51724887 0.51557412 0.5473927  0.51912102]\n",
            " [0.98453674 0.99243731 0.99754424 1.00082007]\n",
            " [0.51922536 0.52356892 0.55106043 0.52554766]\n",
            " [0.05721927 0.05190809 0.09770373 0.04525444]\n",
            " [0.48529244 0.4957948  0.51188004 0.50024269]\n",
            " [0.15416815 0.15565785 0.20027111 0.15827349]\n",
            " [0.72782239 0.73402698 0.74996013 0.73664035]\n",
            " [0.26686267 0.26560734 0.30479987 0.26444746]\n",
            " [0.80106972 0.80337076 0.81191192 0.7987314 ]\n",
            " [0.16061259 0.17975863 0.20212089 0.17681714]\n",
            " [0.02895015 0.02998469 0.07858394 0.03178188]\n",
            " [0.47916356 0.48515723 0.50554937 0.48661949]\n",
            " [0.3243477  0.33317263 0.361601   0.33587721]\n",
            " [0.23572013 0.23500763 0.27520332 0.23271577]\n",
            " [0.46881592 0.46742239 0.49473765 0.47093768]\n",
            " [0.49118874 0.48552285 0.50433741 0.4828538 ]\n",
            " [0.6129022  0.63519712 0.63965871 0.64204786]\n",
            " [0.4968027  0.49388338 0.52157551 0.49851881]\n",
            " [0.12563328 0.12288079 0.17065859 0.12056702]\n",
            " [0.24113478 0.23608801 0.27757933 0.23740184]\n",
            " [0.53646588 0.53658331 0.56471053 0.53553915]\n",
            " [0.74272095 0.738415   0.75632274 0.73752736]\n",
            " [0.04270271 0.04195198 0.08867806 0.0373048 ]\n",
            " [0.26201276 0.25841034 0.29119759 0.25075732]\n",
            " [0.26604882 0.26392858 0.29955348 0.25741827]\n",
            " [0.02152574 0.02064355 0.07376814 0.02329668]\n",
            " [0.45519628 0.46246928 0.4861585  0.46836039]\n",
            " [0.20657068 0.20474036 0.24983257 0.20846513]\n",
            " [0.53246305 0.52953592 0.52742784 0.49915485]\n",
            " [0.27767538 0.27905389 0.31961407 0.28185302]\n",
            " [0.59408374 0.58970484 0.60763834 0.58044215]\n",
            " [0.03710533 0.03302637 0.08013076 0.03149734]\n",
            " [0.03567693 0.03023403 0.07011643 0.02256028]\n",
            " [0.60629166 0.61618243 0.63479505 0.61855035]\n",
            " [0.77363104 0.78487137 0.78612658 0.78830481]\n",
            " [0.52377631 0.51791766 0.54141281 0.5179327 ]\n",
            " [0.43048152 0.42606869 0.4580609  0.42211847]\n",
            " [0.19288455 0.19528285 0.2351459  0.19541092]\n",
            " [0.51920878 0.5167043  0.52104929 0.49900424]\n",
            " [0.46745398 0.48148396 0.4746292  0.43960766]\n",
            " [0.15310513 0.14716441 0.19760802 0.14828204]\n",
            " [0.00762372 0.00352369 0.05342051 0.00162338]\n",
            " [0.63250125 0.63388408 0.65748683 0.63714418]\n",
            " [0.38558642 0.38085896 0.40575664 0.37432009]\n",
            " [0.3349943  0.33016419 0.35908149 0.31909088]\n",
            " [0.59363534 0.58860777 0.60730348 0.58216594]\n",
            " [0.17129242 0.17766439 0.21519696 0.18118525]\n",
            " [0.29023207 0.28653345 0.32313825 0.28399526]\n",
            " [0.14953414 0.14764641 0.19497686 0.15008953]\n",
            " [0.28282426 0.28668306 0.32494021 0.28707468]\n",
            " [0.54591663 0.55873945 0.57722848 0.55978979]\n",
            " [0.19074196 0.1900638  0.23410937 0.19407204]\n",
            " [0.55706152 0.55413539 0.57643118 0.55692792]\n",
            " [0.06936075 0.0632438  0.10947216 0.0601998 ]\n",
            " [0.29428476 0.29597435 0.33492265 0.29863936]\n",
            " [0.32989521 0.33091218 0.36853771 0.3297016 ]\n",
            " [0.78281594 0.7782395  0.78400568 0.76862312]\n",
            " [0.30973148 0.31475632 0.34431511 0.30432964]\n",
            " [0.9946518  0.99418257 0.92431823 0.954779  ]\n",
            " [0.16232334 0.15798484 0.20133948 0.15213134]\n",
            " [0.3193649  0.31329367 0.35129963 0.31030441]\n",
            " [0.66626805 0.66189085 0.67493224 0.65881743]\n",
            " [0.47223749 0.48562263 0.50518257 0.4898161 ]\n",
            " [0.0458751  0.04318194 0.09626853 0.04493647]\n",
            " [0.56764164 0.56390863 0.58872583 0.5615303 ]\n",
            " [0.55304201 0.54873347 0.57458135 0.54395737]\n",
            " [0.53374198 0.5396416  0.56569927 0.54563102]\n",
            " [0.48298375 0.4793398  0.50446499 0.47254439]\n",
            " [0.33265238 0.32805331 0.35895391 0.31790261]\n",
            " [0.06185332 0.05594707 0.10613938 0.05305347]\n",
            " [0.52832733 0.53300973 0.55582836 0.52971494]\n",
            " [0.24801104 0.24865364 0.28863021 0.25040582]\n",
            " [0.60303624 0.59892959 0.59878802 0.57204065]\n",
            " [0.60921488 0.60401568 0.60484772 0.58670146]\n",
            " [0.49512514 0.49554553 0.52604045 0.49766532]\n",
            " [0.28602987 0.28246126 0.3159464  0.27241385]\n",
            " [0.81153355 0.81372579 0.82887895 0.81689013]\n",
            " [0.24294522 0.25297518 0.28537712 0.25741827]\n",
            " [0.05123989 0.04883319 0.09727315 0.04344694]\n",
            " [0.20064115 0.19676216 0.23935576 0.19316831]\n",
            " [0.51415951 0.51005583 0.54378885 0.51471939]\n",
            " [0.85687713 0.85572765 0.86437569 0.86000238]\n",
            " [0.31579388 0.31852933 0.35388293 0.32181886]\n",
            " [0.62859803 0.62951266 0.64862059 0.63483458]\n",
            " [0.93291481 0.95346054 0.94083875 0.94962424]\n",
            " [0.47619047 0.47461935 0.50913728 0.47664471]\n",
            " [0.3410401  0.34716772 0.37466114 0.34252145]\n",
            " [0.06549075 0.06380889 0.1150853  0.06538803]\n",
            " [0.38930692 0.39397313 0.42093764 0.38829474]\n",
            " [0.51138575 0.54998002 0.54318292 0.55351376]\n",
            " [0.70177893 0.70901201 0.72060272 0.71297551]\n",
            " [0.37027255 0.36598295 0.40505499 0.37100631]\n",
            " [0.48459487 0.48580549 0.51626535 0.48610063]\n",
            " [0.50822994 0.51351303 0.54128523 0.51624243]\n",
            " [0.48306678 0.49378369 0.50545364 0.4941507 ]\n",
            " [0.56224358 0.56159829 0.5869558  0.56405754]\n",
            " [0.37469069 0.36962302 0.40870678 0.37018624]\n",
            " [0.33374859 0.32974867 0.36038909 0.32253851]\n",
            " [0.24844289 0.25264275 0.29191517 0.24960252]\n",
            " [0.6183667  0.62331291 0.64705785 0.62243312]\n",
            " [0.02097764 0.01519179 0.06542816 0.00883665]\n",
            " [0.27451961 0.27014493 0.30537395 0.26421315]\n",
            " [0.37650113 0.37291405 0.39746448 0.36734108]\n",
            " [0.56835588 0.5804468  0.59374901 0.58603201]\n",
            " [0.04222104 0.05009639 0.09081484 0.05266855]\n",
            " [0.59728939 0.59967754 0.62588102 0.60060917]\n",
            " [0.59097778 0.5998936  0.61577099 0.60670117]\n",
            " [0.59478139 0.60306827 0.61963006 0.60255061]\n",
            " [0.44822037 0.45025263 0.47721255 0.44643606]\n",
            " [0.44920028 0.44335482 0.47855207 0.44521431]\n",
            " [0.08887672 0.09332822 0.1383352  0.09024113]\n",
            " [0.37145186 0.36598295 0.40102055 0.36330769]\n",
            " [0.48014355 0.47461935 0.50703239 0.47979109]\n",
            " [0.73139342 0.73412676 0.75195345 0.73851484]\n",
            " [0.53370871 0.52837246 0.54122145 0.51518801]\n",
            " [0.792466   0.78766372 0.80811671 0.78865624]\n",
            " [0.48791674 0.48613784 0.51864131 0.4853308 ]\n",
            " [0.37507266 0.37206633 0.40567693 0.36727414]\n",
            " [0.52595221 0.53473838 0.55582836 0.53734661]\n",
            " [0.33597425 0.34678544 0.37126454 0.3477431 ]\n",
            " [0.4775691  0.47809324 0.50942428 0.47726395]]\n"
          ],
          "name": "stdout"
        }
      ]
    },
    {
      "cell_type": "markdown",
      "metadata": {
        "id": "KPutFJGTmNo5",
        "colab_type": "text"
      },
      "source": [
        "#ALGORITHM"
      ]
    },
    {
      "cell_type": "code",
      "metadata": {
        "id": "vFi-tcMqerPu",
        "colab_type": "code",
        "colab": {}
      },
      "source": [
        "dt = DecisionTreeRegressor(random_state=42)"
      ],
      "execution_count": 14,
      "outputs": []
    },
    {
      "cell_type": "markdown",
      "metadata": {
        "id": "b3RgJD5smZrs",
        "colab_type": "text"
      },
      "source": [
        "#FITTING OF TRAINING DATA"
      ]
    },
    {
      "cell_type": "code",
      "metadata": {
        "id": "UdX5CEPmmGrQ",
        "colab_type": "code",
        "colab": {
          "base_uri": "https://localhost:8080/",
          "height": 118
        },
        "outputId": "b5f4fb05-8725-4f83-f70a-7e6724f02ce0"
      },
      "source": [
        "dt.fit(x_train, y_train)"
      ],
      "execution_count": 15,
      "outputs": [
        {
          "output_type": "execute_result",
          "data": {
            "text/plain": [
              "DecisionTreeRegressor(ccp_alpha=0.0, criterion='mse', max_depth=None,\n",
              "                      max_features=None, max_leaf_nodes=None,\n",
              "                      min_impurity_decrease=0.0, min_impurity_split=None,\n",
              "                      min_samples_leaf=1, min_samples_split=2,\n",
              "                      min_weight_fraction_leaf=0.0, presort='deprecated',\n",
              "                      random_state=42, splitter='best')"
            ]
          },
          "metadata": {
            "tags": []
          },
          "execution_count": 15
        }
      ]
    },
    {
      "cell_type": "markdown",
      "metadata": {
        "id": "o-cluciU1p2t",
        "colab_type": "text"
      },
      "source": [
        "#PREDICTIONS FOR OUR PROBLEM STATEMENT WITH THE RELATED GRAPHS"
      ]
    },
    {
      "cell_type": "code",
      "metadata": {
        "id": "BybKCPF3erP_",
        "colab_type": "code",
        "colab": {}
      },
      "source": [
        "pred = dt.predict(x_test)"
      ],
      "execution_count": 16,
      "outputs": []
    },
    {
      "cell_type": "code",
      "metadata": {
        "id": "HW2LsP0verQD",
        "colab_type": "code",
        "colab": {
          "base_uri": "https://localhost:8080/",
          "height": 306
        },
        "outputId": "93336d04-725d-4c8a-ce3b-85871beb8d62"
      },
      "source": [
        "plt.scatter(y_test,pred)"
      ],
      "execution_count": 17,
      "outputs": [
        {
          "output_type": "execute_result",
          "data": {
            "text/plain": [
              "<matplotlib.collections.PathCollection at 0x7f28709a2860>"
            ]
          },
          "metadata": {
            "tags": []
          },
          "execution_count": 17
        },
        {
          "output_type": "display_data",
          "data": {
            "image/png": "[encoded data removed]",
            "text/plain": [
              "<Figure size 432x288 with 1 Axes>"
            ]
          },
          "metadata": {
            "tags": [],
            "needs_background": "light"
          }
        }
      ]
    },
    {
      "cell_type": "markdown",
      "metadata": {
        "id": "SB4WdwNj3vAA",
        "colab_type": "text"
      },
      "source": [
        "#EVALUATION"
      ]
    },
    {
      "cell_type": "code",
      "metadata": {
        "id": "j_oc2FDOerQR",
        "colab_type": "code",
        "colab": {
          "base_uri": "https://localhost:8080/",
          "height": 34
        },
        "outputId": "737283d0-e054-4dcd-c598-6f841acb31a3"
      },
      "source": [
        "print(metrics.accuracy_score(y_test, pred))"
      ],
      "execution_count": 18,
      "outputs": [
        {
          "output_type": "stream",
          "text": [
            "0.0\n"
          ],
          "name": "stdout"
        }
      ]
    },
    {
      "cell_type": "markdown",
      "metadata": {
        "id": "1MtwOs8s32yH",
        "colab_type": "text"
      },
      "source": [
        "#SAVING THE MODEL USING PICKLE LIBRARY"
      ]
    },
    {
      "cell_type": "code",
      "metadata": {
        "id": "n566N2XPerQX",
        "colab_type": "code",
        "colab": {
          "base_uri": "https://localhost:8080/",
          "height": 1000
        },
        "outputId": "2cc1749c-602f-4110-d389-b4f395751ec9"
      },
      "source": [
        "import pickle \n",
        "\n",
        "# Save the trained model as a pickle string. \n",
        "saved_model = pickle.dumps(dt) \n",
        "\n",
        "# Load the pickled model \n",
        "model_from_pickle = pickle.loads(saved_model) \n",
        "\n",
        "# Use the loaded pickled model to make predictions \n",
        "model_from_pickle.predict(x_test) \n"
      ],
      "execution_count": 23,
      "outputs": [
        {
          "output_type": "execute_result",
          "data": {
            "text/plain": [
              "array([1.474515e+08, 1.076334e+08, 1.890931e+08, 1.014846e+08,\n",
              "       1.603245e+08, 1.905267e+08, 9.462390e+07, 1.581244e+08,\n",
              "       1.169581e+08, 7.595140e+07, 1.571255e+08, 2.744230e+07,\n",
              "       9.705360e+07, 8.303960e+07, 1.396710e+08, 1.141602e+08,\n",
              "       1.644125e+08, 1.134196e+08, 1.634465e+08, 6.201440e+07,\n",
              "       9.612540e+07, 9.731260e+07, 1.381121e+08, 1.169581e+08,\n",
              "       8.073870e+07, 1.133167e+08, 1.267189e+08, 9.582230e+07,\n",
              "       7.785680e+07, 1.490671e+08, 1.333472e+08, 8.973580e+07,\n",
              "       6.919780e+07, 5.518240e+07, 8.235150e+07, 1.093351e+08,\n",
              "       9.811690e+07, 7.735560e+07, 1.373176e+08, 9.792090e+07,\n",
              "       1.233456e+08, 9.526020e+07, 5.413450e+07, 6.820660e+07,\n",
              "       2.086798e+08, 6.115690e+07, 9.705360e+07, 2.361380e+08,\n",
              "       8.458030e+07, 7.733880e+07, 4.837700e+07, 1.088451e+08,\n",
              "       8.371440e+07, 9.337580e+07, 1.050322e+08, 9.793630e+07,\n",
              "       3.369150e+07, 1.204224e+08, 1.412831e+08, 8.444800e+07,\n",
              "       1.060703e+08, 1.793050e+08, 1.120525e+08, 6.394430e+07,\n",
              "       7.108360e+07, 1.249752e+08, 4.491550e+07, 1.270871e+08,\n",
              "       8.314040e+07, 1.861881e+08, 1.559677e+08, 1.084825e+08,\n",
              "       9.291800e+07, 6.919780e+07, 9.314480e+07, 1.802703e+08,\n",
              "       9.705360e+07, 7.056420e+07, 9.086210e+07, 1.581244e+08,\n",
              "       1.883035e+08, 1.741537e+08, 1.742594e+08, 1.169581e+08,\n",
              "       7.494200e+07, 5.584390e+07, 8.073940e+07, 7.543130e+07,\n",
              "       5.531800e+07, 6.340740e+07, 7.071610e+07, 4.157440e+07,\n",
              "       3.347800e+07, 5.647110e+07, 9.782990e+07, 1.118950e+08,\n",
              "       1.623720e+08, 1.066765e+08, 5.766490e+07, 1.010191e+08,\n",
              "       1.638651e+08, 4.464600e+07, 9.984520e+07, 1.337777e+08,\n",
              "       6.881280e+07, 1.000230e+08, 1.506477e+08, 2.620016e+08,\n",
              "       6.529250e+07, 1.006348e+08, 6.369020e+07, 4.847920e+07,\n",
              "       1.474515e+08, 6.105190e+07, 1.296974e+08, 5.737340e+07,\n",
              "       7.057330e+07, 2.481440e+07, 1.018206e+08, 1.316378e+08,\n",
              "       1.003457e+08, 9.979900e+07, 3.379500e+07, 2.353351e+08,\n",
              "       4.459500e+07, 1.436708e+08, 1.665706e+08, 1.210391e+08,\n",
              "       9.787050e+07, 9.396380e+07, 1.208256e+08, 7.060480e+07,\n",
              "       2.386328e+08, 5.618900e+07, 9.319450e+07, 1.022553e+08,\n",
              "       6.340740e+07, 4.547790e+07, 1.895761e+08, 1.831270e+08,\n",
              "       7.089950e+07, 1.010191e+08, 2.153774e+08, 7.104370e+07,\n",
              "       1.793050e+08, 6.734980e+07, 8.158780e+07, 1.550136e+08,\n",
              "       2.599646e+08, 7.785680e+07, 6.235310e+07, 1.414658e+08,\n",
              "       6.965070e+07, 1.122275e+08, 1.793050e+08, 1.137801e+08,\n",
              "       3.937360e+07, 4.190046e+08, 2.264444e+08, 1.761452e+08,\n",
              "       5.471970e+07, 8.158780e+07, 9.431170e+07, 5.716550e+07,\n",
              "       6.648040e+07, 1.065463e+08, 1.201760e+08, 1.177701e+08,\n",
              "       9.445240e+07, 1.941226e+08, 7.555520e+07, 6.796650e+07,\n",
              "       6.368860e+07, 1.715112e+08, 5.717930e+07, 9.979900e+07,\n",
              "       9.234890e+07, 1.767864e+08, 8.638980e+07, 7.578200e+07,\n",
              "       7.339500e+07, 8.992970e+07, 6.340740e+07, 5.584390e+07,\n",
              "       7.773500e+07, 9.719500e+07, 1.387197e+08, 5.888260e+07,\n",
              "       2.577463e+08, 2.626967e+08, 6.478500e+07, 9.193100e+07,\n",
              "       6.826310e+07, 1.412033e+08, 1.356159e+08, 7.733880e+07,\n",
              "       4.058600e+07, 4.806090e+07, 1.171184e+08, 1.517824e+08,\n",
              "       4.422400e+07, 5.223470e+07, 1.479842e+08, 1.793155e+08,\n",
              "       2.246741e+08, 1.008098e+08, 1.533462e+08, 9.792090e+07,\n",
              "       5.929980e+07, 8.314040e+07, 4.563720e+07, 8.639330e+07,\n",
              "       9.962190e+07, 5.471970e+07, 9.679530e+07, 9.485140e+07,\n",
              "       8.354570e+07, 1.861881e+08, 9.984520e+07, 1.229186e+08,\n",
              "       2.191182e+08, 7.071610e+07, 6.101200e+07, 7.071610e+07,\n",
              "       1.003660e+08, 6.277530e+07, 1.677172e+08, 9.581390e+07,\n",
              "       9.257010e+07, 3.379500e+07, 1.414658e+08, 7.737650e+07,\n",
              "       5.929980e+07, 9.792090e+07, 1.008098e+08, 8.209110e+07,\n",
              "       5.223470e+07])"
            ]
          },
          "metadata": {
            "tags": []
          },
          "execution_count": 23
        }
      ]
    },
    {
      "cell_type": "markdown",
      "metadata": {
        "id": "mFWoLpNq4IyM",
        "colab_type": "text"
      },
      "source": [
        "#ACCURACY w.r.t TRAINED DATA"
      ]
    },
    {
      "cell_type": "markdown",
      "metadata": {
        "id": "wO8TkezT4Nn_",
        "colab_type": "text"
      },
      "source": [
        "Confusion Matrix"
      ]
    },
    {
      "cell_type": "code",
      "metadata": {
        "id": "sJoV2M6gerQb",
        "colab_type": "code",
        "colab": {
          "base_uri": "https://localhost:8080/",
          "height": 134
        },
        "outputId": "8bc742d7-e0be-44b8-b0b1-07c2d3e2a558"
      },
      "source": [
        "y_train = y_train[0:17]\n",
        "pred = pred[0:17]\n",
        "results =confusion_matrix(y_train, pred)\n",
        "print(results)"
      ],
      "execution_count": 27,
      "outputs": [
        {
          "output_type": "stream",
          "text": [
            "[[0 0 0 ... 0 0 0]\n",
            " [0 0 0 ... 0 0 0]\n",
            " [0 0 0 ... 0 0 0]\n",
            " ...\n",
            " [0 0 0 ... 0 0 0]\n",
            " [0 0 0 ... 0 0 0]\n",
            " [0 0 0 ... 0 0 0]]\n"
          ],
          "name": "stdout"
        }
      ]
    },
    {
      "cell_type": "markdown",
      "metadata": {
        "id": "j08PP52c62Ix",
        "colab_type": "text"
      },
      "source": [
        "Precision, Recall, Support, Fscore"
      ]
    },
    {
      "cell_type": "code",
      "metadata": {
        "id": "Scg5pgNBerQf",
        "colab_type": "code",
        "colab": {
          "base_uri": "https://localhost:8080/",
          "height": 121
        },
        "outputId": "1a5636af-f83f-4886-fc05-c1f616dac69d"
      },
      "source": [
        "from sklearn.metrics import precision_recall_fscore_support\n",
        "precision_recall_fscore_support(y_train, pred, average='macro')"
      ],
      "execution_count": 28,
      "outputs": [
        {
          "output_type": "stream",
          "text": [
            "/usr/local/lib/python3.6/dist-packages/sklearn/metrics/_classification.py:1272: UndefinedMetricWarning: Precision and F-score are ill-defined and being set to 0.0 in labels with no predicted samples. Use `zero_division` parameter to control this behavior.\n",
            "  _warn_prf(average, modifier, msg_start, len(result))\n",
            "/usr/local/lib/python3.6/dist-packages/sklearn/metrics/_classification.py:1272: UndefinedMetricWarning: Recall and F-score are ill-defined and being set to 0.0 in labels with no true samples. Use `zero_division` parameter to control this behavior.\n",
            "  _warn_prf(average, modifier, msg_start, len(result))\n"
          ],
          "name": "stderr"
        },
        {
          "output_type": "execute_result",
          "data": {
            "text/plain": [
              "(0.0, 0.0, 0.0, None)"
            ]
          },
          "metadata": {
            "tags": []
          },
          "execution_count": 28
        }
      ]
    },
    {
      "cell_type": "markdown",
      "metadata": {
        "id": "R6zsRmL569BU",
        "colab_type": "text"
      },
      "source": [
        "#ACCURACY w.r.t TEST DATA"
      ]
    },
    {
      "cell_type": "markdown",
      "metadata": {
        "id": "tsgObRRB7AI0",
        "colab_type": "text"
      },
      "source": [
        "Confusion Matrix"
      ]
    },
    {
      "cell_type": "code",
      "metadata": {
        "id": "Siyi3_Xi7DTP",
        "colab_type": "code",
        "colab": {
          "base_uri": "https://localhost:8080/",
          "height": 134
        },
        "outputId": "83d3ec73-b6e7-4003-e574-c96bf3d7f05e"
      },
      "source": [
        "y_test = y_test[0:17]\n",
        "results =confusion_matrix(y_test, pred)\n",
        "print(results)"
      ],
      "execution_count": 30,
      "outputs": [
        {
          "output_type": "stream",
          "text": [
            "[[0 0 0 ... 0 0 0]\n",
            " [0 0 0 ... 0 0 0]\n",
            " [1 0 0 ... 0 0 0]\n",
            " ...\n",
            " [0 0 0 ... 0 0 0]\n",
            " [0 0 0 ... 0 0 0]\n",
            " [0 0 0 ... 0 0 0]]\n"
          ],
          "name": "stdout"
        }
      ]
    },
    {
      "cell_type": "markdown",
      "metadata": {
        "id": "8SdwrK2C7JK_",
        "colab_type": "text"
      },
      "source": [
        "Precision, Recall, Support, Fscore"
      ]
    },
    {
      "cell_type": "code",
      "metadata": {
        "id": "E3YP_Nn87L3X",
        "colab_type": "code",
        "colab": {
          "base_uri": "https://localhost:8080/",
          "height": 121
        },
        "outputId": "06f27f41-4281-4cf4-a056-33ee1d016ab2"
      },
      "source": [
        "from sklearn.metrics import precision_recall_fscore_support\n",
        "precision_recall_fscore_support(y_test, pred, average='macro')"
      ],
      "execution_count": 31,
      "outputs": [
        {
          "output_type": "stream",
          "text": [
            "/usr/local/lib/python3.6/dist-packages/sklearn/metrics/_classification.py:1272: UndefinedMetricWarning: Precision and F-score are ill-defined and being set to 0.0 in labels with no predicted samples. Use `zero_division` parameter to control this behavior.\n",
            "  _warn_prf(average, modifier, msg_start, len(result))\n",
            "/usr/local/lib/python3.6/dist-packages/sklearn/metrics/_classification.py:1272: UndefinedMetricWarning: Recall and F-score are ill-defined and being set to 0.0 in labels with no true samples. Use `zero_division` parameter to control this behavior.\n",
            "  _warn_prf(average, modifier, msg_start, len(result))\n"
          ],
          "name": "stderr"
        },
        {
          "output_type": "execute_result",
          "data": {
            "text/plain": [
              "(0.0, 0.0, 0.0, None)"
            ]
          },
          "metadata": {
            "tags": []
          },
          "execution_count": 31
        }
      ]
    }
  ]
}