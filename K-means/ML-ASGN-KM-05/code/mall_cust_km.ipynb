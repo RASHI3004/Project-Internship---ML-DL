{
  "nbformat": 4,
  "nbformat_minor": 0,
  "metadata": {
    "kernelspec": {
      "display_name": "Python 3",
      "language": "python",
      "name": "python3"
    },
    "language_info": {
      "codemirror_mode": {
        "name": "ipython",
        "version": 3
      },
      "file_extension": ".py",
      "mimetype": "text/x-python",
      "name": "python",
      "nbconvert_exporter": "python",
      "pygments_lexer": "ipython3",
      "version": "3.6.1"
    },
    "colab": {
      "name": "mall_cust_km.ipynb",
      "provenance": [],
      "collapsed_sections": [],
      "toc_visible": true
    }
  },
  "cells": [
    {
      "cell_type": "code",
      "metadata": {
        "id": "dB69OBzHyn-8",
        "colab_type": "code",
        "colab": {
          "resources": {
            "http://localhost:8080/nbextensions/google.colab/files.js": {
              "data": "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",
              "ok": true,
              "headers": [
                [
                  "content-type",
                  "application/javascript"
                ]
              ],
              "status": 200,
              "status_text": ""
            }
          },
          "base_uri": "https://localhost:8080/",
          "height": 73
        },
        "outputId": "52fd728d-1222-49eb-b490-09289d825333"
      },
      "source": [
        "from google.colab import files\n",
        "uploaded = files.upload()"
      ],
      "execution_count": 1,
      "outputs": [
        {
          "output_type": "display_data",
          "data": {
            "text/html": [
              "\n",
              "     <input type=\"file\" id=\"files-7775578a-f1a0-4f9d-92a5-402b73dfbe70\" name=\"files[]\" multiple disabled\n",
              "        style=\"border:none\" />\n",
              "     <output id=\"result-7775578a-f1a0-4f9d-92a5-402b73dfbe70\">\n",
              "      Upload widget is only available when the cell has been executed in the\n",
              "      current browser session. Please rerun this cell to enable.\n",
              "      </output>\n",
              "      <script src=\"/nbextensions/google.colab/files.js\"></script> "
            ],
            "text/plain": [
              "<IPython.core.display.HTML object>"
            ]
          },
          "metadata": {
            "tags": []
          }
        },
        {
          "output_type": "stream",
          "text": [
            "Saving Mall_Customers.csv to Mall_Customers.csv\n"
          ],
          "name": "stdout"
        }
      ]
    },
    {
      "cell_type": "markdown",
      "metadata": {
        "id": "dvjrFo0_0IXN",
        "colab_type": "text"
      },
      "source": [
        "#IMPORTING LIBRARIES"
      ]
    },
    {
      "cell_type": "code",
      "metadata": {
        "id": "KPgPHSveyeNr",
        "colab_type": "code",
        "colab": {
          "base_uri": "https://localhost:8080/",
          "height": 70
        },
        "outputId": "ce184b36-74f6-4514-975d-065731ea91f9"
      },
      "source": [
        "import pandas as pd\n",
        "import numpy as np\n",
        "import matplotlib.pyplot as plt\n",
        "import seaborn as sns\n",
        "\n",
        "%matplotlib inline\n",
        "\n"
      ],
      "execution_count": 2,
      "outputs": [
        {
          "output_type": "stream",
          "text": [
            "/usr/local/lib/python3.6/dist-packages/statsmodels/tools/_testing.py:19: FutureWarning: pandas.util.testing is deprecated. Use the functions in the public API at pandas.testing instead.\n",
            "  import pandas.util.testing as tm\n"
          ],
          "name": "stderr"
        }
      ]
    },
    {
      "cell_type": "code",
      "metadata": {
        "id": "ocu0J1bpyeNx",
        "colab_type": "code",
        "colab": {
          "base_uri": "https://localhost:8080/",
          "height": 195
        },
        "outputId": "788c962b-76a9-4820-c998-6e34e7cfac9a"
      },
      "source": [
        "df = pd.read_csv('Mall_Customers.csv')\n",
        "#used to read csv files and perform operations on it\n",
        "\n",
        "df.head()"
      ],
      "execution_count": 3,
      "outputs": [
        {
          "output_type": "execute_result",
          "data": {
            "text/html": [
              "<div>\n",
              "<style scoped>\n",
              "    .dataframe tbody tr th:only-of-type {\n",
              "        vertical-align: middle;\n",
              "    }\n",
              "\n",
              "    .dataframe tbody tr th {\n",
              "        vertical-align: top;\n",
              "    }\n",
              "\n",
              "    .dataframe thead th {\n",
              "        text-align: right;\n",
              "    }\n",
              "</style>\n",
              "<table border=\"1\" class=\"dataframe\">\n",
              "  <thead>\n",
              "    <tr style=\"text-align: right;\">\n",
              "      <th></th>\n",
              "      <th>CustomerID</th>\n",
              "      <th>Genre</th>\n",
              "      <th>Age</th>\n",
              "      <th>Annual Income (k$)</th>\n",
              "      <th>Spending Score (1-100)</th>\n",
              "    </tr>\n",
              "  </thead>\n",
              "  <tbody>\n",
              "    <tr>\n",
              "      <th>0</th>\n",
              "      <td>1</td>\n",
              "      <td>Male</td>\n",
              "      <td>19</td>\n",
              "      <td>15</td>\n",
              "      <td>39</td>\n",
              "    </tr>\n",
              "    <tr>\n",
              "      <th>1</th>\n",
              "      <td>2</td>\n",
              "      <td>Male</td>\n",
              "      <td>21</td>\n",
              "      <td>15</td>\n",
              "      <td>81</td>\n",
              "    </tr>\n",
              "    <tr>\n",
              "      <th>2</th>\n",
              "      <td>3</td>\n",
              "      <td>Female</td>\n",
              "      <td>20</td>\n",
              "      <td>16</td>\n",
              "      <td>6</td>\n",
              "    </tr>\n",
              "    <tr>\n",
              "      <th>3</th>\n",
              "      <td>4</td>\n",
              "      <td>Female</td>\n",
              "      <td>23</td>\n",
              "      <td>16</td>\n",
              "      <td>77</td>\n",
              "    </tr>\n",
              "    <tr>\n",
              "      <th>4</th>\n",
              "      <td>5</td>\n",
              "      <td>Female</td>\n",
              "      <td>31</td>\n",
              "      <td>17</td>\n",
              "      <td>40</td>\n",
              "    </tr>\n",
              "  </tbody>\n",
              "</table>\n",
              "</div>"
            ],
            "text/plain": [
              "   CustomerID   Genre  Age  Annual Income (k$)  Spending Score (1-100)\n",
              "0           1    Male   19                  15                      39\n",
              "1           2    Male   21                  15                      81\n",
              "2           3  Female   20                  16                       6\n",
              "3           4  Female   23                  16                      77\n",
              "4           5  Female   31                  17                      40"
            ]
          },
          "metadata": {
            "tags": []
          },
          "execution_count": 3
        }
      ]
    },
    {
      "cell_type": "markdown",
      "metadata": {
        "id": "zgdYJ7My51qJ",
        "colab_type": "text"
      },
      "source": [
        "#HANDLING CATEGORICAL DATA"
      ]
    },
    {
      "cell_type": "code",
      "metadata": {
        "id": "OqMT00EZ41yu",
        "colab_type": "code",
        "colab": {
          "base_uri": "https://localhost:8080/",
          "height": 1000
        },
        "outputId": "868b7850-c053-4f06-8fcc-81238da58005"
      },
      "source": [
        "x = df.iloc[:, :-1].values\n",
        "y = df.iloc[:, -1].values\n",
        "import pandas as pd \n",
        "from sklearn.preprocessing import LabelEncoder\n",
        "x = df.iloc[:, :-1].values \n",
        "y = df.iloc[:, -1].values \n",
        "labelencoder_X1 = LabelEncoder()\n",
        "x[:,0] = labelencoder_X1.fit_transform(x[:,0])\n",
        "x[:,1] = labelencoder_X1.fit_transform(x[:,1])\n",
        "print(x)\n",
        "#Here we are using LabelEncoder"
      ],
      "execution_count": 4,
      "outputs": [
        {
          "output_type": "stream",
          "text": [
            "[[0 1 19 15]\n",
            " [1 1 21 15]\n",
            " [2 0 20 16]\n",
            " [3 0 23 16]\n",
            " [4 0 31 17]\n",
            " [5 0 22 17]\n",
            " [6 0 35 18]\n",
            " [7 0 23 18]\n",
            " [8 1 64 19]\n",
            " [9 0 30 19]\n",
            " [10 1 67 19]\n",
            " [11 0 35 19]\n",
            " [12 0 58 20]\n",
            " [13 0 24 20]\n",
            " [14 1 37 20]\n",
            " [15 1 22 20]\n",
            " [16 0 35 21]\n",
            " [17 1 20 21]\n",
            " [18 1 52 23]\n",
            " [19 0 35 23]\n",
            " [20 1 35 24]\n",
            " [21 1 25 24]\n",
            " [22 0 46 25]\n",
            " [23 1 31 25]\n",
            " [24 0 54 28]\n",
            " [25 1 29 28]\n",
            " [26 0 45 28]\n",
            " [27 1 35 28]\n",
            " [28 0 40 29]\n",
            " [29 0 23 29]\n",
            " [30 1 60 30]\n",
            " [31 0 21 30]\n",
            " [32 1 53 33]\n",
            " [33 1 18 33]\n",
            " [34 0 49 33]\n",
            " [35 0 21 33]\n",
            " [36 0 42 34]\n",
            " [37 0 30 34]\n",
            " [38 0 36 37]\n",
            " [39 0 20 37]\n",
            " [40 0 65 38]\n",
            " [41 1 24 38]\n",
            " [42 1 48 39]\n",
            " [43 0 31 39]\n",
            " [44 0 49 39]\n",
            " [45 0 24 39]\n",
            " [46 0 50 40]\n",
            " [47 0 27 40]\n",
            " [48 0 29 40]\n",
            " [49 0 31 40]\n",
            " [50 0 49 42]\n",
            " [51 1 33 42]\n",
            " [52 0 31 43]\n",
            " [53 1 59 43]\n",
            " [54 0 50 43]\n",
            " [55 1 47 43]\n",
            " [56 0 51 44]\n",
            " [57 1 69 44]\n",
            " [58 0 27 46]\n",
            " [59 1 53 46]\n",
            " [60 1 70 46]\n",
            " [61 1 19 46]\n",
            " [62 0 67 47]\n",
            " [63 0 54 47]\n",
            " [64 1 63 48]\n",
            " [65 1 18 48]\n",
            " [66 0 43 48]\n",
            " [67 0 68 48]\n",
            " [68 1 19 48]\n",
            " [69 0 32 48]\n",
            " [70 1 70 49]\n",
            " [71 0 47 49]\n",
            " [72 0 60 50]\n",
            " [73 0 60 50]\n",
            " [74 1 59 54]\n",
            " [75 1 26 54]\n",
            " [76 0 45 54]\n",
            " [77 1 40 54]\n",
            " [78 0 23 54]\n",
            " [79 0 49 54]\n",
            " [80 1 57 54]\n",
            " [81 1 38 54]\n",
            " [82 1 67 54]\n",
            " [83 0 46 54]\n",
            " [84 0 21 54]\n",
            " [85 1 48 54]\n",
            " [86 0 55 57]\n",
            " [87 0 22 57]\n",
            " [88 0 34 58]\n",
            " [89 0 50 58]\n",
            " [90 0 68 59]\n",
            " [91 1 18 59]\n",
            " [92 1 48 60]\n",
            " [93 0 40 60]\n",
            " [94 0 32 60]\n",
            " [95 1 24 60]\n",
            " [96 0 47 60]\n",
            " [97 0 27 60]\n",
            " [98 1 48 61]\n",
            " [99 1 20 61]\n",
            " [100 0 23 62]\n",
            " [101 0 49 62]\n",
            " [102 1 67 62]\n",
            " [103 1 26 62]\n",
            " [104 1 49 62]\n",
            " [105 0 21 62]\n",
            " [106 0 66 63]\n",
            " [107 1 54 63]\n",
            " [108 1 68 63]\n",
            " [109 1 66 63]\n",
            " [110 1 65 63]\n",
            " [111 0 19 63]\n",
            " [112 0 38 64]\n",
            " [113 1 19 64]\n",
            " [114 0 18 65]\n",
            " [115 0 19 65]\n",
            " [116 0 63 65]\n",
            " [117 0 49 65]\n",
            " [118 0 51 67]\n",
            " [119 0 50 67]\n",
            " [120 1 27 67]\n",
            " [121 0 38 67]\n",
            " [122 0 40 69]\n",
            " [123 1 39 69]\n",
            " [124 0 23 70]\n",
            " [125 0 31 70]\n",
            " [126 1 43 71]\n",
            " [127 1 40 71]\n",
            " [128 1 59 71]\n",
            " [129 1 38 71]\n",
            " [130 1 47 71]\n",
            " [131 1 39 71]\n",
            " [132 0 25 72]\n",
            " [133 0 31 72]\n",
            " [134 1 20 73]\n",
            " [135 0 29 73]\n",
            " [136 0 44 73]\n",
            " [137 1 32 73]\n",
            " [138 1 19 74]\n",
            " [139 0 35 74]\n",
            " [140 0 57 75]\n",
            " [141 1 32 75]\n",
            " [142 0 28 76]\n",
            " [143 0 32 76]\n",
            " [144 1 25 77]\n",
            " [145 1 28 77]\n",
            " [146 1 48 77]\n",
            " [147 0 32 77]\n",
            " [148 0 34 78]\n",
            " [149 1 34 78]\n",
            " [150 1 43 78]\n",
            " [151 1 39 78]\n",
            " [152 0 44 78]\n",
            " [153 0 38 78]\n",
            " [154 0 47 78]\n",
            " [155 0 27 78]\n",
            " [156 1 37 78]\n",
            " [157 0 30 78]\n",
            " [158 1 34 78]\n",
            " [159 0 30 78]\n",
            " [160 0 56 79]\n",
            " [161 0 29 79]\n",
            " [162 1 19 81]\n",
            " [163 0 31 81]\n",
            " [164 1 50 85]\n",
            " [165 0 36 85]\n",
            " [166 1 42 86]\n",
            " [167 0 33 86]\n",
            " [168 0 36 87]\n",
            " [169 1 32 87]\n",
            " [170 1 40 87]\n",
            " [171 1 28 87]\n",
            " [172 1 36 87]\n",
            " [173 1 36 87]\n",
            " [174 0 52 88]\n",
            " [175 0 30 88]\n",
            " [176 1 58 88]\n",
            " [177 1 27 88]\n",
            " [178 1 59 93]\n",
            " [179 1 35 93]\n",
            " [180 0 37 97]\n",
            " [181 0 32 97]\n",
            " [182 1 46 98]\n",
            " [183 0 29 98]\n",
            " [184 0 41 99]\n",
            " [185 1 30 99]\n",
            " [186 0 54 101]\n",
            " [187 1 28 101]\n",
            " [188 0 41 103]\n",
            " [189 0 36 103]\n",
            " [190 0 34 103]\n",
            " [191 0 32 103]\n",
            " [192 1 33 113]\n",
            " [193 0 38 113]\n",
            " [194 0 47 120]\n",
            " [195 0 35 120]\n",
            " [196 0 45 126]\n",
            " [197 1 32 126]\n",
            " [198 1 32 137]\n",
            " [199 1 30 137]]\n"
          ],
          "name": "stdout"
        }
      ]
    },
    {
      "cell_type": "markdown",
      "metadata": {
        "id": "0e78X5or1118",
        "colab_type": "text"
      },
      "source": [
        "#SPLITTING OF DATA INTO TRAINING AND TEST"
      ]
    },
    {
      "cell_type": "code",
      "metadata": {
        "id": "hONDJ5riyeOL",
        "colab_type": "code",
        "colab": {}
      },
      "source": [
        "from sklearn.model_selection import train_test_split\n",
        "\n",
        "#import model selection train test split for splitting the data into test and train for model validation."
      ],
      "execution_count": 5,
      "outputs": []
    },
    {
      "cell_type": "code",
      "metadata": {
        "id": "lpe2icOsyeOP",
        "colab_type": "code",
        "colab": {}
      },
      "source": [
        "x_train, x_test, y_train, y_test = train_test_split(x, y, test_size=0.4, random_state=101)\n"
      ],
      "execution_count": 6,
      "outputs": []
    },
    {
      "cell_type": "markdown",
      "metadata": {
        "id": "HhQfgC0b6ubT",
        "colab_type": "text"
      },
      "source": [
        "#NORMALIZING DATA"
      ]
    },
    {
      "cell_type": "code",
      "metadata": {
        "id": "Udf-XPOX61Kl",
        "colab_type": "code",
        "colab": {
          "base_uri": "https://localhost:8080/",
          "height": 1000
        },
        "outputId": "cbcab207-2f0b-4e2c-9549-6f5235e9da0e"
      },
      "source": [
        "# data normalization with sklearn\n",
        "from sklearn.preprocessing import MinMaxScaler\n",
        "\n",
        "# fit scaler on training data\n",
        "norm = MinMaxScaler().fit(x_train)\n",
        "\n",
        "# transform training data\n",
        "X_train_norm = norm.transform(x_train)\n",
        "\n",
        "# transform testing data\n",
        "X_test_norm = norm.transform(x_test)\n",
        "\n",
        "print(X_train_norm)\n",
        "print(X_test_norm)"
      ],
      "execution_count": 7,
      "outputs": [
        {
          "output_type": "stream",
          "text": [
            "[[0.75757576 1.         0.48076923 0.51639344]\n",
            " [0.8030303  0.         0.23076923 0.51639344]\n",
            " [0.91919192 1.         0.53846154 0.68032787]\n",
            " [0.93434343 1.         0.23076923 0.68852459]\n",
            " [0.97474747 0.         0.38461538 0.80327869]\n",
            " [0.13636364 1.         0.32692308 0.10655738]\n",
            " [0.96969697 1.         0.28846154 0.80327869]\n",
            " [0.84343434 0.         0.28846154 0.58196721]\n",
            " [0.52525253 1.         0.59615385 0.3852459 ]\n",
            " [0.99494949 1.         0.26923077 0.90983607]\n",
            " [0.45959596 1.         0.         0.36065574]\n",
            " [0.10606061 1.         0.13461538 0.07377049]\n",
            " [0.68181818 0.         0.21153846 0.47540984]\n",
            " [0.14646465 0.         0.09615385 0.1147541 ]\n",
            " [0.48484848 0.         0.55769231 0.36885246]\n",
            " [0.60606061 1.         0.17307692 0.42622951]\n",
            " [0.23232323 0.         0.61538462 0.20491803]\n",
            " [0.38888889 1.         0.42307692 0.31967213]\n",
            " [0.28787879 1.         0.98076923 0.23770492]\n",
            " [0.41414141 1.         0.94230769 0.31967213]\n",
            " [0.33838384 0.         0.96153846 0.2704918 ]\n",
            " [0.49494949 1.         0.57692308 0.37704918]\n",
            " [0.3989899  0.         0.59615385 0.31967213]\n",
            " [0.67676768 1.         0.03846154 0.47540984]\n",
            " [0.11616162 1.         0.25       0.08196721]\n",
            " [0.34343434 1.         0.01923077 0.2704918 ]\n",
            " [0.54545455 1.         0.96153846 0.39344262]\n",
            " [0.76767677 0.         0.5        0.51639344]\n",
            " [0.51010101 0.         0.59615385 0.3852459 ]\n",
            " [0.89393939 1.         0.17307692 0.59836066]\n",
            " [0.44444444 0.         0.30769231 0.35245902]\n",
            " [0.03030303 0.         0.32692308 0.02459016]\n",
            " [0.25757576 1.         0.28846154 0.22131148]\n",
            " [0.88888889 1.         0.76923077 0.59836066]\n",
            " [0.94444444 1.         0.19230769 0.70491803]\n",
            " [0.34848485 0.         0.26923077 0.2704918 ]\n",
            " [0.07070707 1.         0.36538462 0.04098361]\n",
            " [0.66161616 1.         0.40384615 0.45901639]\n",
            " [0.42424242 0.         0.05769231 0.31967213]\n",
            " [0.91414141 0.         0.26923077 0.67213115]\n",
            " [0.01515152 0.         0.09615385 0.00819672]\n",
            " [0.80808081 0.         0.73076923 0.52459016]\n",
            " [0.17676768 0.         0.05769231 0.14754098]\n",
            " [0.47474747 0.         0.26923077 0.36885246]\n",
            " [0.57070707 1.         0.01923077 0.40163934]\n",
            " [0.7020202  0.         0.32692308 0.48360656]\n",
            " [0.62121212 1.         0.40384615 0.44262295]\n",
            " [1.         1.         0.26923077 1.        ]\n",
            " [0.46464646 1.         0.57692308 0.36885246]\n",
            " [0.29292929 0.         0.17307692 0.25409836]\n",
            " [0.65656566 1.         0.55769231 0.45901639]\n",
            " [0.23737374 0.         0.17307692 0.20491803]\n",
            " [0.83838384 1.         0.46153846 0.58196721]\n",
            " [0.13131313 0.         0.51923077 0.10655738]\n",
            " [0.61616162 0.         0.42307692 0.44262295]\n",
            " [0.43434343 0.         0.71153846 0.3442623 ]\n",
            " [0.82323232 0.         0.25       0.54098361]\n",
            " [0.1010101  1.         0.32692308 0.07377049]\n",
            " [0.76262626 1.         0.40384615 0.51639344]\n",
            " [0.05050505 1.         0.94230769 0.03278689]\n",
            " [0.15151515 1.         0.80769231 0.12295082]\n",
            " [0.86363636 1.         0.19230769 0.59016393]\n",
            " [0.62626263 0.         0.09615385 0.45081967]\n",
            " [0.48989899 0.         0.17307692 0.36885246]\n",
            " [0.08585859 1.         0.03846154 0.04918033]\n",
            " [0.92929293 0.         0.44230769 0.68852459]\n",
            " [0.53535354 0.         0.92307692 0.39344262]\n",
            " [0.58585859 0.         0.86538462 0.40983607]\n",
            " [0.         1.         0.01923077 0.        ]\n",
            " [0.87373737 1.         0.34615385 0.59016393]\n",
            " [0.72222222 0.         0.26923077 0.5       ]\n",
            " [0.78787879 1.         0.36538462 0.51639344]\n",
            " [0.35858586 0.         0.55769231 0.27868852]\n",
            " [0.73737374 1.         0.57692308 0.50819672]\n",
            " [0.36868687 0.         0.80769231 0.28688525]\n",
            " [0.19191919 0.         0.34615385 0.18032787]\n",
            " [0.52020202 1.         0.15384615 0.3852459 ]\n",
            " [0.85353535 1.         0.26923077 0.59016393]\n",
            " [0.03535354 0.         0.09615385 0.02459016]\n",
            " [0.95454545 0.         0.34615385 0.72131148]\n",
            " [0.14141414 0.         0.42307692 0.1147541 ]\n",
            " [0.5        1.         0.03846154 0.37704918]\n",
            " [0.31313131 0.         0.94230769 0.26229508]\n",
            " [0.04040404 1.         0.88461538 0.03278689]\n",
            " [0.53030303 0.         0.05769231 0.3852459 ]\n",
            " [0.64646465 1.         0.78846154 0.45901639]\n",
            " [0.97979798 0.         0.55769231 0.86065574]\n",
            " [0.54040404 1.         0.69230769 0.39344262]\n",
            " [0.38383838 0.         0.51923077 0.31967213]\n",
            " [0.6969697  1.         0.01923077 0.48360656]\n",
            " [0.63636364 1.         0.48076923 0.45901639]\n",
            " [0.0959596  0.         0.32692308 0.06557377]\n",
            " [0.36363636 0.         0.80769231 0.28688525]\n",
            " [0.22222222 0.         0.59615385 0.19672131]\n",
            " [0.81818182 1.         0.01923077 0.54098361]\n",
            " [0.2979798  1.         0.67307692 0.25409836]\n",
            " [0.8989899  1.         0.78846154 0.63934426]\n",
            " [0.79292929 0.         0.23076923 0.51639344]\n",
            " [0.58080808 0.         0.01923077 0.40983607]\n",
            " [0.68686869 0.         0.5        0.47540984]\n",
            " [0.56060606 0.         0.01923077 0.39344262]\n",
            " [0.41919192 0.         0.53846154 0.31967213]\n",
            " [0.24747475 0.         0.25       0.20491803]\n",
            " [0.96464646 0.         0.26923077 0.72131148]\n",
            " [0.70707071 0.         0.75       0.49180328]\n",
            " [0.02525253 0.         0.07692308 0.01639344]\n",
            " [0.55555556 1.         0.90384615 0.39344262]\n",
            " [0.3030303  1.         1.         0.25409836]\n",
            " [0.84848485 0.         0.34615385 0.59016393]\n",
            " [0.98484848 0.         0.32692308 0.86065574]\n",
            " [0.66666667 0.         0.13461538 0.46721311]\n",
            " [0.2020202  0.         0.90384615 0.18852459]\n",
            " [0.69191919 1.         0.26923077 0.47540984]\n",
            " [0.37878788 1.         0.15384615 0.31967213]\n",
            " [0.43939394 0.         0.07692308 0.3442623 ]\n",
            " [0.31818182 0.         0.69230769 0.26229508]\n",
            " [0.35353535 1.         1.         0.27868852]\n",
            " [0.40909091 1.         0.38461538 0.31967213]\n",
            " [0.05555556 0.         0.32692308 0.03278689]\n",
            " [0.47979798 1.         0.11538462 0.36885246]]\n",
            "[[0.18686869 0.         0.23076923 0.1557377 ]\n",
            " [0.55050505 1.         0.92307692 0.39344262]\n",
            " [0.15656566 0.         0.05769231 0.12295082]\n",
            " [0.44949495 0.         0.61538462 0.35245902]\n",
            " [0.33333333 0.         0.48076923 0.2704918 ]\n",
            " [0.6010101  0.         0.61538462 0.42622951]\n",
            " [0.27272727 0.         0.61538462 0.2295082 ]\n",
            " [0.37373737 1.         0.78846154 0.31967213]\n",
            " [0.73232323 1.         0.19230769 0.50819672]\n",
            " [0.71717172 0.         0.19230769 0.5       ]\n",
            " [0.74747475 0.         0.30769231 0.51639344]\n",
            " [0.56565657 0.         0.38461538 0.40163934]\n",
            " [0.87878788 0.         0.65384615 0.59836066]\n",
            " [0.27777778 1.         0.55769231 0.2295082 ]\n",
            " [0.71212121 1.         0.26923077 0.49180328]\n",
            " [0.75252525 1.         0.30769231 0.51639344]\n",
            " [0.12626263 1.         0.21153846 0.10655738]\n",
            " [0.17171717 0.         0.59615385 0.14754098]\n",
            " [0.85858586 1.         0.42307692 0.59016393]\n",
            " [0.1969697  0.         0.03846154 0.18032787]\n",
            " [0.86868687 1.         0.34615385 0.59016393]\n",
            " [0.77272727 0.         0.38461538 0.51639344]\n",
            " [0.88383838 0.         0.23076923 0.59836066]\n",
            " [0.30808081 1.         0.01923077 0.25409836]\n",
            " [0.32828283 1.         0.         0.2704918 ]\n",
            " [0.25252525 0.         0.59615385 0.22131148]\n",
            " [0.21212121 1.         0.57692308 0.19672131]\n",
            " [0.65151515 1.         0.38461538 0.45901639]\n",
            " [0.9040404  1.         0.32692308 0.63934426]\n",
            " [0.01010101 0.         0.03846154 0.00819672]\n",
            " [0.06060606 0.         0.76923077 0.04098361]\n",
            " [0.67171717 0.         0.25       0.46721311]\n",
            " [0.45454545 0.         0.96153846 0.36065574]\n",
            " [0.11111111 0.         0.53846154 0.08196721]\n",
            " [0.20707071 1.         0.11538462 0.18852459]\n",
            " [0.16161616 1.         0.67307692 0.14754098]\n",
            " [0.63131313 0.         0.25       0.45081967]\n",
            " [0.98989899 0.         0.51923077 0.90983607]\n",
            " [0.7979798  1.         0.30769231 0.51639344]\n",
            " [0.90909091 0.         0.36538462 0.67213115]\n",
            " [0.08080808 0.         0.32692308 0.04918033]\n",
            " [0.93939394 0.         0.69230769 0.70491803]\n",
            " [0.72727273 1.         0.13461538 0.50819672]\n",
            " [0.61111111 0.         0.38461538 0.42622951]\n",
            " [0.4040404  1.         0.75       0.31967213]\n",
            " [0.09090909 1.         0.65384615 0.06557377]\n",
            " [0.39393939 0.         0.09615385 0.31967213]\n",
            " [0.24242424 0.         0.21153846 0.20491803]\n",
            " [0.02020202 0.         0.25       0.01639344]\n",
            " [0.07575758 1.         0.07692308 0.04098361]\n",
            " [0.00505051 1.         0.05769231 0.        ]\n",
            " [0.21717172 0.         0.25       0.19672131]\n",
            " [0.51515152 1.         0.94230769 0.3852459 ]\n",
            " [0.82828283 1.         0.61538462 0.57377049]\n",
            " [0.04545455 0.         0.23076923 0.03278689]\n",
            " [0.78282828 0.         0.17307692 0.51639344]\n",
            " [0.18181818 0.         0.46153846 0.1557377 ]\n",
            " [0.95959596 0.         0.30769231 0.72131148]\n",
            " [0.16666667 1.         0.         0.14754098]\n",
            " [0.22727273 0.         0.11538462 0.19672131]\n",
            " [0.42929293 1.         0.57692308 0.31967213]\n",
            " [0.92424242 0.         0.21153846 0.68032787]\n",
            " [0.64141414 1.         0.42307692 0.45901639]\n",
            " [0.26767677 1.         0.78846154 0.2295082 ]\n",
            " [0.50505051 0.         0.09615385 0.3852459 ]\n",
            " [0.46969697 0.         0.42307692 0.36885246]\n",
            " [0.77777778 0.         0.55769231 0.51639344]\n",
            " [0.57575758 0.         0.         0.40983607]\n",
            " [0.5959596  0.         0.63461538 0.42622951]\n",
            " [0.32323232 1.         0.86538462 0.2704918 ]\n",
            " [0.83333333 0.         0.34615385 0.57377049]\n",
            " [0.12121212 0.         0.69230769 0.10655738]\n",
            " [0.94949495 0.         0.44230769 0.72131148]\n",
            " [0.59090909 0.         0.59615385 0.40983607]\n",
            " [0.06565657 0.         0.11538462 0.04098361]\n",
            " [0.26262626 0.         0.25       0.2295082 ]\n",
            " [0.81313131 0.         0.21153846 0.52459016]\n",
            " [0.74242424 0.         0.26923077 0.50819672]\n",
            " [0.28282828 0.         0.63461538 0.23770492]\n",
            " [1.00505051 1.         0.23076923 1.        ]]\n"
          ],
          "name": "stdout"
        }
      ]
    },
    {
      "cell_type": "markdown",
      "metadata": {
        "id": "MGOrd2VS8Bih",
        "colab_type": "text"
      },
      "source": [
        "#GRAPHS"
      ]
    },
    {
      "cell_type": "code",
      "metadata": {
        "id": "3rH3VyV38DXI",
        "colab_type": "code",
        "colab": {
          "base_uri": "https://localhost:8080/",
          "height": 265
        },
        "outputId": "d659c0a1-cbfd-46d2-d7d9-a5211b5bb32d"
      },
      "source": [
        "import matplotlib.pyplot as plt \n",
        "\n",
        "plt.plot(x, y) \n",
        " \n",
        "\n",
        "plt.show() \n"
      ],
      "execution_count": 8,
      "outputs": [
        {
          "output_type": "display_data",
          "data": {
            "image/png": "[encoded data removed]",
            "text/plain": [
              "<Figure size 432x288 with 1 Axes>"
            ]
          },
          "metadata": {
            "tags": [],
            "needs_background": "light"
          }
        }
      ]
    },
    {
      "cell_type": "markdown",
      "metadata": {
        "id": "Qt0gKxy68UI-",
        "colab_type": "text"
      },
      "source": [
        "#ALGORITHM"
      ]
    },
    {
      "cell_type": "code",
      "metadata": {
        "id": "a3Y9OdRwyeOS",
        "colab_type": "code",
        "colab": {}
      },
      "source": [
        "from sklearn.cluster import KMeans\n",
        "num_clusters = 5\n",
        "km = KMeans(n_clusters=num_clusters)\n"
      ],
      "execution_count": 9,
      "outputs": []
    },
    {
      "cell_type": "markdown",
      "metadata": {
        "id": "vJ0pH0B919Uj",
        "colab_type": "text"
      },
      "source": [
        "#FITTING OF TRAINING DATA"
      ]
    },
    {
      "cell_type": "code",
      "metadata": {
        "scrolled": false,
        "id": "U6MpZ38SyeOb",
        "colab_type": "code",
        "colab": {
          "base_uri": "https://localhost:8080/",
          "height": 67
        },
        "outputId": "8fd94e42-f694-49f6-9c86-3d5ef799990a"
      },
      "source": [
        "km.fit(x_train,y_train)\n",
        "#training or fitting the train data into the model"
      ],
      "execution_count": 10,
      "outputs": [
        {
          "output_type": "execute_result",
          "data": {
            "text/plain": [
              "KMeans(algorithm='auto', copy_x=True, init='k-means++', max_iter=300,\n",
              "       n_clusters=5, n_init=10, n_jobs=None, precompute_distances='auto',\n",
              "       random_state=None, tol=0.0001, verbose=0)"
            ]
          },
          "metadata": {
            "tags": []
          },
          "execution_count": 10
        }
      ]
    },
    {
      "cell_type": "markdown",
      "metadata": {
        "id": "Z7fhtK-Preyl",
        "colab_type": "text"
      },
      "source": [
        "#PREDICTIONS FOR OUR PROBLEM STATEMENT WITH THE RELATED GRAPHS"
      ]
    },
    {
      "cell_type": "code",
      "metadata": {
        "id": "GzHMpLiryeOw",
        "colab_type": "code",
        "colab": {}
      },
      "source": [
        "predictions = km.predict(x_test)"
      ],
      "execution_count": 11,
      "outputs": []
    },
    {
      "cell_type": "code",
      "metadata": {
        "id": "Xq_2fBqeyeOz",
        "colab_type": "code",
        "colab": {
          "base_uri": "https://localhost:8080/",
          "height": 282
        },
        "outputId": "03b54288-05c0-45f2-b206-46368d205aea"
      },
      "source": [
        "plt.scatter(y_test,predictions)\n"
      ],
      "execution_count": 12,
      "outputs": [
        {
          "output_type": "execute_result",
          "data": {
            "text/plain": [
              "<matplotlib.collections.PathCollection at 0x7f122926a9b0>"
            ]
          },
          "metadata": {
            "tags": []
          },
          "execution_count": 12
        },
        {
          "output_type": "display_data",
          "data": {
            "image/png": "[encoded data removed]",
            "text/plain": [
              "<Figure size 432x288 with 1 Axes>"
            ]
          },
          "metadata": {
            "tags": [],
            "needs_background": "light"
          }
        }
      ]
    },
    {
      "cell_type": "markdown",
      "metadata": {
        "id": "sg2jV8CD2Gm0",
        "colab_type": "text"
      },
      "source": [
        "#EVALUATION"
      ]
    },
    {
      "cell_type": "code",
      "metadata": {
        "id": "eow--Zp3yeO-",
        "colab_type": "code",
        "colab": {
          "base_uri": "https://localhost:8080/",
          "height": 67
        },
        "outputId": "dd2595e1-544a-4366-fe10-c8f1d65c1d3d"
      },
      "source": [
        "from sklearn import metrics\n",
        "print('MAE:', metrics.mean_absolute_error(y_test, predictions))\n",
        "print('MSE:', metrics.mean_squared_error(y_test, predictions))\n",
        "print('RMSE:', np.sqrt(metrics.mean_squared_error(y_test, predictions)))"
      ],
      "execution_count": 13,
      "outputs": [
        {
          "output_type": "stream",
          "text": [
            "MAE: 49.225\n",
            "MSE: 3133.875\n",
            "RMSE: 55.98102357049217\n"
          ],
          "name": "stdout"
        }
      ]
    },
    {
      "cell_type": "code",
      "metadata": {
        "id": "2JYyskO5G7wi",
        "colab_type": "code",
        "colab": {
          "base_uri": "https://localhost:8080/",
          "height": 34
        },
        "outputId": "7a9cef71-48f0-41ce-f865-e201234b85fd"
      },
      "source": [
        "print(metrics.accuracy_score(y_test, predictions))"
      ],
      "execution_count": 15,
      "outputs": [
        {
          "output_type": "stream",
          "text": [
            "0.0125\n"
          ],
          "name": "stdout"
        }
      ]
    },
    {
      "cell_type": "markdown",
      "metadata": {
        "id": "xTe649WnuRkv",
        "colab_type": "text"
      },
      "source": [
        "#SAVING THE MODEL USING PICKLE LIBRARY"
      ]
    },
    {
      "cell_type": "code",
      "metadata": {
        "id": "s63Y_glZuXg0",
        "colab_type": "code",
        "colab": {
          "base_uri": "https://localhost:8080/",
          "height": 84
        },
        "outputId": "04d5d3a6-7a8a-42ed-daa2-87d0fb5f217e"
      },
      "source": [
        "import pickle \n",
        "\n",
        "# Save the trained model as a pickle string. \n",
        "saved_model = pickle.dumps(km) \n",
        "\n",
        "# Load the pickled model \n",
        "lm_from_pickle = pickle.loads(saved_model) \n",
        "\n",
        "# Use the loaded pickled model to make predictions \n",
        "lm_from_pickle.predict(x_test) \n"
      ],
      "execution_count": 16,
      "outputs": [
        {
          "output_type": "execute_result",
          "data": {
            "text/plain": [
              "array([2, 4, 2, 4, 0, 4, 0, 0, 1, 1, 1, 4, 3, 0, 1, 1, 2, 2, 3, 2, 3, 1,\n",
              "       3, 0, 0, 0, 0, 1, 3, 2, 2, 1, 4, 2, 2, 2, 1, 3, 1, 3, 2, 3, 1, 1,\n",
              "       0, 2, 4, 0, 2, 2, 2, 0, 4, 3, 2, 1, 2, 3, 2, 0, 4, 3, 1, 0, 4, 4,\n",
              "       1, 4, 4, 0, 3, 2, 3, 4, 2, 0, 1, 1, 0, 3], dtype=int32)"
            ]
          },
          "metadata": {
            "tags": []
          },
          "execution_count": 16
        }
      ]
    },
    {
      "cell_type": "markdown",
      "metadata": {
        "id": "Olz2qwKZu9h9",
        "colab_type": "text"
      },
      "source": [
        "#ACCURACY w.r.t TRAINED DATA"
      ]
    },
    {
      "cell_type": "markdown",
      "metadata": {
        "id": "llsvY6b8vAgW",
        "colab_type": "text"
      },
      "source": [
        "Confusion Matrix\n"
      ]
    },
    {
      "cell_type": "code",
      "metadata": {
        "id": "ftv_QwkWvC6_",
        "colab_type": "code",
        "colab": {
          "base_uri": "https://localhost:8080/",
          "height": 134
        },
        "outputId": "b160c8e1-080b-4d88-ae21-e203d8284e15"
      },
      "source": [
        "from sklearn.metrics import confusion_matrix\n",
        "y_train=y_train[0:80]\n",
        "results =confusion_matrix(y_train, predictions)\n",
        "print(results)"
      ],
      "execution_count": 17,
      "outputs": [
        {
          "output_type": "stream",
          "text": [
            "[[0 0 0 ... 0 0 0]\n",
            " [0 0 1 ... 0 0 0]\n",
            " [0 0 0 ... 0 0 0]\n",
            " ...\n",
            " [1 0 0 ... 0 0 0]\n",
            " [1 0 0 ... 0 0 0]\n",
            " [0 0 0 ... 0 0 0]]\n"
          ],
          "name": "stdout"
        }
      ]
    },
    {
      "cell_type": "markdown",
      "metadata": {
        "id": "ZE93FHwf2Gga",
        "colab_type": "text"
      },
      "source": [
        "Precision, Recall, Support, Fscore"
      ]
    },
    {
      "cell_type": "code",
      "metadata": {
        "id": "tVRVdFiH2HMw",
        "colab_type": "code",
        "colab": {
          "base_uri": "https://localhost:8080/",
          "height": 121
        },
        "outputId": "1ef43f58-3982-417f-a198-1d67b2c5d239"
      },
      "source": [
        "import numpy\n",
        "from sklearn.metrics import precision_recall_fscore_support\n",
        "\n",
        "precision_recall_fscore_support(y_train, predictions, average='macro')"
      ],
      "execution_count": 18,
      "outputs": [
        {
          "output_type": "stream",
          "text": [
            "/usr/local/lib/python3.6/dist-packages/sklearn/metrics/_classification.py:1272: UndefinedMetricWarning: Precision and F-score are ill-defined and being set to 0.0 in labels with no predicted samples. Use `zero_division` parameter to control this behavior.\n",
            "  _warn_prf(average, modifier, msg_start, len(result))\n",
            "/usr/local/lib/python3.6/dist-packages/sklearn/metrics/_classification.py:1272: UndefinedMetricWarning: Recall and F-score are ill-defined and being set to 0.0 in labels with no true samples. Use `zero_division` parameter to control this behavior.\n",
            "  _warn_prf(average, modifier, msg_start, len(result))\n"
          ],
          "name": "stderr"
        },
        {
          "output_type": "execute_result",
          "data": {
            "text/plain": [
              "(0.0013495276653171392, 0.017543859649122806, 0.0025062656641604013, None)"
            ]
          },
          "metadata": {
            "tags": []
          },
          "execution_count": 18
        }
      ]
    },
    {
      "cell_type": "markdown",
      "metadata": {
        "id": "KGS7KAWmCNNC",
        "colab_type": "text"
      },
      "source": [
        "#ACCURACY w.r.t TEST DATA"
      ]
    },
    {
      "cell_type": "markdown",
      "metadata": {
        "id": "FlNY8rEtCSDC",
        "colab_type": "text"
      },
      "source": [
        "Confusion Matrix"
      ]
    },
    {
      "cell_type": "code",
      "metadata": {
        "id": "5a1hM-UeCRUF",
        "colab_type": "code",
        "colab": {
          "base_uri": "https://localhost:8080/",
          "height": 134
        },
        "outputId": "4b1f8756-0a85-4986-bc2e-504d3b0d5bb4"
      },
      "source": [
        "from sklearn.metrics import confusion_matrix\n",
        "\n",
        "results =confusion_matrix(y_test, predictions)\n",
        "print(results)"
      ],
      "execution_count": 19,
      "outputs": [
        {
          "output_type": "stream",
          "text": [
            "[[0 0 0 ... 0 0 0]\n",
            " [0 1 0 ... 0 0 0]\n",
            " [0 0 0 ... 0 0 0]\n",
            " ...\n",
            " [0 1 0 ... 0 0 0]\n",
            " [0 1 0 ... 0 0 0]\n",
            " [0 1 0 ... 0 0 0]]\n"
          ],
          "name": "stdout"
        }
      ]
    },
    {
      "cell_type": "markdown",
      "metadata": {
        "colab_type": "text",
        "id": "g8OMpIMyDDPc"
      },
      "source": [
        "Precision, Recall, Support, Fscore"
      ]
    },
    {
      "cell_type": "code",
      "metadata": {
        "id": "vp6XSF6ADExP",
        "colab_type": "code",
        "colab": {
          "base_uri": "https://localhost:8080/",
          "height": 121
        },
        "outputId": "1f47fd2f-df76-488b-c671-3da407470b3f"
      },
      "source": [
        "import numpy\n",
        "from sklearn.metrics import precision_recall_fscore_support\n",
        "\n",
        "precision_recall_fscore_support(y_test, predictions, average='macro')"
      ],
      "execution_count": 20,
      "outputs": [
        {
          "output_type": "stream",
          "text": [
            "/usr/local/lib/python3.6/dist-packages/sklearn/metrics/_classification.py:1272: UndefinedMetricWarning: Precision and F-score are ill-defined and being set to 0.0 in labels with no predicted samples. Use `zero_division` parameter to control this behavior.\n",
            "  _warn_prf(average, modifier, msg_start, len(result))\n",
            "/usr/local/lib/python3.6/dist-packages/sklearn/metrics/_classification.py:1272: UndefinedMetricWarning: Recall and F-score are ill-defined and being set to 0.0 in labels with no true samples. Use `zero_division` parameter to control this behavior.\n",
            "  _warn_prf(average, modifier, msg_start, len(result))\n"
          ],
          "name": "stderr"
        },
        {
          "output_type": "execute_result",
          "data": {
            "text/plain": [
              "(0.000980392156862745, 0.016666666666666666, 0.0018518518518518517, None)"
            ]
          },
          "metadata": {
            "tags": []
          },
          "execution_count": 20
        }
      ]
    }
  ]
}