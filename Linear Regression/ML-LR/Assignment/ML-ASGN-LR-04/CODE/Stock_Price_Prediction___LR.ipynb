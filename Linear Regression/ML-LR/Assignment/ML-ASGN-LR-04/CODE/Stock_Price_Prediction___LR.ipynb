{
  "nbformat": 4,
  "nbformat_minor": 0,
  "metadata": {
    "kernelspec": {
      "display_name": "Python 3",
      "language": "python",
      "name": "python3"
    },
    "language_info": {
      "codemirror_mode": {
        "name": "ipython",
        "version": 3
      },
      "file_extension": ".py",
      "mimetype": "text/x-python",
      "name": "python",
      "nbconvert_exporter": "python",
      "pygments_lexer": "ipython3",
      "version": "3.7.0"
    },
    "colab": {
      "name": "Stock_Price_Prediction___LR.ipynb",
      "provenance": [],
      "collapsed_sections": [],
      "toc_visible": true
    }
  },
  "cells": [
    {
      "cell_type": "code",
      "metadata": {
        "id": "DxH5J7DSfQWU",
        "colab_type": "code",
        "colab": {
          "resources": {
            "http://localhost:8080/nbextensions/google.colab/files.js": {
              "data": "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",
              "ok": true,
              "headers": [
                [
                  "content-type",
                  "application/javascript"
                ]
              ],
              "status": 200,
              "status_text": ""
            }
          },
          "base_uri": "https://localhost:8080/",
          "height": 73
        },
        "outputId": "8046a3c6-29fa-4058-89cf-2939fb4b5487"
      },
      "source": [
        "from google.colab import files\n",
        "uploaded = files.upload()"
      ],
      "execution_count": 1,
      "outputs": [
        {
          "output_type": "display_data",
          "data": {
            "text/html": [
              "\n",
              "     <input type=\"file\" id=\"files-dd799b3f-a19b-48a6-b6e0-41c68d5efc77\" name=\"files[]\" multiple disabled\n",
              "        style=\"border:none\" />\n",
              "     <output id=\"result-dd799b3f-a19b-48a6-b6e0-41c68d5efc77\">\n",
              "      Upload widget is only available when the cell has been executed in the\n",
              "      current browser session. Please rerun this cell to enable.\n",
              "      </output>\n",
              "      <script src=\"/nbextensions/google.colab/files.js\"></script> "
            ],
            "text/plain": [
              "<IPython.core.display.HTML object>"
            ]
          },
          "metadata": {
            "tags": []
          }
        },
        {
          "output_type": "stream",
          "text": [
            "Saving aapl.csv to aapl.csv\n"
          ],
          "name": "stdout"
        }
      ]
    },
    {
      "cell_type": "markdown",
      "metadata": {
        "id": "tWlvxpBUfjb-",
        "colab_type": "text"
      },
      "source": [
        "#IMPORTING LIBRARIES"
      ]
    },
    {
      "cell_type": "code",
      "metadata": {
        "id": "gx3ZFEvIerPI",
        "colab_type": "code",
        "colab": {
          "base_uri": "https://localhost:8080/",
          "height": 70
        },
        "outputId": "ada2742a-dc93-4257-b91f-c414d304d6b7"
      },
      "source": [
        "import pandas as pd\n",
        "import numpy as np\n",
        "import matplotlib.pyplot as plt\n",
        "import seaborn\n",
        "from sklearn.model_selection import train_test_split\n",
        "from sklearn.linear_model import LinearRegression\n",
        "from sklearn import metrics"
      ],
      "execution_count": 2,
      "outputs": [
        {
          "output_type": "stream",
          "text": [
            "/usr/local/lib/python3.6/dist-packages/statsmodels/tools/_testing.py:19: FutureWarning: pandas.util.testing is deprecated. Use the functions in the public API at pandas.testing instead.\n",
            "  import pandas.util.testing as tm\n"
          ],
          "name": "stderr"
        }
      ]
    },
    {
      "cell_type": "code",
      "metadata": {
        "id": "IwxOqVXferPQ",
        "colab_type": "code",
        "colab": {
          "base_uri": "https://localhost:8080/",
          "height": 195
        },
        "outputId": "c1803236-d0a8-44e1-822b-8b09797db7c4"
      },
      "source": [
        "dataset= pd.read_csv('aapl.csv')\n",
        "dataset.head()"
      ],
      "execution_count": 3,
      "outputs": [
        {
          "output_type": "execute_result",
          "data": {
            "text/html": [
              "<div>\n",
              "<style scoped>\n",
              "    .dataframe tbody tr th:only-of-type {\n",
              "        vertical-align: middle;\n",
              "    }\n",
              "\n",
              "    .dataframe tbody tr th {\n",
              "        vertical-align: top;\n",
              "    }\n",
              "\n",
              "    .dataframe thead th {\n",
              "        text-align: right;\n",
              "    }\n",
              "</style>\n",
              "<table border=\"1\" class=\"dataframe\">\n",
              "  <thead>\n",
              "    <tr style=\"text-align: right;\">\n",
              "      <th></th>\n",
              "      <th>Date</th>\n",
              "      <th>Open</th>\n",
              "      <th>High</th>\n",
              "      <th>Low</th>\n",
              "      <th>Close</th>\n",
              "      <th>Volume</th>\n",
              "    </tr>\n",
              "  </thead>\n",
              "  <tbody>\n",
              "    <tr>\n",
              "      <th>0</th>\n",
              "      <td>26-Jan-18</td>\n",
              "      <td>172.00</td>\n",
              "      <td>172.00</td>\n",
              "      <td>170.06</td>\n",
              "      <td>171.51</td>\n",
              "      <td>39143011</td>\n",
              "    </tr>\n",
              "    <tr>\n",
              "      <th>1</th>\n",
              "      <td>25-Jan-18</td>\n",
              "      <td>174.50</td>\n",
              "      <td>174.95</td>\n",
              "      <td>170.53</td>\n",
              "      <td>171.11</td>\n",
              "      <td>41529004</td>\n",
              "    </tr>\n",
              "    <tr>\n",
              "      <th>2</th>\n",
              "      <td>24-Jan-18</td>\n",
              "      <td>177.25</td>\n",
              "      <td>177.30</td>\n",
              "      <td>173.20</td>\n",
              "      <td>174.22</td>\n",
              "      <td>51105090</td>\n",
              "    </tr>\n",
              "    <tr>\n",
              "      <th>3</th>\n",
              "      <td>23-Jan-18</td>\n",
              "      <td>177.30</td>\n",
              "      <td>179.44</td>\n",
              "      <td>176.82</td>\n",
              "      <td>177.04</td>\n",
              "      <td>32689146</td>\n",
              "    </tr>\n",
              "    <tr>\n",
              "      <th>4</th>\n",
              "      <td>22-Jan-18</td>\n",
              "      <td>177.30</td>\n",
              "      <td>177.78</td>\n",
              "      <td>176.60</td>\n",
              "      <td>177.00</td>\n",
              "      <td>27108551</td>\n",
              "    </tr>\n",
              "  </tbody>\n",
              "</table>\n",
              "</div>"
            ],
            "text/plain": [
              "        Date    Open    High     Low   Close    Volume\n",
              "0  26-Jan-18  172.00  172.00  170.06  171.51  39143011\n",
              "1  25-Jan-18  174.50  174.95  170.53  171.11  41529004\n",
              "2  24-Jan-18  177.25  177.30  173.20  174.22  51105090\n",
              "3  23-Jan-18  177.30  179.44  176.82  177.04  32689146\n",
              "4  22-Jan-18  177.30  177.78  176.60  177.00  27108551"
            ]
          },
          "metadata": {
            "tags": []
          },
          "execution_count": 3
        }
      ]
    },
    {
      "cell_type": "markdown",
      "metadata": {
        "id": "vEHCEo0xf7Ar",
        "colab_type": "text"
      },
      "source": [
        "#HANDLING CATEGORICAL DATA"
      ]
    },
    {
      "cell_type": "code",
      "metadata": {
        "id": "NSxPHOKrgH2a",
        "colab_type": "code",
        "colab": {
          "base_uri": "https://localhost:8080/",
          "height": 1000
        },
        "outputId": "be5f0251-5320-4f53-adba-7c187b8e2a0f"
      },
      "source": [
        "import pandas as pd \n",
        "from sklearn.preprocessing import LabelEncoder\n",
        "dataset = pd.read_csv('aapl.csv') \n",
        "x = dataset.iloc[:, :-1].values \n",
        "y = dataset.iloc[:, -1].values \n",
        "labelencoder_X = LabelEncoder()\n",
        "x[:,0] = labelencoder_X.fit_transform(x[:,0])\n",
        "x[:,1] = labelencoder_X.fit_transform(x[:,1])\n",
        "print(x)\n",
        "#Here we are using LabelEncoder"
      ],
      "execution_count": 4,
      "outputs": [
        {
          "output_type": "stream",
          "text": [
            "[[49 43 172.0 170.06 171.51]\n",
            " [46 63 174.95 170.53 171.11]\n",
            " [43 76 177.3 173.2 174.22]\n",
            " [41 77 179.44 176.82 177.04]\n",
            " [39 77 177.78 176.6 177.0]\n",
            " [28 79 179.58 177.41 178.46]\n",
            " [25 80 180.1 178.25 179.26]\n",
            " [21 74 179.25 175.07 179.1]\n",
            " [18 78 179.39 176.14 176.19]\n",
            " [9 75 177.36 175.65 177.09]\n",
            " [6 65 175.49 174.49 175.28]\n",
            " [2 53 174.3 173.0 174.29]\n",
            " [80 64 175.06 173.41 174.33]\n",
            " [78 62 175.61 173.93 174.35]\n",
            " [70 55 175.37 173.05 175.0]\n",
            " [67 50 173.47 172.08 173.03]\n",
            " [60 49 174.55 171.96 172.23]\n",
            " [30 33 172.3 169.26 172.26]\n",
            " [57 37 170.59 169.22 169.23]\n",
            " [54 40 171.85 170.48 171.08]\n",
            " [51 32 170.78 169.71 170.6]\n",
            " [48 39 171.47 169.68 170.57]\n",
            " [38 67 175.42 174.5 175.01]\n",
            " [36 60 176.02 174.1 175.01]\n",
            " [33 68 175.42 173.25 174.35]\n",
            " [27 70 175.39 174.09 174.54]\n",
            " [24 69 177.2 174.86 176.42]\n",
            " [16 57 174.17 172.46 173.97]\n",
            " [14 46 173.13 171.65 172.22]\n",
            " [11 48 173.54 172.0 172.27]\n",
            " [8 44 172.39 171.46 171.7]\n",
            " [5 28 172.89 168.79 172.67]\n",
            " [77 36 171.0 168.82 169.37]\n",
            " [75 26 170.44 168.91 169.32]\n",
            " [72 24 170.2 166.46 169.01]\n",
            " [69 27 171.52 168.4 169.64]\n",
            " [66 47 172.62 169.63 169.8]\n",
            " [0 30 171.67 168.5 171.05]\n",
            " [63 35 172.14 168.44 171.85]\n",
            " [58 51 172.92 167.16 169.48]\n",
            " [55 61 174.87 171.86 173.07]\n",
            " [52 71 175.08 173.34 174.09]\n",
            " [44 72 175.5 174.65 174.97]\n",
            " [40 54 175.0 173.05 174.96]\n",
            " [37 38 173.7 170.78 173.14]\n",
            " [34 34 170.56 169.56 169.98]\n",
            " [22 41 171.39 169.64 170.15]\n",
            " [19 42 171.87 170.3 171.1]\n",
            " [17 31 170.32 168.38 169.08]\n",
            " [15 52 173.48 171.18 171.34]\n",
            " [12 56 174.5 173.4 173.97]\n",
            " [3 73 175.38 174.27 174.67]\n",
            " [81 73 176.1 173.14 175.88]\n",
            " [79 66 176.24 174.33 176.24]\n",
            " [76 58 175.25 173.6 174.81]\n",
            " [73 45 174.99 171.72 174.25]\n",
            " [61 59 174.26 171.12 172.5]\n",
            " [31 23 168.5 165.28 168.11]\n",
            " [1 29 169.94 165.61 166.89]\n",
            " [65 25 169.65 166.94 169.04]\n",
            " [64 22 168.07 163.72 166.72]\n",
            " [53 19 163.6 158.7 163.05]\n",
            " [50 17 157.83 156.78 157.41]\n",
            " [47 16 157.55 155.27 156.41]\n",
            " [45 10 157.42 156.2 157.1]\n",
            " [42 15 157.69 155.5 156.17]\n",
            " [35 12 157.75 155.96 156.25]\n",
            " [29 14 157.08 155.02 155.98]\n",
            " [26 21 160.71 159.6 159.76]\n",
            " [23 20 160.87 159.23 160.47]\n",
            " [20 18 160.0 157.65 159.88]\n",
            " [13 13 157.28 156.41 156.99]\n",
            " [10 11 157.37 155.73 156.0]\n",
            " [7 8 156.98 155.75 156.55]\n",
            " [4 9 158.0 155.1 155.9]\n",
            " [82 7 156.73 155.48 155.84]\n",
            " [74 6 155.49 154.56 155.3]\n",
            " [71 4 155.44 154.05 155.39]\n",
            " [68 1 153.86 152.46 153.48]\n",
            " [62 3 155.09 153.91 154.48]\n",
            " [32 5 154.45 152.72 153.81]\n",
            " [59 0 154.13 152.0 154.12]\n",
            " [56 2 154.28 152.7 153.28]]\n"
          ],
          "name": "stdout"
        }
      ]
    },
    {
      "cell_type": "code",
      "metadata": {
        "id": "uiNsj5JOjXt3",
        "colab_type": "code",
        "colab": {}
      },
      "source": [
        "x = dataset[['Open','High','Low','Close']]\n",
        "#separate the other attributes from the predicting attribute"
      ],
      "execution_count": 5,
      "outputs": []
    },
    {
      "cell_type": "code",
      "metadata": {
        "id": "nOJwVWFzjZeu",
        "colab_type": "code",
        "colab": {}
      },
      "source": [
        "y = dataset[['Volume']]\n",
        "#separte the predicting attribute into Y for model training "
      ],
      "execution_count": 6,
      "outputs": []
    },
    {
      "cell_type": "markdown",
      "metadata": {
        "id": "0tBhuZ4whFcA",
        "colab_type": "text"
      },
      "source": [
        "#GRAPHS"
      ]
    },
    {
      "cell_type": "code",
      "metadata": {
        "id": "Nlwy7EyverPd",
        "colab_type": "code",
        "colab": {
          "base_uri": "https://localhost:8080/",
          "height": 295
        },
        "outputId": "12faf82e-ce6c-4be3-f668-e739e6410a19"
      },
      "source": [
        "dataset.plot(x='Open', y='Close' , style='o')\n",
        "plt.title('Stock')\n",
        "plt.show()"
      ],
      "execution_count": 7,
      "outputs": [
        {
          "output_type": "display_data",
          "data": {
            "image/png": "[encoded data removed]",
            "text/plain": [
              "<Figure size 432x288 with 1 Axes>"
            ]
          },
          "metadata": {
            "tags": [],
            "needs_background": "light"
          }
        }
      ]
    },
    {
      "cell_type": "code",
      "metadata": {
        "colab_type": "code",
        "id": "Fl0MY7VpPkTt",
        "colab": {
          "base_uri": "https://localhost:8080/",
          "height": 295
        },
        "outputId": "85a3c00c-90a3-45a7-e5c6-e7e6c67d02e8"
      },
      "source": [
        "dataset.plot(x='High', y='Low' , style='o')\n",
        "plt.title('Stock')\n",
        "plt.show()"
      ],
      "execution_count": 8,
      "outputs": [
        {
          "output_type": "display_data",
          "data": {
            "image/png": "[encoded data removed]",
            "text/plain": [
              "<Figure size 432x288 with 1 Axes>"
            ]
          },
          "metadata": {
            "tags": [],
            "needs_background": "light"
          }
        }
      ]
    },
    {
      "cell_type": "code",
      "metadata": {
        "id": "id4W7kpqerPk",
        "colab_type": "code",
        "colab": {
          "base_uri": "https://localhost:8080/",
          "height": 616
        },
        "outputId": "96096a2e-6227-4b91-ec43-93b1ec67c394"
      },
      "source": [
        "plt.figure(figsize=(15,10))\n",
        "plt.tight_layout()\n",
        "seaborn.distplot(dataset['Volume'])\n",
        "plt.show()"
      ],
      "execution_count": 9,
      "outputs": [
        {
          "output_type": "display_data",
          "data": {
            "image/png": "[encoded data removed]",
            "text/plain": [
              "<Figure size 1080x720 with 1 Axes>"
            ]
          },
          "metadata": {
            "tags": [],
            "needs_background": "light"
          }
        }
      ]
    },
    {
      "cell_type": "markdown",
      "metadata": {
        "id": "sjGL84wcg317",
        "colab_type": "text"
      },
      "source": [
        "#SPLITTING OF DATASET INTO TRAIN AND TEST SET"
      ]
    },
    {
      "cell_type": "code",
      "metadata": {
        "id": "QW3WnnuberPp",
        "colab_type": "code",
        "colab": {}
      },
      "source": [
        "x_train,x_test,y_train,y_test = train_test_split(x,y,test_size=0.2, random_state=0)"
      ],
      "execution_count": 10,
      "outputs": []
    },
    {
      "cell_type": "markdown",
      "metadata": {
        "id": "NrH-Vr5khWpc",
        "colab_type": "text"
      },
      "source": [
        "#NORMALIZING DATA"
      ]
    },
    {
      "cell_type": "code",
      "metadata": {
        "id": "7g_Ms5L1hb9l",
        "colab_type": "code",
        "colab": {
          "base_uri": "https://localhost:8080/",
          "height": 1000
        },
        "outputId": "69ac69b0-825a-416c-c792-323ef7d1e227"
      },
      "source": [
        "# data normalization with sklearn\n",
        "from sklearn.preprocessing import MinMaxScaler\n",
        "\n",
        "# fit scaler on training data\n",
        "norm = MinMaxScaler().fit(x_train)\n",
        "\n",
        "# transform training data\n",
        "X_train_norm = norm.transform(x_train)\n",
        "\n",
        "# transform testing data\n",
        "X_test_norm = norm.transform(x_test)\n",
        "\n",
        "print(X_train_norm)\n",
        "print(X_test_norm)"
      ],
      "execution_count": 11,
      "outputs": [
        {
          "output_type": "stream",
          "text": [
            "[[0.51185015 0.55792683 0.50590476 0.57082371]\n",
            " [0.04013761 0.02248476 0.02742857 0.02040031]\n",
            " [0.10550459 0.11890244 0.14285714 0.12586605]\n",
            " [0.77025994 0.80564024 0.80190476 0.83448807]\n",
            " [0.40825688 0.54153963 0.44647619 0.51732102]\n",
            " [0.80619266 0.80068598 0.75657143 0.7617398 ]\n",
            " [0.15366972 0.15129573 0.18209524 0.15896844]\n",
            " [0.7912844  0.81516768 0.82285714 0.8287144 ]\n",
            " [0.02599388 0.0160061  0.02666667 0.        ]\n",
            " [0.25114679 0.26714939 0.27542857 0.27675135]\n",
            " [1.         1.         1.         1.        ]\n",
            " [0.92087156 0.97484756 0.94552381 0.91454965]\n",
            " [0.01605505 0.         0.01752381 0.00769823]\n",
            " [0.77561162 0.78658537 0.8152381  0.79638183]\n",
            " [0.87691131 0.96760671 0.87885714 0.99384142]\n",
            " [0.60474006 0.63185976 0.64419048 0.617398  ]\n",
            " [0.12003058 0.13376524 0.14209524 0.10469592]\n",
            " [0.64067278 0.62728659 0.624      0.60816012]\n",
            " [0.92087156 0.91158537 0.93714286 0.91301001]\n",
            " [0.73891437 0.74733232 0.76495238 0.76020015]\n",
            " [0.64793578 0.7027439  0.65752381 0.73056197]\n",
            " [0.97094801 0.98018293 0.968      0.96920708]\n",
            " [0.09938838 0.109375   0.13257143 0.09853734]\n",
            " [0.83486239 0.80868902 0.81295238 0.80100077]\n",
            " [0.14143731 0.140625   0.12457143 0.12047729]\n",
            " [0.54625382 0.62271341 0.55085714 0.60546574]\n",
            " [0.73356269 0.734375   0.74857143 0.72902232]\n",
            " [0.76261468 0.77896341 0.8        0.808699  ]\n",
            " [0.2324159  0.37118902 0.2552381  0.37605851]\n",
            " [0.80122324 0.8445122  0.84190476 0.83641263]\n",
            " [0.81727829 0.82431402 0.8567619  0.84680523]\n",
            " [0.61123853 0.72522866 0.63961905 0.74634334]\n",
            " [0.83715596 0.84756098 0.80533333 0.86989992]\n",
            " [0.12996942 0.14824695 0.15085714 0.11431871]\n",
            " [0.81383792 0.80373476 0.70590476 0.68629715]\n",
            " [0.66055046 0.65320122 0.6407619  0.61932256]\n",
            " [0.10894495 0.15777439 0.11809524 0.10084681]\n",
            " [0.77331804 0.81974085 0.80190476 0.83602771]\n",
            " [0.79472477 0.77743902 0.72838095 0.73979985]\n",
            " [0.68004587 0.68559451 0.704      0.68514242]\n",
            " [0.73738532 0.75       0.76190476 0.73094688]\n",
            " [0.83715596 0.82012195 0.84838095 0.82332564]\n",
            " [0.75802752 0.74771341 0.73066667 0.69515012]\n",
            " [0.82798165 0.82164634 0.80952381 0.81100847]\n",
            " [0.60588685 0.67301829 0.6247619  0.62971517]\n",
            " [0.66169725 0.63757622 0.656      0.6139338 ]\n",
            " [0.71827217 0.69131098 0.688      0.70169361]\n",
            " [0.         0.01028963 0.         0.03233256]\n",
            " [0.6456422  0.64481707 0.67466667 0.66666667]\n",
            " [0.03707951 0.06021341 0.07809524 0.08121632]\n",
            " [0.83256881 0.82050305 0.84152381 0.81832179]\n",
            " [0.63990826 0.67873476 0.62857143 0.68398768]\n",
            " [0.68157492 0.66806402 0.672      0.64934565]\n",
            " [0.74235474 0.72637195 0.57752381 0.62355658]\n",
            " [0.14067278 0.14596037 0.13333333 0.11123941]\n",
            " [0.63685015 0.61280488 0.51847619 0.52386451]\n",
            " [0.81574924 0.80792683 0.81561905 0.81023865]\n",
            " [0.17928135 0.2339939  0.2152381  0.25404157]\n",
            " [0.7366208  0.71493902 0.67161905 0.63587375]\n",
            " [0.67240061 0.6711128  0.67352381 0.66551193]\n",
            " [0.8780581  0.89557927 0.90095238 0.91647421]\n",
            " [0.03058104 0.046875   0.0727619  0.04618938]\n",
            " [0.1353211  0.12271341 0.11504762 0.1039261 ]\n",
            " [0.117737   0.13567073 0.16       0.14703618]\n",
            " [0.68692661 0.68635671 0.69714286 0.68591224]\n",
            " [0.67163609 0.75609756 0.71542857 0.76443418]]\n",
            "[[0.72400612 0.70617378 0.74133333 0.70900693]\n",
            " [0.81995413 0.85289634 0.85066667 0.88375674]\n",
            " [0.8367737  0.82469512 0.86285714 0.83487298]\n",
            " [0.56154434 0.60175305 0.56914286 0.60662048]\n",
            " [0.82071865 0.82164634 0.85714286 0.83641263]\n",
            " [0.65825688 0.69664634 0.62628571 0.7147806 ]\n",
            " [0.91896024 0.89329268 0.80761905 0.80600462]\n",
            " [0.73203364 0.80525915 0.7512381  0.80715935]\n",
            " [0.82836391 0.88948171 0.87085714 0.89068514]\n",
            " [0.94380734 0.97294207 0.91961905 0.88183218]\n",
            " [0.27561162 0.26105183 0.28952381 0.24942263]\n",
            " [0.80810398 0.8288872  0.83542857 0.81100847]\n",
            " [0.13455657 0.13033537 0.168      0.14280216]\n",
            " [0.06727829 0.0621189  0.09752381 0.07775212]\n",
            " [0.73853211 0.78849085 0.76038095 0.72940724]\n",
            " [0.78058104 0.77400915 0.77942857 0.79638183]\n",
            " [0.6529052  0.63643293 0.66895238 0.64280216]]\n"
          ],
          "name": "stdout"
        }
      ]
    },
    {
      "cell_type": "markdown",
      "metadata": {
        "id": "KPutFJGTmNo5",
        "colab_type": "text"
      },
      "source": [
        "#ALGORITHM"
      ]
    },
    {
      "cell_type": "code",
      "metadata": {
        "id": "vFi-tcMqerPu",
        "colab_type": "code",
        "colab": {}
      },
      "source": [
        "model =LinearRegression()\n",
        "#loading the model constructor"
      ],
      "execution_count": 12,
      "outputs": []
    },
    {
      "cell_type": "markdown",
      "metadata": {
        "id": "b3RgJD5smZrs",
        "colab_type": "text"
      },
      "source": [
        "#FITTING OF TRAINING DATA"
      ]
    },
    {
      "cell_type": "code",
      "metadata": {
        "id": "UdX5CEPmmGrQ",
        "colab_type": "code",
        "colab": {
          "base_uri": "https://localhost:8080/",
          "height": 34
        },
        "outputId": "319d60c6-d671-4cec-d407-66033cf4597a"
      },
      "source": [
        "model.fit(x_train,y_train)"
      ],
      "execution_count": 13,
      "outputs": [
        {
          "output_type": "execute_result",
          "data": {
            "text/plain": [
              "LinearRegression(copy_X=True, fit_intercept=True, n_jobs=None, normalize=False)"
            ]
          },
          "metadata": {
            "tags": []
          },
          "execution_count": 13
        }
      ]
    },
    {
      "cell_type": "code",
      "metadata": {
        "id": "jXIwak09erP0",
        "colab_type": "code",
        "colab": {
          "base_uri": "https://localhost:8080/",
          "height": 34
        },
        "outputId": "e83747d6-946e-4ec8-b30b-461dd383e3ca"
      },
      "source": [
        "print('Intercept is :',model.intercept_)"
      ],
      "execution_count": 14,
      "outputs": [
        {
          "output_type": "stream",
          "text": [
            "Intercept is : [-19976604.31212759]\n"
          ],
          "name": "stdout"
        }
      ]
    },
    {
      "cell_type": "code",
      "metadata": {
        "id": "gbupPhPverP6",
        "colab_type": "code",
        "colab": {
          "base_uri": "https://localhost:8080/",
          "height": 34
        },
        "outputId": "3c958e52-cc2f-40d6-f8e7-989c67add134"
      },
      "source": [
        "print('Coefficient is :' ,model.coef_)"
      ],
      "execution_count": 15,
      "outputs": [
        {
          "output_type": "stream",
          "text": [
            "Coefficient is : [[ 2316412.57556934  3025716.21453207 -7084607.41539154  1952494.21332007]]\n"
          ],
          "name": "stdout"
        }
      ]
    },
    {
      "cell_type": "markdown",
      "metadata": {
        "id": "o-cluciU1p2t",
        "colab_type": "text"
      },
      "source": [
        "#PREDICTIONS FOR OUR PROBLEM STATEMENT WITH THE RELATED GRAPHS"
      ]
    },
    {
      "cell_type": "code",
      "metadata": {
        "id": "BybKCPF3erP_",
        "colab_type": "code",
        "colab": {}
      },
      "source": [
        "predictions = model.predict(x_test)"
      ],
      "execution_count": 16,
      "outputs": []
    },
    {
      "cell_type": "code",
      "metadata": {
        "id": "HW2LsP0verQD",
        "colab_type": "code",
        "colab": {
          "base_uri": "https://localhost:8080/",
          "height": 306
        },
        "outputId": "9baf3059-1f71-4460-9a90-6498900eaaec"
      },
      "source": [
        "plt.scatter(y_test,predictions)\n",
        "#to visualise the predictions and the test Y !!it is almost forming a linear line with less deviation"
      ],
      "execution_count": 17,
      "outputs": [
        {
          "output_type": "execute_result",
          "data": {
            "text/plain": [
              "<matplotlib.collections.PathCollection at 0x7f1921e09e48>"
            ]
          },
          "metadata": {
            "tags": []
          },
          "execution_count": 17
        },
        {
          "output_type": "display_data",
          "data": {
            "image/png": "[encoded data removed]",
            "text/plain": [
              "<Figure size 432x288 with 1 Axes>"
            ]
          },
          "metadata": {
            "tags": [],
            "needs_background": "light"
          }
        }
      ]
    },
    {
      "cell_type": "code",
      "metadata": {
        "id": "0SzhhVWL3fD4",
        "colab_type": "code",
        "colab": {
          "base_uri": "https://localhost:8080/",
          "height": 306
        },
        "outputId": "ef7f7b41-3f4b-44cc-e648-305a6f28c785"
      },
      "source": [
        "import seaborn as sns\n",
        "sns.distplot((y_test-predictions))"
      ],
      "execution_count": 18,
      "outputs": [
        {
          "output_type": "execute_result",
          "data": {
            "text/plain": [
              "<matplotlib.axes._subplots.AxesSubplot at 0x7f1921e75f28>"
            ]
          },
          "metadata": {
            "tags": []
          },
          "execution_count": 18
        },
        {
          "output_type": "display_data",
          "data": {
            "image/png": "[encoded data removed]",
            "text/plain": [
              "<Figure size 432x288 with 1 Axes>"
            ]
          },
          "metadata": {
            "tags": [],
            "needs_background": "light"
          }
        }
      ]
    },
    {
      "cell_type": "markdown",
      "metadata": {
        "id": "SB4WdwNj3vAA",
        "colab_type": "text"
      },
      "source": [
        "#EVALUATION"
      ]
    },
    {
      "cell_type": "code",
      "metadata": {
        "id": "j_oc2FDOerQR",
        "colab_type": "code",
        "colab": {
          "base_uri": "https://localhost:8080/",
          "height": 34
        },
        "outputId": "effb27cc-141c-419f-aa92-563f6daabdca"
      },
      "source": [
        "cutoff = 0.7                              # decide on a cutoff limit\n",
        "y_pred_classes = np.zeros_like(predictions)    # initialise a matrix full with zeros\n",
        "y_pred_classes[predictions > cutoff] = 1       # add a 1 if the cutoff was breached\n",
        "\n",
        "y_test_classes = np.zeros_like(predictions)\n",
        "y_test_classes[y_test > cutoff] = 1\n",
        "print(metrics.accuracy_score(y_test_classes, y_pred_classes))"
      ],
      "execution_count": 19,
      "outputs": [
        {
          "output_type": "stream",
          "text": [
            "1.0\n"
          ],
          "name": "stdout"
        }
      ]
    },
    {
      "cell_type": "markdown",
      "metadata": {
        "id": "1MtwOs8s32yH",
        "colab_type": "text"
      },
      "source": [
        "#SAVING THE MODEL USING PICKLE LIBRARY"
      ]
    },
    {
      "cell_type": "code",
      "metadata": {
        "id": "n566N2XPerQX",
        "colab_type": "code",
        "colab": {
          "base_uri": "https://localhost:8080/",
          "height": 302
        },
        "outputId": "f0c03d7b-d1d3-401b-ddc8-2ae32eec71dc"
      },
      "source": [
        "import pickle \n",
        "\n",
        "# Save the trained model as a pickle string. \n",
        "saved_model = pickle.dumps(model) \n",
        "\n",
        "# Load the pickled model \n",
        "model_from_pickle = pickle.loads(saved_model) \n",
        "\n",
        "# Use the loaded pickled model to make predictions \n",
        "model_from_pickle.predict(x_test) \n"
      ],
      "execution_count": 20,
      "outputs": [
        {
          "output_type": "execute_result",
          "data": {
            "text/plain": [
              "array([[20913507.77934087],\n",
              "       [26908211.21626783],\n",
              "       [20941660.72692287],\n",
              "       [29607082.8154918 ],\n",
              "       [20867501.0288626 ],\n",
              "       [37861237.62220907],\n",
              "       [40176547.04288244],\n",
              "       [32403678.89395833],\n",
              "       [26919116.57708383],\n",
              "       [31023629.90436376],\n",
              "       [19112285.92167998],\n",
              "       [23427551.00566769],\n",
              "       [17378005.58618653],\n",
              "       [17691895.92713559],\n",
              "       [25821809.80681038],\n",
              "       [27075127.7018956 ],\n",
              "       [21170383.75852162]])"
            ]
          },
          "metadata": {
            "tags": []
          },
          "execution_count": 20
        }
      ]
    },
    {
      "cell_type": "markdown",
      "metadata": {
        "id": "mFWoLpNq4IyM",
        "colab_type": "text"
      },
      "source": [
        "#ACCURACY w.r.t TRAINED DATA"
      ]
    },
    {
      "cell_type": "markdown",
      "metadata": {
        "id": "wO8TkezT4Nn_",
        "colab_type": "text"
      },
      "source": [
        "Confusion Matrix"
      ]
    },
    {
      "cell_type": "code",
      "metadata": {
        "id": "FQI1Tybq7bNc",
        "colab_type": "code",
        "colab": {}
      },
      "source": [
        "y_train = y_train[0:17]"
      ],
      "execution_count": 21,
      "outputs": []
    },
    {
      "cell_type": "code",
      "metadata": {
        "id": "sJoV2M6gerQb",
        "colab_type": "code",
        "colab": {
          "base_uri": "https://localhost:8080/",
          "height": 34
        },
        "outputId": "8867cd7a-b3cb-4662-c53b-0379acf2745e"
      },
      "source": [
        "from sklearn.metrics import confusion_matrix\n",
        "\n",
        "cutoff = 0.7                                   # decide on a cutoff limit\n",
        "y_pred_classes = np.zeros_like(predictions)    # initialise a matrix full with zeros\n",
        "y_pred_classes[predictions > cutoff] = 1       # add a 1 if the cutoff was breached\n",
        "\n",
        "y_train_classes = np.zeros_like(predictions)\n",
        "y_train_classes[y_train > cutoff] = 1\n",
        "\n",
        "results =confusion_matrix(y_train_classes, y_pred_classes)\n",
        "print(results)"
      ],
      "execution_count": 22,
      "outputs": [
        {
          "output_type": "stream",
          "text": [
            "[[17]]\n"
          ],
          "name": "stdout"
        }
      ]
    },
    {
      "cell_type": "markdown",
      "metadata": {
        "id": "j08PP52c62Ix",
        "colab_type": "text"
      },
      "source": [
        "Precision, Recall, Support, Fscore"
      ]
    },
    {
      "cell_type": "code",
      "metadata": {
        "id": "Scg5pgNBerQf",
        "colab_type": "code",
        "colab": {
          "base_uri": "https://localhost:8080/",
          "height": 34
        },
        "outputId": "e9d53090-dead-4798-b22a-3e38b81cfca5"
      },
      "source": [
        "import numpy\n",
        "from sklearn.metrics import precision_recall_fscore_support\n",
        "\n",
        "cutoff = 0.7                              # decide on a cutoff limit\n",
        "y_pred_classes = np.zeros_like(predictions)    # initialise a matrix full with zeros\n",
        "y_pred_classes[predictions > cutoff] = 1       # add a 1 if the cutoff was breached\n",
        "\n",
        "y_train_classes = np.zeros_like(predictions)\n",
        "y_train_classes[y_train > cutoff] = 1\n",
        "\n",
        "precision_recall_fscore_support(y_train_classes, y_pred_classes, average='macro')"
      ],
      "execution_count": 23,
      "outputs": [
        {
          "output_type": "execute_result",
          "data": {
            "text/plain": [
              "(1.0, 1.0, 1.0, None)"
            ]
          },
          "metadata": {
            "tags": []
          },
          "execution_count": 23
        }
      ]
    },
    {
      "cell_type": "markdown",
      "metadata": {
        "id": "R6zsRmL569BU",
        "colab_type": "text"
      },
      "source": [
        "#ACCURACY w.r.t TEST DATA"
      ]
    },
    {
      "cell_type": "markdown",
      "metadata": {
        "id": "tsgObRRB7AI0",
        "colab_type": "text"
      },
      "source": [
        "Confusion Matrix"
      ]
    },
    {
      "cell_type": "code",
      "metadata": {
        "id": "Siyi3_Xi7DTP",
        "colab_type": "code",
        "colab": {
          "base_uri": "https://localhost:8080/",
          "height": 34
        },
        "outputId": "b5f606b6-d7b1-4e12-a920-f2e183dd7140"
      },
      "source": [
        "cutoff = 0.7                              # decide on a cutoff limit\n",
        "y_pred_classes = np.zeros_like(predictions)    # initialise a matrix full with zeros\n",
        "y_pred_classes[predictions > cutoff] = 1       # add a 1 if the cutoff was breached\n",
        "\n",
        "y_test_classes = np.zeros_like(predictions)\n",
        "y_test_classes[y_test > cutoff] = 1\n",
        "\n",
        "results =confusion_matrix(y_test_classes, y_pred_classes)\n",
        "print(results)"
      ],
      "execution_count": 24,
      "outputs": [
        {
          "output_type": "stream",
          "text": [
            "[[17]]\n"
          ],
          "name": "stdout"
        }
      ]
    },
    {
      "cell_type": "markdown",
      "metadata": {
        "id": "8SdwrK2C7JK_",
        "colab_type": "text"
      },
      "source": [
        "Precision, Recall, Support, Fscore"
      ]
    },
    {
      "cell_type": "code",
      "metadata": {
        "id": "E3YP_Nn87L3X",
        "colab_type": "code",
        "colab": {
          "base_uri": "https://localhost:8080/",
          "height": 34
        },
        "outputId": "95079779-d4ee-4ba8-e246-6c850873951a"
      },
      "source": [
        "import numpy\n",
        "from sklearn.metrics import precision_recall_fscore_support\n",
        "\n",
        "cutoff = 0.7                              # decide on a cutoff limit\n",
        "y_pred_classes = np.zeros_like(predictions)    # initialise a matrix full with zeros\n",
        "y_pred_classes[predictions > cutoff] = 1       # add a 1 if the cutoff was breached\n",
        "\n",
        "y_test_classes = np.zeros_like(predictions)\n",
        "y_test_classes[y_test > cutoff] = 1\n",
        "\n",
        "precision_recall_fscore_support(y_test_classes, y_pred_classes, average='macro')"
      ],
      "execution_count": 25,
      "outputs": [
        {
          "output_type": "execute_result",
          "data": {
            "text/plain": [
              "(1.0, 1.0, 1.0, None)"
            ]
          },
          "metadata": {
            "tags": []
          },
          "execution_count": 25
        }
      ]
    }
  ]
}