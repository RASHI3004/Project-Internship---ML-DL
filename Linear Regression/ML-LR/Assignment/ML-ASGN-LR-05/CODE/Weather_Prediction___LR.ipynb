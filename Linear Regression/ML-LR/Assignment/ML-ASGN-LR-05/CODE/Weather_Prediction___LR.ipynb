{
  "nbformat": 4,
  "nbformat_minor": 0,
  "metadata": {
    "kernelspec": {
      "display_name": "Python 3",
      "language": "python",
      "name": "python3"
    },
    "language_info": {
      "codemirror_mode": {
        "name": "ipython",
        "version": 3
      },
      "file_extension": ".py",
      "mimetype": "text/x-python",
      "name": "python",
      "nbconvert_exporter": "python",
      "pygments_lexer": "ipython3",
      "version": "3.7.0"
    },
    "colab": {
      "name": "Weather_Prediction___LR.ipynb",
      "provenance": [],
      "toc_visible": true
    }
  },
  "cells": [
    {
      "cell_type": "code",
      "metadata": {
        "id": "DxH5J7DSfQWU",
        "colab_type": "code",
        "colab": {
          "resources": {
            "http://localhost:8080/nbextensions/google.colab/files.js": {
              "data": "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",
              "ok": true,
              "headers": [
                [
                  "content-type",
                  "application/javascript"
                ]
              ],
              "status": 200,
              "status_text": ""
            }
          },
          "base_uri": "https://localhost:8080/",
          "height": 73
        },
        "outputId": "a5c7102c-48b3-41c5-cbdc-5ee5e92d93d7"
      },
      "source": [
        "from google.colab import files\n",
        "uploaded = files.upload()"
      ],
      "execution_count": 4,
      "outputs": [
        {
          "output_type": "display_data",
          "data": {
            "text/html": [
              "\n",
              "     <input type=\"file\" id=\"files-a1889f47-14ea-426f-94e0-79dde6d91829\" name=\"files[]\" multiple disabled\n",
              "        style=\"border:none\" />\n",
              "     <output id=\"result-a1889f47-14ea-426f-94e0-79dde6d91829\">\n",
              "      Upload widget is only available when the cell has been executed in the\n",
              "      current browser session. Please rerun this cell to enable.\n",
              "      </output>\n",
              "      <script src=\"/nbextensions/google.colab/files.js\"></script> "
            ],
            "text/plain": [
              "<IPython.core.display.HTML object>"
            ]
          },
          "metadata": {
            "tags": []
          }
        },
        {
          "output_type": "stream",
          "text": [
            "Saving weather.csv to weather.csv\n"
          ],
          "name": "stdout"
        }
      ]
    },
    {
      "cell_type": "markdown",
      "metadata": {
        "id": "tWlvxpBUfjb-",
        "colab_type": "text"
      },
      "source": [
        "#IMPORTING LIBRARIES"
      ]
    },
    {
      "cell_type": "code",
      "metadata": {
        "id": "gx3ZFEvIerPI",
        "colab_type": "code",
        "colab": {}
      },
      "source": [
        "import pandas as pd\n",
        "import numpy as np\n",
        "import matplotlib.pyplot as plt\n",
        "import seaborn\n",
        "from sklearn.model_selection import train_test_split\n",
        "from sklearn.linear_model import LinearRegression\n",
        "from sklearn import metrics"
      ],
      "execution_count": 5,
      "outputs": []
    },
    {
      "cell_type": "code",
      "metadata": {
        "id": "IwxOqVXferPQ",
        "colab_type": "code",
        "colab": {
          "base_uri": "https://localhost:8080/",
          "height": 215
        },
        "outputId": "c506a846-12f1-4144-b8e3-21bb7b8f8934"
      },
      "source": [
        "dataset= pd.read_csv('weather.csv')\n",
        "dataset.head()"
      ],
      "execution_count": 6,
      "outputs": [
        {
          "output_type": "execute_result",
          "data": {
            "text/html": [
              "<div>\n",
              "<style scoped>\n",
              "    .dataframe tbody tr th:only-of-type {\n",
              "        vertical-align: middle;\n",
              "    }\n",
              "\n",
              "    .dataframe tbody tr th {\n",
              "        vertical-align: top;\n",
              "    }\n",
              "\n",
              "    .dataframe thead th {\n",
              "        text-align: right;\n",
              "    }\n",
              "</style>\n",
              "<table border=\"1\" class=\"dataframe\">\n",
              "  <thead>\n",
              "    <tr style=\"text-align: right;\">\n",
              "      <th></th>\n",
              "      <th>MinTemp</th>\n",
              "      <th>MaxTemp</th>\n",
              "      <th>Rainfall</th>\n",
              "      <th>Evaporation</th>\n",
              "      <th>Sunshine</th>\n",
              "      <th>WindGustDir</th>\n",
              "      <th>WindGustSpeed</th>\n",
              "      <th>WindDir9am</th>\n",
              "      <th>WindDir3pm</th>\n",
              "      <th>WindSpeed9am</th>\n",
              "      <th>WindSpeed3pm</th>\n",
              "      <th>Humidity9am</th>\n",
              "      <th>Humidity3pm</th>\n",
              "      <th>Pressure9am</th>\n",
              "      <th>Pressure3pm</th>\n",
              "      <th>Cloud9am</th>\n",
              "      <th>Cloud3pm</th>\n",
              "      <th>Temp9am</th>\n",
              "      <th>Temp3pm</th>\n",
              "      <th>RainToday</th>\n",
              "      <th>RISK_MM</th>\n",
              "      <th>RainTomorrow</th>\n",
              "    </tr>\n",
              "  </thead>\n",
              "  <tbody>\n",
              "    <tr>\n",
              "      <th>0</th>\n",
              "      <td>8.0</td>\n",
              "      <td>24.3</td>\n",
              "      <td>0.0</td>\n",
              "      <td>3.4</td>\n",
              "      <td>6.3</td>\n",
              "      <td>NW</td>\n",
              "      <td>30.0</td>\n",
              "      <td>SW</td>\n",
              "      <td>NW</td>\n",
              "      <td>6.0</td>\n",
              "      <td>20</td>\n",
              "      <td>68</td>\n",
              "      <td>29</td>\n",
              "      <td>1019.7</td>\n",
              "      <td>1015.0</td>\n",
              "      <td>7</td>\n",
              "      <td>7</td>\n",
              "      <td>14.4</td>\n",
              "      <td>23.6</td>\n",
              "      <td>No</td>\n",
              "      <td>3.6</td>\n",
              "      <td>Yes</td>\n",
              "    </tr>\n",
              "    <tr>\n",
              "      <th>1</th>\n",
              "      <td>14.0</td>\n",
              "      <td>26.9</td>\n",
              "      <td>3.6</td>\n",
              "      <td>4.4</td>\n",
              "      <td>9.7</td>\n",
              "      <td>ENE</td>\n",
              "      <td>39.0</td>\n",
              "      <td>E</td>\n",
              "      <td>W</td>\n",
              "      <td>4.0</td>\n",
              "      <td>17</td>\n",
              "      <td>80</td>\n",
              "      <td>36</td>\n",
              "      <td>1012.4</td>\n",
              "      <td>1008.4</td>\n",
              "      <td>5</td>\n",
              "      <td>3</td>\n",
              "      <td>17.5</td>\n",
              "      <td>25.7</td>\n",
              "      <td>Yes</td>\n",
              "      <td>3.6</td>\n",
              "      <td>Yes</td>\n",
              "    </tr>\n",
              "    <tr>\n",
              "      <th>2</th>\n",
              "      <td>13.7</td>\n",
              "      <td>23.4</td>\n",
              "      <td>3.6</td>\n",
              "      <td>5.8</td>\n",
              "      <td>3.3</td>\n",
              "      <td>NW</td>\n",
              "      <td>85.0</td>\n",
              "      <td>N</td>\n",
              "      <td>NNE</td>\n",
              "      <td>6.0</td>\n",
              "      <td>6</td>\n",
              "      <td>82</td>\n",
              "      <td>69</td>\n",
              "      <td>1009.5</td>\n",
              "      <td>1007.2</td>\n",
              "      <td>8</td>\n",
              "      <td>7</td>\n",
              "      <td>15.4</td>\n",
              "      <td>20.2</td>\n",
              "      <td>Yes</td>\n",
              "      <td>39.8</td>\n",
              "      <td>Yes</td>\n",
              "    </tr>\n",
              "    <tr>\n",
              "      <th>3</th>\n",
              "      <td>13.3</td>\n",
              "      <td>15.5</td>\n",
              "      <td>39.8</td>\n",
              "      <td>7.2</td>\n",
              "      <td>9.1</td>\n",
              "      <td>NW</td>\n",
              "      <td>54.0</td>\n",
              "      <td>WNW</td>\n",
              "      <td>W</td>\n",
              "      <td>30.0</td>\n",
              "      <td>24</td>\n",
              "      <td>62</td>\n",
              "      <td>56</td>\n",
              "      <td>1005.5</td>\n",
              "      <td>1007.0</td>\n",
              "      <td>2</td>\n",
              "      <td>7</td>\n",
              "      <td>13.5</td>\n",
              "      <td>14.1</td>\n",
              "      <td>Yes</td>\n",
              "      <td>2.8</td>\n",
              "      <td>Yes</td>\n",
              "    </tr>\n",
              "    <tr>\n",
              "      <th>4</th>\n",
              "      <td>7.6</td>\n",
              "      <td>16.1</td>\n",
              "      <td>2.8</td>\n",
              "      <td>5.6</td>\n",
              "      <td>10.6</td>\n",
              "      <td>SSE</td>\n",
              "      <td>50.0</td>\n",
              "      <td>SSE</td>\n",
              "      <td>ESE</td>\n",
              "      <td>20.0</td>\n",
              "      <td>28</td>\n",
              "      <td>68</td>\n",
              "      <td>49</td>\n",
              "      <td>1018.3</td>\n",
              "      <td>1018.5</td>\n",
              "      <td>7</td>\n",
              "      <td>7</td>\n",
              "      <td>11.1</td>\n",
              "      <td>15.4</td>\n",
              "      <td>Yes</td>\n",
              "      <td>0.0</td>\n",
              "      <td>No</td>\n",
              "    </tr>\n",
              "  </tbody>\n",
              "</table>\n",
              "</div>"
            ],
            "text/plain": [
              "   MinTemp  MaxTemp  Rainfall  ...  RainToday  RISK_MM RainTomorrow\n",
              "0      8.0     24.3       0.0  ...         No      3.6          Yes\n",
              "1     14.0     26.9       3.6  ...        Yes      3.6          Yes\n",
              "2     13.7     23.4       3.6  ...        Yes     39.8          Yes\n",
              "3     13.3     15.5      39.8  ...        Yes      2.8          Yes\n",
              "4      7.6     16.1       2.8  ...        Yes      0.0           No\n",
              "\n",
              "[5 rows x 22 columns]"
            ]
          },
          "metadata": {
            "tags": []
          },
          "execution_count": 6
        }
      ]
    },
    {
      "cell_type": "markdown",
      "metadata": {
        "id": "vEHCEo0xf7Ar",
        "colab_type": "text"
      },
      "source": [
        "#HANDLING CATEGORICAL DATA"
      ]
    },
    {
      "cell_type": "code",
      "metadata": {
        "id": "NSxPHOKrgH2a",
        "colab_type": "code",
        "colab": {
          "base_uri": "https://localhost:8080/",
          "height": 134
        },
        "outputId": "3400435a-56ef-4c17-8e2e-73c4c72936c4"
      },
      "source": [
        "import pandas as pd \n",
        "from sklearn.preprocessing import LabelEncoder\n",
        "dataset = pd.read_csv('weather.csv') \n",
        "x = dataset.iloc[:, :-1].values \n",
        "y = dataset.iloc[:, -1].values \n",
        "labelencoder_X = LabelEncoder()\n",
        "x[:,0] = labelencoder_X.fit_transform(x[:,0])\n",
        "x[:,1] = labelencoder_X.fit_transform(x[:,1])\n",
        "print(x)\n",
        "#Here we are using LabelEncoder"
      ],
      "execution_count": 7,
      "outputs": [
        {
          "output_type": "stream",
          "text": [
            "[[98 120 0.0 ... 23.6 'No' 3.6]\n",
            " [148 139 3.6 ... 25.7 'Yes' 3.6]\n",
            " [145 115 3.6 ... 20.2 'Yes' 39.8]\n",
            " ...\n",
            " [135 87 0.0 ... 18.3 'No' 0.0]\n",
            " [135 139 0.0 ... 25.9 'No' 0.0]\n",
            " [133 162 0.0 ... 28.6 'No' 0.0]]\n"
          ],
          "name": "stdout"
        }
      ]
    },
    {
      "cell_type": "code",
      "metadata": {
        "id": "uiNsj5JOjXt3",
        "colab_type": "code",
        "colab": {}
      },
      "source": [
        "x = dataset[['MinTemp','Rainfall','Evaporation','WindSpeed3pm','Humidity9am','Humidity3pm','Pressure9am','Pressure3pm','Cloud9am','Cloud3pm','Temp9am','Temp3pm','RISK_MM']]\n",
        "#separate the other attributes from the predicting attribute"
      ],
      "execution_count": 8,
      "outputs": []
    },
    {
      "cell_type": "code",
      "metadata": {
        "id": "nOJwVWFzjZeu",
        "colab_type": "code",
        "colab": {}
      },
      "source": [
        "y = dataset[['MaxTemp']]\n",
        "#separte the predicting attribute into Y for model training "
      ],
      "execution_count": 9,
      "outputs": []
    },
    {
      "cell_type": "markdown",
      "metadata": {
        "id": "0tBhuZ4whFcA",
        "colab_type": "text"
      },
      "source": [
        "#GRAPHS"
      ]
    },
    {
      "cell_type": "code",
      "metadata": {
        "id": "Nlwy7EyverPd",
        "colab_type": "code",
        "colab": {
          "base_uri": "https://localhost:8080/",
          "height": 295
        },
        "outputId": "c814ef19-0a28-419a-99d9-71db5cc96151"
      },
      "source": [
        "dataset.plot(x='MinTemp', y='MaxTemp' , style='o')\n",
        "plt.title('min vs max')\n",
        "plt.show()"
      ],
      "execution_count": 10,
      "outputs": [
        {
          "output_type": "display_data",
          "data": {
            "image/png": "[encoded data removed]",
            "text/plain": [
              "<Figure size 432x288 with 1 Axes>"
            ]
          },
          "metadata": {
            "tags": [],
            "needs_background": "light"
          }
        }
      ]
    },
    {
      "cell_type": "code",
      "metadata": {
        "id": "id4W7kpqerPk",
        "colab_type": "code",
        "colab": {
          "base_uri": "https://localhost:8080/",
          "height": 606
        },
        "outputId": "599341e5-4678-4fc0-c554-caaa3ee38af8"
      },
      "source": [
        "plt.figure(figsize=(15,10))\n",
        "plt.tight_layout()\n",
        "seaborn.distplot(dataset['MaxTemp'])\n",
        "plt.show()"
      ],
      "execution_count": 11,
      "outputs": [
        {
          "output_type": "display_data",
          "data": {
            "image/png": "[encoded data removed]",
            "text/plain": [
              "<Figure size 1080x720 with 1 Axes>"
            ]
          },
          "metadata": {
            "tags": [],
            "needs_background": "light"
          }
        }
      ]
    },
    {
      "cell_type": "markdown",
      "metadata": {
        "id": "sjGL84wcg317",
        "colab_type": "text"
      },
      "source": [
        "#SPLITTING OF DATASET INTO TRAIN AND TEST SET"
      ]
    },
    {
      "cell_type": "code",
      "metadata": {
        "id": "QW3WnnuberPp",
        "colab_type": "code",
        "colab": {}
      },
      "source": [
        "x_train,x_test,y_train,y_test = train_test_split(x,y,test_size=0.2, random_state=0)"
      ],
      "execution_count": 12,
      "outputs": []
    },
    {
      "cell_type": "markdown",
      "metadata": {
        "id": "NrH-Vr5khWpc",
        "colab_type": "text"
      },
      "source": [
        "#NORMALIZING DATA"
      ]
    },
    {
      "cell_type": "code",
      "metadata": {
        "id": "7g_Ms5L1hb9l",
        "colab_type": "code",
        "colab": {
          "base_uri": "https://localhost:8080/",
          "height": 1000
        },
        "outputId": "34ec7618-4937-4606-b2ee-a72dc7af84b7"
      },
      "source": [
        "# data normalization with sklearn\n",
        "from sklearn.preprocessing import MinMaxScaler\n",
        "\n",
        "# fit scaler on training data\n",
        "norm = MinMaxScaler().fit(x_train)\n",
        "\n",
        "# transform training data\n",
        "X_train_norm = norm.transform(x_train)\n",
        "\n",
        "# transform testing data\n",
        "X_test_norm = norm.transform(x_test)\n",
        "\n",
        "print(X_train_norm)\n",
        "print(X_test_norm)"
      ],
      "execution_count": 13,
      "outputs": [
        {
          "output_type": "stream",
          "text": [
            "[[0.80916031 0.         0.91176471 ... 0.77642276 0.58503401 0.        ]\n",
            " [0.2480916  0.         0.08823529 ... 0.2601626  0.32312925 0.        ]\n",
            " [0.20610687 0.         0.26470588 ... 0.36178862 0.33333333 0.        ]\n",
            " ...\n",
            " [0.69847328 0.         0.35294118 ... 0.70325203 0.74489796 0.        ]\n",
            " [0.48854962 0.         0.47058824 ... 0.61788618 0.5        0.        ]\n",
            " [0.29389313 0.         0.19117647 ... 0.42682927 0.5        0.        ]]\n",
            "[[ 0.61450382  0.          0.39705882  0.13461538  0.50819672  0.22891566\n",
            "   0.60459184  0.5467033   0.125       0.125       0.60569106  0.65306122\n",
            "   0.        ]\n",
            " [ 0.13358779  0.          0.02941176  0.46153846  1.          0.5060241\n",
            "   0.59183673  0.46978022  0.875       0.375       0.04878049  0.20068027\n",
            "   0.        ]\n",
            " [ 0.79389313  0.13567839  0.45588235  0.13461538  0.90163934  0.87951807\n",
            "   0.34693878  0.32417582  1.          1.          0.67073171  0.50680272\n",
            "   0.03517588]\n",
            " [ 0.70992366  0.00502513  0.47058824  0.32692308  0.52459016  0.5060241\n",
            "   0.625       0.5989011   0.875       0.875       0.66666667  0.54761905\n",
            "   0.        ]\n",
            " [ 0.77862595  0.          0.69117647  0.36538462  0.40983607  0.5060241\n",
            "   0.53571429  0.52197802  1.          1.          0.7195122   0.48639456\n",
            "   0.47236181]\n",
            " [ 0.45801527  0.          0.44117647  0.63461538  0.29508197  0.40963855\n",
            "   0.62244898  0.52747253  0.5         0.875       0.65853659  0.61564626\n",
            "   0.33165829]\n",
            " [ 0.88931298  0.          0.66176471  0.25        0.49180328  0.19277108\n",
            "   0.54846939  0.46428571  0.125       0.75        0.89837398  0.95238095\n",
            "   0.13065327]\n",
            " [ 0.16793893  0.          0.19117647  0.42307692  0.75409836  0.24096386\n",
            "   0.55102041  0.46978022  0.875       0.875       0.25609756  0.3537415\n",
            "   0.02512563]\n",
            " [ 0.33587786  0.          0.23529412  0.46153846  0.54098361  0.45783133\n",
            "   0.79846939  0.77472527  0.125       0.125       0.26829268  0.2585034\n",
            "   0.        ]\n",
            " [ 0.4351145   0.00502513  0.29411765  0.5         0.40983607  0.40963855\n",
            "   0.71683673  0.6978022   0.5         0.75        0.5         0.41496599\n",
            "   0.        ]\n",
            " [ 0.49618321  0.26130653  0.36764706  0.32692308  0.32786885  0.25301205\n",
            "   0.48469388  0.48626374  0.625       0.125       0.42682927  0.39795918\n",
            "   0.        ]\n",
            " [ 0.69847328  0.          0.58823529  0.32692308  0.63934426  0.59036145\n",
            "   0.53316327  0.61813187  0.875       1.          0.53658537  0.29931973\n",
            "   0.        ]\n",
            " [ 0.29007634  0.48241206  0.11764706  0.59615385  0.6557377   0.51807229\n",
            "   0.26530612  0.37087912  0.875       0.375       0.30487805  0.20748299\n",
            "   0.        ]\n",
            " [ 0.29007634  0.          0.19117647  0.57692308  0.32786885  0.3373494\n",
            "   0.70663265  0.7032967   0.125       0.125       0.2601626   0.18027211\n",
            "   0.        ]\n",
            " [ 0.14503817  0.          0.19117647  0.5         0.63934426  0.12048193\n",
            "   0.69897959  0.6456044   0.625       0.875       0.19105691  0.36394558\n",
            "   0.        ]\n",
            " [ 0.28625954  0.00502513  0.07352941  0.13461538  0.8852459   0.38554217\n",
            "   0.90816327  0.9010989   0.25        0.125       0.2195122   0.41496599\n",
            "   0.        ]\n",
            " [ 0.29389313  0.          0.20588235  0.57692308  0.19672131  0.1686747\n",
            "   0.63520408  0.57692308  1.          1.          0.34552846  0.2755102\n",
            "   0.        ]\n",
            " [ 0.54961832  0.          0.41176471  0.25        0.45901639  0.28915663\n",
            "   0.43622449  0.4010989   0.125       0.875       0.56504065  0.55442177\n",
            "   0.        ]\n",
            " [ 0.48473282  0.          0.07352941  0.36538462  0.60655738  0.62650602\n",
            "   0.89030612  0.8543956   0.875       0.875       0.48780488  0.31972789\n",
            "   0.15577889]\n",
            " [ 0.64122137  0.          0.36764706  0.5         0.62295082  0.26506024\n",
            "   0.44132653  0.34615385  0.875       0.875       0.69105691  0.76530612\n",
            "   0.        ]\n",
            " [ 0.64503817  0.          0.19117647  0.32692308  0.54098361  0.61445783\n",
            "   0.69132653  0.68681319  0.875       1.          0.56504065  0.43537415\n",
            "   0.        ]\n",
            " [ 0.36641221  0.0201005   0.10294118  0.5         0.54098361  0.48192771\n",
            "   0.30357143  0.31593407  0.75        0.75        0.31707317  0.27891156\n",
            "   0.        ]\n",
            " [ 0.79007634  0.          0.69117647  0.42307692  0.27868852  0.06024096\n",
            "   0.53316327  0.5         0.125       0.125       0.94715447  0.99319728\n",
            "   0.        ]\n",
            " [ 0.20229008  0.          0.16176471  0.46153846  0.36065574  0.27710843\n",
            "   0.78571429  0.75824176  0.875       0.875       0.31707317  0.24829932\n",
            "   0.        ]\n",
            " [ 0.19465649  0.          0.23529412  0.38461538  0.59016393  0.38554217\n",
            "   0.79336735  0.71703297  0.875       0.75        0.29268293  0.32312925\n",
            "   0.        ]\n",
            " [ 0.10305344  0.00502513  0.08823529  0.13461538  0.80327869  0.4939759\n",
            "   0.78061224  0.71153846  0.125       0.875       0.02845528  0.16326531\n",
            "   0.        ]\n",
            " [ 0.83206107  0.          0.72058824  0.17307692  0.63934426  0.37349398\n",
            "   0.48979592  0.45604396  0.875       0.125       0.73170732  0.77891156\n",
            "   0.        ]\n",
            " [ 0.7519084   0.          0.67647059  0.57692308 -0.03278689  0.14457831\n",
            "   0.35714286  0.35989011  0.125       0.125       0.82520325  0.60884354\n",
            "   0.        ]\n",
            " [ 0.6870229   0.16582915  0.22058824  0.53846154  0.6557377   0.34939759\n",
            "   0.30102041  0.1510989   0.625       0.625       0.66666667  0.7585034\n",
            "   0.        ]\n",
            " [ 0.25954198  0.          0.16176471  0.17307692  0.68852459  0.3373494\n",
            "   0.68112245  0.63736264  0.125       0.125       0.33739837  0.53741497\n",
            "   0.        ]\n",
            " [ 0.58778626  0.          0.42647059  0.13461538  0.55737705  0.18072289\n",
            "   0.62755102  0.58791209  0.125       0.875       0.6300813   0.74489796\n",
            "   0.        ]\n",
            " [ 0.54198473  0.          0.35294118  0.25        0.59016393  0.25301205\n",
            "   0.5         0.40934066  0.125       0.625       0.58943089  0.64965986\n",
            "   0.11055276]\n",
            " [ 0.67557252  0.          0.60294118  0.17307692  0.52459016  0.10843373\n",
            "   0.54591837  0.43956044  0.          0.375       0.77235772  0.8707483\n",
            "   0.        ]\n",
            " [ 0.83206107  0.10050251  0.29411765  0.25        0.62295082  0.34939759\n",
            "   0.46683673  0.4010989   1.          0.125       0.72764228  0.72108844\n",
            "   0.        ]\n",
            " [ 0.63358779  0.08542714  0.58823529  0.21153846  0.47540984  0.46987952\n",
            "   0.60969388  0.61263736  1.          0.375       0.5         0.54081633\n",
            "   0.        ]\n",
            " [ 0.4389313   0.          0.41176471  0.46153846  0.52459016  0.53012048\n",
            "   0.69642857  0.68406593  0.875       0.625       0.43902439  0.32993197\n",
            "   0.00502513]\n",
            " [ 0.72900763  0.          0.82352941  0.17307692  0.09836066  0.08433735\n",
            "   0.57908163  0.51648352  0.          0.125       0.88617886  0.92176871\n",
            "   0.        ]\n",
            " [ 0.70992366  0.00502513  0.55882353  0.53846154  0.68852459  0.12048193\n",
            "   0.64030612  0.57142857  0.25        0.625       0.70731707  0.8707483\n",
            "   0.        ]\n",
            " [ 0.11832061  0.          0.08823529  0.53846154  0.49180328  0.24096386\n",
            "   0.74489796  0.7967033   0.125       0.125       0.13414634  0.20068027\n",
            "   0.        ]\n",
            " [ 0.83969466  0.          0.44117647  0.5         0.29508197  0.38554217\n",
            "   0.50255102  0.44505495  0.75        0.875       0.82113821  0.63945578\n",
            "   0.        ]\n",
            " [ 0.19083969  0.          0.10294118  0.28846154  0.70491803  0.42168675\n",
            "   0.73979592  0.68681319  0.125       0.625       0.24796748  0.41156463\n",
            "   0.09547739]\n",
            " [ 0.22137405  0.          0.11764706  0.11538462  0.70491803  0.38554217\n",
            "   0.69387755  0.56868132  0.875       1.          0.24796748  0.35034014\n",
            "   0.10050251]\n",
            " [ 0.16793893  0.          0.14705882  0.13461538  0.75409836  0.30120482\n",
            "   0.85969388  0.84065934  0.25        0.375       0.18699187  0.44557823\n",
            "   0.        ]\n",
            " [ 0.2519084   0.          0.04411765  0.63461538  0.60655738  0.72289157\n",
            "   0.36479592  0.34615385  0.375       0.625       0.30894309  0.10544218\n",
            "   0.03015075]\n",
            " [ 0.78625954  0.          0.63235294  0.59615385  0.36065574  0.15662651\n",
            "   0.40561224  0.26648352  0.125       0.625       0.89837398  0.94217687\n",
            "   0.01005025]\n",
            " [ 0.35877863  0.18592965  0.17647059  0.53846154  0.36065574  0.25301205\n",
            "   0.68112245  0.68406593  0.125       0.125       0.35365854  0.31292517\n",
            "   0.        ]\n",
            " [ 0.22519084  0.          0.14705882  0.13461538  1.          0.65060241\n",
            "   0.91326531  0.88186813  0.875       0.875       0.18292683  0.29931973\n",
            "   0.        ]\n",
            " [ 0.3778626   0.          0.05882353  0.11538462  0.7704918   0.65060241\n",
            "   0.8622449   0.83241758  0.875       0.875       0.39837398  0.3537415\n",
            "   0.0201005 ]\n",
            " [ 0.14503817  0.          0.14705882  0.17307692  0.85245902  0.3373494\n",
            "   0.83163265  0.8021978   0.5         0.375       0.08130081  0.31972789\n",
            "   0.        ]\n",
            " [ 0.66412214  0.          0.52941176  0.28846154  0.50819672  0.3253012\n",
            "   0.39030612  0.29120879  0.875       0.25        0.75203252  0.73809524\n",
            "   0.        ]\n",
            " [ 0.41603053  0.          0.26470588  0.42307692  0.67213115  0.43373494\n",
            "   0.74744898  0.73351648  0.875       0.75        0.50406504  0.42857143\n",
            "   0.        ]\n",
            " [ 0.36641221  0.          0.13235294  0.25        0.62295082  0.68674699\n",
            "   0.96428571  0.95879121  0.875       0.875       0.31707317  0.26870748\n",
            "   0.        ]\n",
            " [ 0.23664122  0.          0.13235294  0.28846154  0.8852459   0.48192771\n",
            "   0.72959184  0.69505495  0.875       0.875       0.2195122   0.24489796\n",
            "   0.        ]\n",
            " [ 0.47328244  0.05025126  0.22058824  0.28846154  0.95081967  0.51807229\n",
            "   0.55867347  0.46703297  0.625       0.25        0.43089431  0.47619048\n",
            "   0.13065327]\n",
            " [ 0.8129771   0.05527638  0.38235294  0.21153846  0.57377049  0.43373494\n",
            "   0.57142857  0.55769231  1.          0.875       0.66666667  0.60544218\n",
            "   0.        ]\n",
            " [ 0.57633588  0.          0.36764706  0.36538462  0.40983607  0.26506024\n",
            "   0.68112245  0.58241758  0.125       0.125       0.61788618  0.63945578\n",
            "   0.        ]\n",
            " [ 0.55343511  0.43718593  0.55882353  0.38461538  0.3442623   0.43373494\n",
            "   0.33163265  0.33791209  0.125       0.875       0.60162602  0.46598639\n",
            "   0.        ]\n",
            " [ 0.72900763  0.          0.45588235  0.07692308  0.14754098  0.02409639\n",
            "   0.66326531  0.61813187  0.625       0.25        0.86585366  0.98639456\n",
            "   0.        ]\n",
            " [ 0.88549618  0.          0.75        0.21153846  0.55737705  0.10843373\n",
            "   0.53316327  0.48901099  0.125       0.125       0.80081301  0.92517007\n",
            "   0.        ]\n",
            " [ 0.88549618  0.          0.75        0.38461538  0.32786885  0.59036145\n",
            "   0.30612245  0.25549451  0.75        0.875       0.99186992  0.62585034\n",
            "   0.12060302]\n",
            " [ 0.32442748  0.          0.48529412  0.38461538  0.21311475  0.44578313\n",
            "   0.39795918  0.26648352  0.125       1.          0.64227642  0.54081633\n",
            "   0.43718593]\n",
            " [ 0.14122137  0.03517588  0.04411765  0.71153846  0.59016393  0.51807229\n",
            "   0.44897959  0.49725275  0.25        0.5         0.22357724  0.15306122\n",
            "   0.        ]\n",
            " [ 0.51908397  0.          0.39705882  0.46153846  0.44262295  0.53012048\n",
            "   0.75765306  0.75274725  0.75        0.875       0.48780488  0.3537415\n",
            "   0.        ]\n",
            " [ 0.59923664  0.          0.27941176  0.32692308  0.44262295  0.45783133\n",
            "   0.28571429  0.27472527  0.75        0.75        0.55691057  0.46258503\n",
            "   0.        ]\n",
            " [ 0.5         0.43718593  0.45588235  0.42307692  0.57377049  0.37349398\n",
            "   0.51530612  0.57692308  0.875       0.125       0.32113821  0.31292517\n",
            "   0.        ]\n",
            " [ 0.22137405  0.          0.44117647  0.17307692  0.50819672  0.10843373\n",
            "   0.75765306  0.75274725  0.          0.125       0.32520325  0.46598639\n",
            "   0.        ]\n",
            " [ 0.7480916   0.          0.51470588  0.92307692  0.49180328  0.61445783\n",
            "   0.53061224  0.48076923  0.875       0.875       0.80081301  0.47278912\n",
            "   0.36180905]\n",
            " [ 0.48473282  0.          0.44117647  0.21153846  0.44262295  0.28915663\n",
            "   0.76020408  0.72527473  0.          0.25        0.49186992  0.57823129\n",
            "   0.        ]\n",
            " [ 0.19465649  0.          0.08823529  0.21153846  0.78688525  0.34939759\n",
            "   0.79336735  0.82967033  0.125       0.125       0.19512195  0.31972789\n",
            "   0.        ]\n",
            " [ 0.46564885  0.          0.29411765  0.17307692  0.49180328  0.38554217\n",
            "   0.80867347  0.78571429  0.625       0.5         0.55691057  0.43197279\n",
            "   0.        ]\n",
            " [ 0.8129771   0.          0.89705882  0.36538462  0.52459016  0.53012048\n",
            "   0.40306122  0.42582418  1.          0.75        0.68699187  0.56122449\n",
            "   0.        ]\n",
            " [ 0.52290076  0.          0.20588235  0.42307692  0.50819672  0.45783133\n",
            "   0.84183673  0.84065934  0.75        0.875       0.54878049  0.34353741\n",
            "   0.        ]\n",
            " [ 0.6870229   0.          0.55882353  0.5         0.31147541  0.22891566\n",
            "   0.27806122  0.23626374  0.125       0.125       0.63414634  0.65986395\n",
            "   0.        ]\n",
            " [ 0.17938931  0.          0.17647059  0.5         0.45901639  0.37349398\n",
            "   0.56122449  0.54945055  1.          0.625       0.27642276  0.19047619\n",
            "   0.        ]]\n"
          ],
          "name": "stdout"
        }
      ]
    },
    {
      "cell_type": "markdown",
      "metadata": {
        "id": "KPutFJGTmNo5",
        "colab_type": "text"
      },
      "source": [
        "#ALGORITHM"
      ]
    },
    {
      "cell_type": "code",
      "metadata": {
        "id": "vFi-tcMqerPu",
        "colab_type": "code",
        "colab": {}
      },
      "source": [
        "model =LinearRegression()\n",
        "#loading the model constructor"
      ],
      "execution_count": 14,
      "outputs": []
    },
    {
      "cell_type": "markdown",
      "metadata": {
        "id": "b3RgJD5smZrs",
        "colab_type": "text"
      },
      "source": [
        "#FITTING OF TRAINING DATA"
      ]
    },
    {
      "cell_type": "code",
      "metadata": {
        "id": "UdX5CEPmmGrQ",
        "colab_type": "code",
        "colab": {
          "base_uri": "https://localhost:8080/",
          "height": 34
        },
        "outputId": "fb156080-8f15-4d2a-bb52-36d525ea2ae7"
      },
      "source": [
        "model.fit(x_train,y_train)"
      ],
      "execution_count": 15,
      "outputs": [
        {
          "output_type": "execute_result",
          "data": {
            "text/plain": [
              "LinearRegression(copy_X=True, fit_intercept=True, n_jobs=None, normalize=False)"
            ]
          },
          "metadata": {
            "tags": []
          },
          "execution_count": 15
        }
      ]
    },
    {
      "cell_type": "code",
      "metadata": {
        "id": "jXIwak09erP0",
        "colab_type": "code",
        "colab": {
          "base_uri": "https://localhost:8080/",
          "height": 34
        },
        "outputId": "3e9ab3aa-529c-45fc-b53a-17d4e028db0d"
      },
      "source": [
        "print('Intercept is :',model.intercept_)"
      ],
      "execution_count": 16,
      "outputs": [
        {
          "output_type": "stream",
          "text": [
            "Intercept is : [27.01321134]\n"
          ],
          "name": "stdout"
        }
      ]
    },
    {
      "cell_type": "code",
      "metadata": {
        "id": "gbupPhPverP6",
        "colab_type": "code",
        "colab": {
          "base_uri": "https://localhost:8080/",
          "height": 84
        },
        "outputId": "4e970e00-284d-439d-980b-e5f71f12bd38"
      },
      "source": [
        "print('Coefficient is :' ,model.coef_)"
      ],
      "execution_count": 17,
      "outputs": [
        {
          "output_type": "stream",
          "text": [
            "Coefficient is : [[-2.24072168e-02 -1.15517900e-02  5.91958657e-02 -8.58077490e-03\n",
            "   6.70848785e-04  1.80128608e-02  1.81056309e-02 -4.41630720e-02\n",
            "  -2.94378789e-02  2.30080630e-02  9.33064920e-02  9.39000870e-01\n",
            "  -1.40109918e-02]]\n"
          ],
          "name": "stdout"
        }
      ]
    },
    {
      "cell_type": "markdown",
      "metadata": {
        "id": "o-cluciU1p2t",
        "colab_type": "text"
      },
      "source": [
        "#PREDICTIONS FOR OUR PROBLEM STATEMENT WITH THE RELATED GRAPHS"
      ]
    },
    {
      "cell_type": "code",
      "metadata": {
        "id": "BybKCPF3erP_",
        "colab_type": "code",
        "colab": {}
      },
      "source": [
        "predictions = model.predict(x_test)"
      ],
      "execution_count": 18,
      "outputs": []
    },
    {
      "cell_type": "code",
      "metadata": {
        "id": "HW2LsP0verQD",
        "colab_type": "code",
        "colab": {
          "base_uri": "https://localhost:8080/",
          "height": 282
        },
        "outputId": "cff43f36-cf25-4855-8bd1-1040ee3e8050"
      },
      "source": [
        "plt.scatter(y_test,predictions)\n",
        "#to visualise the predictions and the test Y !!it is almost forming a linear line with less deviation"
      ],
      "execution_count": 19,
      "outputs": [
        {
          "output_type": "execute_result",
          "data": {
            "text/plain": [
              "<matplotlib.collections.PathCollection at 0x7f5e3f990518>"
            ]
          },
          "metadata": {
            "tags": []
          },
          "execution_count": 19
        },
        {
          "output_type": "display_data",
          "data": {
            "image/png": "[encoded data removed]",
            "text/plain": [
              "<Figure size 432x288 with 1 Axes>"
            ]
          },
          "metadata": {
            "tags": [],
            "needs_background": "light"
          }
        }
      ]
    },
    {
      "cell_type": "code",
      "metadata": {
        "id": "0SzhhVWL3fD4",
        "colab_type": "code",
        "colab": {
          "base_uri": "https://localhost:8080/",
          "height": 282
        },
        "outputId": "ab65ca07-0183-4ec1-a391-97ac89a86969"
      },
      "source": [
        "import seaborn as sns\n",
        "sns.distplot((y_test-predictions))"
      ],
      "execution_count": 21,
      "outputs": [
        {
          "output_type": "execute_result",
          "data": {
            "text/plain": [
              "<matplotlib.axes._subplots.AxesSubplot at 0x7f5e3f960978>"
            ]
          },
          "metadata": {
            "tags": []
          },
          "execution_count": 21
        },
        {
          "output_type": "display_data",
          "data": {
            "image/png": "[encoded data removed]",
            "text/plain": [
              "<Figure size 432x288 with 1 Axes>"
            ]
          },
          "metadata": {
            "tags": [],
            "needs_background": "light"
          }
        }
      ]
    },
    {
      "cell_type": "markdown",
      "metadata": {
        "id": "SB4WdwNj3vAA",
        "colab_type": "text"
      },
      "source": [
        "#EVALUATION"
      ]
    },
    {
      "cell_type": "code",
      "metadata": {
        "id": "j_oc2FDOerQR",
        "colab_type": "code",
        "colab": {
          "base_uri": "https://localhost:8080/",
          "height": 34
        },
        "outputId": "55da972d-5dbf-4cfd-9d5d-1557dfb87c09"
      },
      "source": [
        "cutoff = 0.7                              # decide on a cutoff limit\n",
        "y_pred_classes = np.zeros_like(predictions)    # initialise a matrix full with zeros\n",
        "y_pred_classes[predictions > cutoff] = 1       # add a 1 if the cutoff was breached\n",
        "\n",
        "y_test_classes = np.zeros_like(predictions)\n",
        "y_test_classes[y_test > cutoff] = 1\n",
        "print(metrics.accuracy_score(y_test_classes, y_pred_classes))"
      ],
      "execution_count": 22,
      "outputs": [
        {
          "output_type": "stream",
          "text": [
            "1.0\n"
          ],
          "name": "stdout"
        }
      ]
    },
    {
      "cell_type": "markdown",
      "metadata": {
        "id": "1MtwOs8s32yH",
        "colab_type": "text"
      },
      "source": [
        "#SAVING THE MODEL USING PICKLE LIBRARY"
      ]
    },
    {
      "cell_type": "code",
      "metadata": {
        "id": "n566N2XPerQX",
        "colab_type": "code",
        "colab": {
          "base_uri": "https://localhost:8080/",
          "height": 1000
        },
        "outputId": "3259e831-a670-4619-b9d0-9b16e1241b6a"
      },
      "source": [
        "import pickle \n",
        "\n",
        "# Save the trained model as a pickle string. \n",
        "saved_model = pickle.dumps(model) \n",
        "\n",
        "# Load the pickled model \n",
        "model_from_pickle = pickle.loads(saved_model) \n",
        "\n",
        "# Use the loaded pickled model to make predictions \n",
        "model_from_pickle.predict(x_test) \n"
      ],
      "execution_count": 23,
      "outputs": [
        {
          "output_type": "execute_result",
          "data": {
            "text/plain": [
              "array([[25.44700308],\n",
              "       [11.9388849 ],\n",
              "       [22.5372776 ],\n",
              "       [22.89808226],\n",
              "       [21.23733704],\n",
              "       [24.60953715],\n",
              "       [34.46243654],\n",
              "       [16.41018446],\n",
              "       [13.78225306],\n",
              "       [18.61815712],\n",
              "       [17.75674281],\n",
              "       [15.90624065],\n",
              "       [12.34298165],\n",
              "       [11.40457032],\n",
              "       [16.23214677],\n",
              "       [17.78342743],\n",
              "       [14.08921366],\n",
              "       [22.96970811],\n",
              "       [15.86811827],\n",
              "       [28.76592148],\n",
              "       [19.47311896],\n",
              "       [14.69689076],\n",
              "       [35.38859448],\n",
              "       [13.33304387],\n",
              "       [15.66103816],\n",
              "       [11.05611909],\n",
              "       [29.4352922 ],\n",
              "       [24.65353373],\n",
              "       [28.63772185],\n",
              "       [21.71844991],\n",
              "       [28.09571267],\n",
              "       [25.48769807],\n",
              "       [31.97848987],\n",
              "       [27.41169041],\n",
              "       [22.27130603],\n",
              "       [16.32093746],\n",
              "       [33.59486365],\n",
              "       [31.47504019],\n",
              "       [11.45345014],\n",
              "       [25.61349334],\n",
              "       [18.10806484],\n",
              "       [16.48187085],\n",
              "       [18.66216898],\n",
              "       [10.26467312],\n",
              "       [34.26452538],\n",
              "       [15.04884498],\n",
              "       [15.03057954],\n",
              "       [16.8981038 ],\n",
              "       [14.98265169],\n",
              "       [28.38829855],\n",
              "       [18.95000726],\n",
              "       [14.29832337],\n",
              "       [13.4380188 ],\n",
              "       [20.39037123],\n",
              "       [24.28395057],\n",
              "       [25.04207264],\n",
              "       [20.7061665 ],\n",
              "       [34.76334873],\n",
              "       [33.36153764],\n",
              "       [26.30861829],\n",
              "       [23.09528499],\n",
              "       [10.93102124],\n",
              "       [17.03925932],\n",
              "       [20.42337808],\n",
              "       [15.11897587],\n",
              "       [19.51455382],\n",
              "       [20.97153455],\n",
              "       [23.16053318],\n",
              "       [15.1365677 ],\n",
              "       [19.16427736],\n",
              "       [23.69260934],\n",
              "       [16.57156336],\n",
              "       [25.88398072],\n",
              "       [11.90054162]])"
            ]
          },
          "metadata": {
            "tags": []
          },
          "execution_count": 23
        }
      ]
    },
    {
      "cell_type": "markdown",
      "metadata": {
        "id": "mFWoLpNq4IyM",
        "colab_type": "text"
      },
      "source": [
        "#ACCURACY w.r.t TRAINED DATA"
      ]
    },
    {
      "cell_type": "markdown",
      "metadata": {
        "id": "wO8TkezT4Nn_",
        "colab_type": "text"
      },
      "source": [
        "Confusion Matrix"
      ]
    },
    {
      "cell_type": "code",
      "metadata": {
        "id": "FQI1Tybq7bNc",
        "colab_type": "code",
        "colab": {}
      },
      "source": [
        "y_train = y_train[0:74]"
      ],
      "execution_count": 24,
      "outputs": []
    },
    {
      "cell_type": "code",
      "metadata": {
        "id": "sJoV2M6gerQb",
        "colab_type": "code",
        "colab": {
          "base_uri": "https://localhost:8080/",
          "height": 34
        },
        "outputId": "d2918209-64f6-4f39-e6b1-01728c038288"
      },
      "source": [
        "from sklearn.metrics import confusion_matrix\n",
        "\n",
        "cutoff = 0.7                                   # decide on a cutoff limit\n",
        "y_pred_classes = np.zeros_like(predictions)    # initialise a matrix full with zeros\n",
        "y_pred_classes[predictions > cutoff] = 1       # add a 1 if the cutoff was breached\n",
        "\n",
        "y_train_classes = np.zeros_like(predictions)\n",
        "y_train_classes[y_train > cutoff] = 1\n",
        "\n",
        "results =confusion_matrix(y_train_classes, y_pred_classes)\n",
        "print(results)"
      ],
      "execution_count": 25,
      "outputs": [
        {
          "output_type": "stream",
          "text": [
            "[[74]]\n"
          ],
          "name": "stdout"
        }
      ]
    },
    {
      "cell_type": "markdown",
      "metadata": {
        "id": "j08PP52c62Ix",
        "colab_type": "text"
      },
      "source": [
        "Precision, Recall, Support, Fscore"
      ]
    },
    {
      "cell_type": "code",
      "metadata": {
        "id": "Scg5pgNBerQf",
        "colab_type": "code",
        "colab": {
          "base_uri": "https://localhost:8080/",
          "height": 34
        },
        "outputId": "75596708-647a-4706-a8f3-e0e642a26f28"
      },
      "source": [
        "import numpy\n",
        "from sklearn.metrics import precision_recall_fscore_support\n",
        "\n",
        "cutoff = 0.7                              # decide on a cutoff limit\n",
        "y_pred_classes = np.zeros_like(predictions)    # initialise a matrix full with zeros\n",
        "y_pred_classes[predictions > cutoff] = 1       # add a 1 if the cutoff was breached\n",
        "\n",
        "y_train_classes = np.zeros_like(predictions)\n",
        "y_train_classes[y_train > cutoff] = 1\n",
        "\n",
        "precision_recall_fscore_support(y_train_classes, y_pred_classes, average='macro')"
      ],
      "execution_count": 26,
      "outputs": [
        {
          "output_type": "execute_result",
          "data": {
            "text/plain": [
              "(1.0, 1.0, 1.0, None)"
            ]
          },
          "metadata": {
            "tags": []
          },
          "execution_count": 26
        }
      ]
    },
    {
      "cell_type": "markdown",
      "metadata": {
        "id": "R6zsRmL569BU",
        "colab_type": "text"
      },
      "source": [
        "#ACCURACY w.r.t TEST DATA"
      ]
    },
    {
      "cell_type": "markdown",
      "metadata": {
        "id": "tsgObRRB7AI0",
        "colab_type": "text"
      },
      "source": [
        "Confusion Matrix"
      ]
    },
    {
      "cell_type": "code",
      "metadata": {
        "id": "Siyi3_Xi7DTP",
        "colab_type": "code",
        "colab": {
          "base_uri": "https://localhost:8080/",
          "height": 34
        },
        "outputId": "064e274d-136d-4f2f-9df2-acd1b169c80f"
      },
      "source": [
        "cutoff = 0.7                              # decide on a cutoff limit\n",
        "y_pred_classes = np.zeros_like(predictions)    # initialise a matrix full with zeros\n",
        "y_pred_classes[predictions > cutoff] = 1       # add a 1 if the cutoff was breached\n",
        "\n",
        "y_test_classes = np.zeros_like(predictions)\n",
        "y_test_classes[y_test > cutoff] = 1\n",
        "\n",
        "results =confusion_matrix(y_test_classes, y_pred_classes)\n",
        "print(results)"
      ],
      "execution_count": 27,
      "outputs": [
        {
          "output_type": "stream",
          "text": [
            "[[74]]\n"
          ],
          "name": "stdout"
        }
      ]
    },
    {
      "cell_type": "markdown",
      "metadata": {
        "id": "8SdwrK2C7JK_",
        "colab_type": "text"
      },
      "source": [
        "Precision, Recall, Support, Fscore"
      ]
    },
    {
      "cell_type": "code",
      "metadata": {
        "id": "E3YP_Nn87L3X",
        "colab_type": "code",
        "colab": {
          "base_uri": "https://localhost:8080/",
          "height": 34
        },
        "outputId": "763abdd7-17cd-4720-fcab-8c49e099e0fe"
      },
      "source": [
        "import numpy\n",
        "from sklearn.metrics import precision_recall_fscore_support\n",
        "\n",
        "cutoff = 0.7                              # decide on a cutoff limit\n",
        "y_pred_classes = np.zeros_like(predictions)    # initialise a matrix full with zeros\n",
        "y_pred_classes[predictions > cutoff] = 1       # add a 1 if the cutoff was breached\n",
        "\n",
        "y_test_classes = np.zeros_like(predictions)\n",
        "y_test_classes[y_test > cutoff] = 1\n",
        "\n",
        "precision_recall_fscore_support(y_test_classes, y_pred_classes, average='macro')"
      ],
      "execution_count": 28,
      "outputs": [
        {
          "output_type": "execute_result",
          "data": {
            "text/plain": [
              "(1.0, 1.0, 1.0, None)"
            ]
          },
          "metadata": {
            "tags": []
          },
          "execution_count": 28
        }
      ]
    }
  ]
}